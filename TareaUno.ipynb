{
 "cells": [
  {
   "cell_type": "code",
   "execution_count": 6,
   "metadata": {},
   "outputs": [
    {
     "data": {
      "text/plain": [
       "(2, 4, 6, 8, 10)"
      ]
     },
     "execution_count": 6,
     "metadata": {},
     "output_type": "execute_result"
    }
   ],
   "source": [
    "#programa que suma dos numeros de tuple\n",
    "import operator\n",
    "tupleOne = (1,2,3,4,5)\n",
    "tupleTwo = (1,2,3,4,5)\n",
    "tuple(map(operator.add,tupleOne,tupleTwo))\n",
    "#tuple(map(sum,zip(tupleOne,tupleTwo))) #the same as above"
   ]
  },
  {
   "cell_type": "code",
   "execution_count": 15,
   "metadata": {},
   "outputs": [
    {
     "name": "stdout",
     "output_type": "stream",
     "text": [
      "escribe el primer vector123\n",
      "escribe el segundo vector123\n",
      "tus vectores son:\n",
      " A:  ['1', '2', '3'] \n",
      " B:  ['1', '2', '3']\n",
      "El producto punto de tus vectores es: 14 .\n"
     ]
    }
   ],
   "source": [
    "#programa que pida valores de los vectores  realizar producto punto\n",
    "vector_a = input(\"escribe el primer vector\")\n",
    "vector_b = input(\"escribe el segundo vector\")\n",
    "Vector_A = list(vector_a)\n",
    "Vector_B = list(vector_b)\n",
    "\n",
    "print(\"tus vectores son:\\n A: \", Vector_A, \"\\n B: \", Vector_B )\n",
    "\n",
    "if len(Vector_A) == len(Vector_B):\n",
    "    pp_vector = 0\n",
    "    n = len(Vector_A)\n",
    "    for i in range(0,n):\n",
    "        pp_vector = pp_vector + int(Vector_A[i]) * int(Vector_B[i])\n",
    "        \n",
    "    print (\"El producto punto de tus vectores es:\", str(pp_vector),\".\")\n",
    "\n",
    "else:\n",
    "    print(\"tus vectores no son de la misma dimensión\")"
   ]
  },
  {
   "cell_type": "code",
   "execution_count": 37,
   "metadata": {},
   "outputs": [
    {
     "name": "stdout",
     "output_type": "stream",
     "text": [
      "write your name\n",
      "samantha\n",
      "['s', 4, 'm', 4, 'n', 't', 'h', 4]\n"
     ]
    }
   ],
   "source": [
    "#programa pide un nombre y cambia vocales por numeros utilizando diccionarios\n",
    "Alphabet = {\"a\":4,\"e\":3,\"i\":1,\"o\":0,\"u\":8,}\n",
    "keys = Alphabet.keys()\n",
    "name = list(input('write your name\\n'))\n",
    "\n",
    "Alphabet_set = set(Alphabet)\n",
    "name_set = set(name)\n",
    "\n",
    "x = 0\n",
    "for i in name:\n",
    "    if i in keys:\n",
    "        name[x] = Alphabet[i]\n",
    "    x += 1\n",
    "print(name)\n",
    "    \n"
   ]
  }
 ],
 "metadata": {
  "kernelspec": {
   "display_name": "Python 3",
   "language": "python",
   "name": "python3"
  },
  "language_info": {
   "codemirror_mode": {
    "name": "ipython",
    "version": 3
   },
   "file_extension": ".py",
   "mimetype": "text/x-python",
   "name": "python",
   "nbconvert_exporter": "python",
   "pygments_lexer": "ipython3",
   "version": "3.7.4"
  }
 },
 "nbformat": 4,
 "nbformat_minor": 2
}
