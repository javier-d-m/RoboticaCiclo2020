{
 "cells": [
  {
   "cell_type": "code",
   "execution_count": null,
   "metadata": {},
   "outputs": [],
   "source": [
    "if 5 > 10:\n",
    "    print ('Ya puedes tramitar tu licencia de conducir.')\n",
    "elif 10 < 12:\n",
    "    print('me amo')\n",
    "else:\n",
    "    print('aun no puedes. :(')"
   ]
  },
  {
   "cell_type": "code",
   "execution_count": null,
   "metadata": {},
   "outputs": [],
   "source": [
    "PesoToDollar = 0.054\n",
    "Money = input('inserte la cantidad en pesos a convertir a dolares\\n')\n",
    "Answer = float(Money)*PesoToDollar\n",
    "print(Answer)"
   ]
  },
  {
   "cell_type": "code",
   "execution_count": 2,
   "metadata": {},
   "outputs": [
    {
     "name": "stdout",
     "output_type": "stream",
     "text": [
      "escribe un numero15\n",
      "es impar :(\n"
     ]
    }
   ],
   "source": [
    "User_Answer = input('escribe un numero')\n",
    "number = int(User_Answer)\n",
    "if number % 2 == 0:\n",
    "    print('es par!')\n",
    "else:\n",
    "    print('es impar :(')"
   ]
  },
  {
   "cell_type": "code",
   "execution_count": 4,
   "metadata": {},
   "outputs": [
    {
     "name": "stdout",
     "output_type": "stream",
     "text": [
      "inserte numero uno2\n",
      "inserte numero dos4\n",
      "el numero 4  es mayor a el numero  2\n"
     ]
    }
   ],
   "source": [
    "x = input('inserte numero uno')\n",
    "y = input('inserte numero dos')\n",
    "if x == y:\n",
    "    print('los numeros valen lo mismo')\n",
    "elif x > y:\n",
    "    print('el numero', x, 'es mayor a el numero ', y)\n",
    "else:\n",
    "    print('el numero', y, ' es mayor a el numero ', x)"
   ]
  },
  {
   "cell_type": "code",
   "execution_count": 7,
   "metadata": {},
   "outputs": [
    {
     "name": "stdout",
     "output_type": "stream",
     "text": [
      "1\n",
      "2\n",
      "programa finalizado!!\n",
      "\n"
     ]
    }
   ],
   "source": [
    "i = 1\n",
    "while i <= 2:\n",
    "    print(i)\n",
    "    i += 1\n",
    "print(\"programa finalizado!!\\n\")"
   ]
  },
  {
   "cell_type": "code",
   "execution_count": 9,
   "metadata": {},
   "outputs": [
    {
     "name": "stdout",
     "output_type": "stream",
     "text": [
      "15\n",
      "45\n",
      "135\n",
      "405\n"
     ]
    }
   ],
   "source": [
    "x = 5\n",
    "while x < 405:\n",
    "    x *= 3\n",
    "    print(x)"
   ]
  },
  {
   "cell_type": "code",
   "execution_count": 12,
   "metadata": {},
   "outputs": [
    {
     "name": "stdout",
     "output_type": "stream",
     "text": [
      "3 5\n",
      "5 2\n",
      "7 -1\n",
      "9 -4\n"
     ]
    }
   ],
   "source": [
    "i = 3\n",
    "x = 5\n",
    "while i < 10:\n",
    "    print(i, x)\n",
    "    i += 2\n",
    "    x -= 3"
   ]
  },
  {
   "cell_type": "code",
   "execution_count": 14,
   "metadata": {},
   "outputs": [
    {
     "name": "stdout",
     "output_type": "stream",
     "text": [
      "h h\n",
      "o o\n",
      "l l\n",
      "a a\n",
      "   \n",
      "m m\n",
      "u u\n",
      "n n\n",
      "d d\n",
      "o o\n",
      "programa termiando\n"
     ]
    }
   ],
   "source": [
    "len('jola mundo')\n",
    "\n",
    "for i in 'hola mundo':\n",
    "    print(i,i)\n",
    "print('programa termiando')"
   ]
  },
  {
   "cell_type": "code",
   "execution_count": 17,
   "metadata": {},
   "outputs": [
    {
     "name": "stdout",
     "output_type": "stream",
     "text": [
      "5\n",
      "15\n",
      "45\n",
      "135\n",
      "405\n"
     ]
    }
   ],
   "source": [
    "for i in [5,15,45,135,405]:\n",
    "    print(i)\n",
    "    "
   ]
  },
  {
   "cell_type": "code",
   "execution_count": 18,
   "metadata": {},
   "outputs": [
    {
     "name": "stdout",
     "output_type": "stream",
     "text": [
      "2\n",
      "3\n",
      "4\n",
      "5\n",
      "6\n",
      "7\n",
      "8\n",
      "9\n",
      "programa terminado\n"
     ]
    }
   ],
   "source": [
    "for i in range(2,10):\n",
    "    print (i)\n",
    "print(\"programa terminado\")"
   ]
  },
  {
   "cell_type": "code",
   "execution_count": 19,
   "metadata": {},
   "outputs": [
    {
     "name": "stdout",
     "output_type": "stream",
     "text": [
      "0\n",
      "2\n",
      "4\n",
      "6\n",
      "8\n",
      "programa terminado\n"
     ]
    }
   ],
   "source": [
    "for i in range(0,10,2):\n",
    "    print(i)\n",
    "print('programa terminado')"
   ]
  },
  {
   "cell_type": "code",
   "execution_count": 20,
   "metadata": {},
   "outputs": [
    {
     "name": "stdout",
     "output_type": "stream",
     "text": [
      "[5, 7, 9]\n"
     ]
    }
   ],
   "source": [
    "lis = list(range(5,10,2))\n",
    "print(lis)"
   ]
  },
  {
   "cell_type": "code",
   "execution_count": 25,
   "metadata": {},
   "outputs": [
    {
     "data": {
      "text/plain": [
       "8"
      ]
     },
     "execution_count": 25,
     "metadata": {},
     "output_type": "execute_result"
    }
   ],
   "source": [
    "import random as ran\n",
    "ran.randint(1, 20)"
   ]
  },
  {
   "cell_type": "code",
   "execution_count": 34,
   "metadata": {},
   "outputs": [
    {
     "name": "stdout",
     "output_type": "stream",
     "text": [
      "try\n",
      "3\n",
      "nein\n",
      "try\n",
      "4\n",
      "nein\n",
      "try\n",
      "7\n",
      "nein\n",
      "programa terminado 1\n"
     ]
    }
   ],
   "source": [
    "#juego aleatorio\n",
    "import random as ran\n",
    "random = ran.randint(1,10)\n",
    "i = 1\n",
    "while i < 4:\n",
    "    Try = input(\"try\\n\")\n",
    "    if int(Try) == random:\n",
    "        print('felicidades, ganaste')\n",
    "        break\n",
    "    else:\n",
    "        print('nein')\n",
    "    i += 1\n",
    "print('programa terminado', random)"
   ]
  },
  {
   "cell_type": "code",
   "execution_count": 4,
   "metadata": {},
   "outputs": [
    {
     "name": "stdout",
     "output_type": "stream",
     "text": [
      "primer numero1\n",
      "segundo numero2\n",
      "1\n",
      "2\n"
     ]
    }
   ],
   "source": [
    "n = input('primer numero')\n",
    "m = input(\"segundo numero\")\n",
    "\n",
    "i = int(n)\n",
    "while i <= int(m):\n",
    "    print(i)\n",
    "    i += 1"
   ]
  },
  {
   "cell_type": "code",
   "execution_count": 8,
   "metadata": {},
   "outputs": [
    {
     "name": "stdout",
     "output_type": "stream",
     "text": [
      "numero5\n",
      "120\n"
     ]
    }
   ],
   "source": [
    "n = int(input('numero'))\n",
    "i = 1\n",
    "for x in range(1,n+1):\n",
    "    i*= x\n",
    "print(i)\n",
    "    "
   ]
  },
  {
   "cell_type": "code",
   "execution_count": null,
   "metadata": {},
   "outputs": [],
   "source": []
  }
 ],
 "metadata": {
  "kernelspec": {
   "display_name": "Python 3",
   "language": "python",
   "name": "python3"
  },
  "language_info": {
   "codemirror_mode": {
    "name": "ipython",
    "version": 3
   },
   "file_extension": ".py",
   "mimetype": "text/x-python",
   "name": "python",
   "nbconvert_exporter": "python",
   "pygments_lexer": "ipython3",
   "version": "3.7.4"
  }
 },
 "nbformat": 4,
 "nbformat_minor": 2
}
