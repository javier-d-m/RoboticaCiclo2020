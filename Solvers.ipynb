{
 "cells": [
  {
   "cell_type": "code",
   "execution_count": 3,
   "metadata": {},
   "outputs": [
    {
     "name": "stdout",
     "output_type": "stream",
     "text": [
      "Requirement already satisfied: pulp in c:\\users\\javier diaz\\anaconda3\\lib\\site-packages (2.0)\n",
      "Requirement already satisfied: pyparsing>=2.0.1 in c:\\users\\javier diaz\\anaconda3\\lib\\site-packages (from pulp) (2.4.2)\n"
     ]
    }
   ],
   "source": [
    "#pip install pulp"
   ]
  },
  {
   "cell_type": "code",
   "execution_count": 5,
   "metadata": {},
   "outputs": [],
   "source": [
    "from pulp import *"
   ]
  },
  {
   "cell_type": "code",
   "execution_count": 6,
   "metadata": {},
   "outputs": [],
   "source": [
    "pulp.LpVariable?"
   ]
  },
  {
   "cell_type": "code",
   "execution_count": 9,
   "metadata": {},
   "outputs": [],
   "source": [
    "mi_lp_problema = pulp.LpProblem(\"Mi LP Problema\",pulp.LpMinimize)\n",
    "\n",
    "x = pulp.LpVariable('x',lowBound=0,cat='Continuous')\n",
    "y = pulp.LpVariable('y',lowBound=0,cat='Continuous')\n",
    "\n",
    "#Objective function\n",
    "mi_lp_problema += x + 2*y\n",
    "\n",
    "#constrains\n",
    "mi_lp_problema += 3*x + 4*y >= 1\n",
    "mi_lp_problema += 2*x + 5*y >=2"
   ]
  },
  {
   "cell_type": "code",
   "execution_count": 10,
   "metadata": {},
   "outputs": [
    {
     "data": {
      "text/plain": [
       "Mi_LP_Problema:\n",
       "MINIMIZE\n",
       "1*x + 2*y + 0\n",
       "SUBJECT TO\n",
       "_C1: 3 x + 4 y >= 1\n",
       "\n",
       "_C2: 2 x + 5 y >= 2\n",
       "\n",
       "VARIABLES\n",
       "x Continuous\n",
       "y Continuous"
      ]
     },
     "execution_count": 10,
     "metadata": {},
     "output_type": "execute_result"
    }
   ],
   "source": [
    "mi_lp_problema"
   ]
  },
  {
   "cell_type": "code",
   "execution_count": 13,
   "metadata": {},
   "outputs": [
    {
     "data": {
      "text/plain": [
       "'Optimal'"
      ]
     },
     "execution_count": 13,
     "metadata": {},
     "output_type": "execute_result"
    }
   ],
   "source": [
    "mi_lp_problema.solve()\n",
    "pulp.LpStatus[mi_lp_problema.status]"
   ]
  },
  {
   "cell_type": "code",
   "execution_count": 14,
   "metadata": {},
   "outputs": [
    {
     "name": "stdout",
     "output_type": "stream",
     "text": [
      "x = 0.0\n",
      "y = 0.4\n"
     ]
    }
   ],
   "source": [
    "for variable in mi_lp_problema.variables():\n",
    "    print(\"{} = {}\".format(variable.name, variable.varValue))"
   ]
  },
  {
   "cell_type": "code",
   "execution_count": 16,
   "metadata": {},
   "outputs": [
    {
     "name": "stdout",
     "output_type": "stream",
     "text": [
      "0.8\n"
     ]
    }
   ],
   "source": [
    "print(pulp.value(mi_lp_problema.objective))"
   ]
  },
  {
   "cell_type": "code",
   "execution_count": 22,
   "metadata": {},
   "outputs": [
    {
     "name": "stdout",
     "output_type": "stream",
     "text": [
      "     pcost       dcost       gap    pres   dres   k/t\n",
      " 0:  6.7308e-01  3.7308e+00  6e+00  1e+00  5e+00  1e+00\n",
      " 1:  8.4233e-01  1.0964e+00  5e-01  1e-01  6e-01  6e-03\n",
      " 2:  8.0538e-01  8.2298e-01  2e-02  8e-03  4e-02  2e-03\n",
      " 3:  8.0005e-01  8.0026e-01  2e-04  1e-04  5e-04  3e-05\n",
      " 4:  8.0000e-01  8.0000e-01  2e-06  1e-06  5e-06  3e-07\n",
      " 5:  8.0000e-01  8.0000e-01  2e-08  1e-08  5e-08  3e-09\n",
      "Optimal solution found.\n",
      "[ 1.86e-08]\n",
      "[ 4.00e-01]\n",
      "\n"
     ]
    }
   ],
   "source": [
    "#!pip install cvxopt\n",
    "from cvxopt import matrix, solvers\n",
    "\n",
    "A = matrix([ [-3.0, -2.0, -1.0, 0.0],\n",
    "           [-4.0, -5.0, 0.0,-1.0]])\n",
    "\n",
    "b = matrix([ -1.0,-2.0, 0.0, 0.0])\n",
    "c = matrix([ 1.0, 2.0])\n",
    "sol = solvers.lp(c,A,b)\n",
    "\n",
    "print(sol['x'])"
   ]
  },
  {
   "cell_type": "code",
   "execution_count": 26,
   "metadata": {},
   "outputs": [
    {
     "name": "stdout",
     "output_type": "stream",
     "text": [
      "x = 0.5\n",
      "y = 1.5\n",
      "2.5\n"
     ]
    }
   ],
   "source": [
    "mi_lp_problema = pulp.LpProblem(\"Mi LP Problema\",pulp.LpMinimize)\n",
    "\n",
    "x = pulp.LpVariable('x',lowBound=0,cat='Continuous')\n",
    "y = pulp.LpVariable('y',lowBound=0,cat='Continuous')\n",
    "\n",
    "#Objective function\n",
    "mi_lp_problema += 2*x + y\n",
    "\n",
    "#constrains\n",
    "mi_lp_problema += -x + y <= 1\n",
    "mi_lp_problema += x + y >=2\n",
    "mi_lp_problema += y >=0\n",
    "mi_lp_problema += x + 2*y <= 4\n",
    "\n",
    "mi_lp_problema.solve()\n",
    "pulp.LpStatus[mi_lp_problema.status]\n",
    "\n",
    "for variable in mi_lp_problema.variables():\n",
    "    print(\"{} = {}\".format(variable.name, variable.varValue))\n",
    "    \n",
    "print(pulp.value(mi_lp_problema.objective))"
   ]
  },
  {
   "cell_type": "code",
   "execution_count": 39,
   "metadata": {},
   "outputs": [
    {
     "name": "stdout",
     "output_type": "stream",
     "text": [
      "     pcost       dcost       gap    pres   dres   k/t\n",
      " 0:  2.8824e+00 -1.8824e+00  4e+00  0e+00  1e+00  1e+00\n",
      " 1:  2.6391e+00  2.3948e+00  2e-01  0e+00  5e-02  2e-02\n",
      " 2:  2.5015e+00  2.4978e+00  3e-03  9e-17  7e-04  4e-04\n",
      " 3:  2.5000e+00  2.5000e+00  3e-05  2e-16  7e-06  4e-06\n",
      " 4:  2.5000e+00  2.5000e+00  3e-07  3e-16  7e-08  4e-08\n",
      "Optimal solution found.\n",
      "[ 5.00e-01]\n",
      "[ 1.50e+00]\n",
      "\n"
     ]
    }
   ],
   "source": [
    "from cvxopt import matrix, solvers\n",
    "\n",
    "A = matrix([ [-1.0, -1.0, 1.0, 0.0],\n",
    "           [1.0, -1.0, 2.0, -1.0]])\n",
    "\n",
    "b = matrix([ 1.0,-2.0, 4.0, 0.0])\n",
    "c = matrix([ 2.0, 1.0 ])\n",
    "sol = solvers.lp(c,A,b)\n",
    "\n",
    "print(sol['x'])"
   ]
  },
  {
   "cell_type": "code",
   "execution_count": 42,
   "metadata": {},
   "outputs": [
    {
     "name": "stdout",
     "output_type": "stream",
     "text": [
      "Primal Feasibility  Dual Feasibility    Duality Gap         Step             Path Parameter      Objective          \n",
      "1.0                 1.0                 1.0                 -                1.0                 3.0                 \n",
      "0.2072856751293     0.2072856751293     0.2072856751293     0.7999480594121  0.2072856751293     3.579699344878      \n",
      "0.04221733741753    0.04221733741733    0.04221733741734    0.8110397766462  0.04221733741733    2.932391084387      \n",
      "0.002794365888706   0.002794365888707   0.002794365888707   0.9398089815599  0.002794365888643   2.499086690603      \n",
      "1.55017790749e-06   1.550177904122e-06  1.550177904153e-06  1.0              1.550177905152e-06  2.500010071106      \n",
      "7.750848329189e-11  7.750906423638e-11  7.750894370773e-11  0.9999499999248  7.750902690897e-11  2.500000000504      \n",
      "Optimization terminated successfully.\n",
      "         Current function value: 2.500000    \n",
      "         Iterations: 5\n",
      "     con: array([], dtype=float64)\n",
      "     fun: 2.5000000005035554\n",
      " message: 'Optimization terminated successfully.'\n",
      "     nit: 5\n",
      "   slack: array([6.33005981e-10, 1.24701582e-10, 6.50000000e+00])\n",
      "  status: 0\n",
      " success: True\n",
      "       x: array([0.5, 1.5])\n"
     ]
    }
   ],
   "source": [
    "from scipy.optimize import linprog\n",
    "\n",
    "c = [2, 1]\n",
    "A = [[-1, 1],\n",
    "     [-1, -1],\n",
    "     [1, -2]]\n",
    "\n",
    "b = [1, -2, 4]\n",
    "\n",
    "x0_bounds = (0,None)\n",
    "x1_bounds = (0,None)\n",
    "\n",
    "res = linprog(c, A_ub = A, b_ub = b, bounds = (x0_bounds,x1_bounds), options = {\"disp\":True})\n",
    "\n",
    "print(res)"
   ]
  },
  {
   "cell_type": "code",
   "execution_count": null,
   "metadata": {},
   "outputs": [],
   "source": []
  }
 ],
 "metadata": {
  "kernelspec": {
   "display_name": "Python 3",
   "language": "python",
   "name": "python3"
  },
  "language_info": {
   "codemirror_mode": {
    "name": "ipython",
    "version": 3
   },
   "file_extension": ".py",
   "mimetype": "text/x-python",
   "name": "python",
   "nbconvert_exporter": "python",
   "pygments_lexer": "ipython3",
   "version": "3.7.4"
  }
 },
 "nbformat": 4,
 "nbformat_minor": 2
}
