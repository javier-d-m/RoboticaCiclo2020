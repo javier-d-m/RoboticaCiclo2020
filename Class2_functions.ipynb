{
 "cells": [
  {
   "cell_type": "code",
   "execution_count": 3,
   "metadata": {},
   "outputs": [
    {
     "name": "stdout",
     "output_type": "stream",
     "text": [
      " El volumen de la unidad C es Windows\n",
      " El n£mero de serie del volumen es: CE3A-6BAD\n",
      "\n",
      " Directorio de C:\\Users\\Javier Diaz\\1_jupyter\n",
      "\n",
      "27/01/2020  05:18 p. m.    <DIR>          .\n",
      "27/01/2020  05:18 p. m.    <DIR>          ..\n",
      "27/01/2020  04:59 p. m.    <DIR>          .ipynb_checkpoints\n",
      "20/01/2020  08:15 p. m.             7,227 Class1.ipynb\n",
      "20/01/2020  08:50 p. m.             3,889 Class1_List_Tuples_Dictionary.ipynb\n",
      "27/01/2020  05:18 p. m.    <DIR>          Notas_Clase\n",
      "26/01/2020  05:24 p. m.             2,966 TareaUno.ipynb\n",
      "27/01/2020  05:09 p. m.             1,536 Untitled.ipynb\n",
      "               4 archivos         15,618 bytes\n",
      "               4 dirs  685,519,138,816 bytes libres\n"
     ]
    }
   ],
   "source": [
    "#para windows\n",
    "!dir \n",
    "!start .\n",
    "#para mac\n",
    "#!ls\n",
    "#!open ."
   ]
  },
  {
   "cell_type": "code",
   "execution_count": 9,
   "metadata": {},
   "outputs": [
    {
     "name": "stdout",
     "output_type": "stream",
     "text": [
      "Hola Mundo\n",
      "Hola Mundo\n",
      "Hola Mundo\n",
      "Hola Mundo\n",
      "Hola Mundo\n"
     ]
    }
   ],
   "source": [
    "def saludo():\n",
    "    print(\"Hola Mundo\")\n",
    "saludo()\n",
    "saludo()\n",
    "\n",
    "def tres_saludos():\n",
    "    for i in range(3):\n",
    "        saludo()\n",
    "    \n",
    "tres_saludos()"
   ]
  },
  {
   "cell_type": "code",
   "execution_count": 11,
   "metadata": {},
   "outputs": [
    {
     "name": "stdout",
     "output_type": "stream",
     "text": [
      "La media es: 3.0\n"
     ]
    }
   ],
   "source": [
    "def media_1():\n",
    "    media = (2+4)/2\n",
    "    print(\"La media es:\", media)\n",
    "media_1()"
   ]
  },
  {
   "cell_type": "code",
   "execution_count": 20,
   "metadata": {},
   "outputs": [
    {
     "name": "stdout",
     "output_type": "stream",
     "text": [
      "holamundo\n",
      "9\n",
      "[1, 34, 5, 4, 56]\n"
     ]
    }
   ],
   "source": [
    "def suma(a,b):\n",
    "    print(a+b)\n",
    "suma(\"hola\",\"mundo\"),suma(3,6),suma([1,34,5],[4,56]);"
   ]
  },
  {
   "cell_type": "code",
   "execution_count": 23,
   "metadata": {},
   "outputs": [
    {
     "name": "stdout",
     "output_type": "stream",
     "text": [
      "la media es:  2.5\n"
     ]
    }
   ],
   "source": [
    "def media_3(a,b):\n",
    "    media = (a+b)/2\n",
    "    return media\n",
    "print(\"la media es: \",media_3(2,3))"
   ]
  },
  {
   "cell_type": "code",
   "execution_count": 29,
   "metadata": {},
   "outputs": [
    {
     "name": "stdout",
     "output_type": "stream",
     "text": [
      "escribe la cantidad de numeros 3\n",
      "[10, 1, 7] \n",
      "\n",
      "la suma de tus numeros es: 18\n",
      "Tus numeros al cuadrado son: 100 \t\n",
      "Tus numeros al cuadrado son: 1 \t\n",
      "Tus numeros al cuadrado son: 49 \t\n"
     ]
    }
   ],
   "source": [
    "# actividad: Crear funciones para realizar una suma, al cuadrado, calcular media u desviación estandar\n",
    "import pylab\n",
    "import random \n",
    "#from math import *\n",
    "Amount_of_numbers = input(\"escribe la cantidad de numeros \")\n",
    "random.seed(10)\n",
    "\n",
    "numbers = []\n",
    "\n",
    "for i in range(0,int(Amount_of_numbers)):\n",
    "    numbers.append(random.randint(1,10))\n",
    "print(numbers, \"\\n\")\n",
    "    \n",
    "\n",
    "def suma_number():\n",
    "    suma = 0\n",
    "    for i in range(0, int(Amount_of_numbers)):\n",
    "        suma = numbers[i] + suma\n",
    "    print(\"la suma de tus numeros es:\", suma)\n",
    "\n",
    "def cuadrado():\n",
    "    for i in range(0,int(Amount_of_numbers)):\n",
    "        print(\"Tus numeros al cuadrado son:\",numbers[i]*numbers[i], \"\\t\")\n",
    "        \n",
    "suma_number()\n",
    "cuadrado()"
   ]
  },
  {
   "cell_type": "code",
   "execution_count": 4,
   "metadata": {},
   "outputs": [
    {
     "data": {
      "image/png": "[encoded data removed]",
      "text/plain": [
       "<Figure size 432x288 with 1 Axes>"
      ]
     },
     "metadata": {
      "needs_background": "light"
     },
     "output_type": "display_data"
    }
   ],
   "source": [
    "import pylab\n",
    "import random\n",
    "random.seed(113)\n",
    "samples = 1000\n",
    "dice = []\n",
    "for i in range(samples):\n",
    "    total = random.randint(1,6) + random.randint(1,6)\n",
    "    dice.append(total)\n",
    "pylab.hist(dice, bins= pylab.arange(1.5,12.6,1.0))\n",
    "pylab.show()"
   ]
  }
 ],
 "metadata": {
  "kernelspec": {
   "display_name": "Python 3",
   "language": "python",
   "name": "python3"
  }
 },
 "nbformat": 4,
 "nbformat_minor": 2
}
