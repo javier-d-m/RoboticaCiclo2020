{
 "cells": [
  {
   "cell_type": "code",
   "execution_count": 1,
   "metadata": {},
   "outputs": [],
   "source": [
    "!open ."
   ]
  },
  {
   "cell_type": "markdown",
   "metadata": {},
   "source": [
    "# Variables, expresiones y sentencias"
   ]
  },
  {
   "cell_type": "markdown",
   "metadata": {},
   "source": [
    "Una de las características más poderosas en un lenguaje de programación es la capacidad de manipular variables. Una variable es un nombre que se refiere a un valor.\n",
    "\n",
    "La sentencia de asignación crea nuevas variables y les da valores:"
   ]
  },
  {
   "cell_type": "code",
   "execution_count": null,
   "metadata": {},
   "outputs": [],
   "source": []
  },
  {
   "cell_type": "markdown",
   "metadata": {},
   "source": [
    "Este ejemplo hace tres asignaciones. La primera asigna la cadena \"¿Que Onda?\" a una nueva variable denominada mensaje. La segunda le asigna el entero 17 a n, y la tercera le da el número de punto flotante 3.14159 a pi."
   ]
  },
  {
   "cell_type": "markdown",
   "metadata": {},
   "source": [
    "No debe confundirse el operador de asignación, =, con el signo de igualdad (aún y cuando se usa el mismo símbolo). El operador de asignación enlaza un nombre, en el lado izquierdo del operador, con un valor en el lado derecho. "
   ]
  },
  {
   "cell_type": "markdown",
   "metadata": {},
   "source": []
  },
  {
   "cell_type": "markdown",
   "metadata": {},
   "source": [
    "Para evaluar una variable, se producirá el valor que está vinculado a la variable:"
   ]
  },
  {
   "cell_type": "code",
   "execution_count": null,
   "metadata": {},
   "outputs": [],
   "source": [
    "\n",
    "print()\n",
    "print()"
   ]
  },
  {
   "cell_type": "markdown",
   "metadata": {},
   "source": [
    "Las variables también tienen tipos; nuevamente, le podemos preguntar al intérprete cuáles son."
   ]
  },
  {
   "cell_type": "code",
   "execution_count": null,
   "metadata": {},
   "outputs": [],
   "source": [
    "\n",
    "print()\n",
    "print(type())"
   ]
  },
  {
   "cell_type": "markdown",
   "metadata": {},
   "source": [
    "Usamos las variables en un programa para “recordar” las cosas, al igual que la punctuación actual en el partido de fútbol. Sin embargo, las variables son variables. Esto significa que pueden cambiar con el tiempo, al igual que el marcador de un partido de fútbol. Se puede asignar un valor a una variable, y luego asignar un valor diferente a la misma variable."
   ]
  },
  {
   "cell_type": "code",
   "execution_count": null,
   "metadata": {},
   "outputs": [],
   "source": []
  },
  {
   "cell_type": "markdown",
   "metadata": {},
   "source": [
    "Nombres de variables válidos en Python debe ajustarse a las siguientes tres simples reglas:\n",
    "\n",
    "Son secuencias arbitrariamente largas de letras y dígitos.\n",
    "La secuencia debe empezar con una letra.\n",
    "Además de a..z, y A..Z, el guión bajo (_) es una letra.\n",
    "\n",
    "**Los programadores generalmente escogen nombres significativos para sus variables — que especifiquen para qué se usa la variable.**"
   ]
  },
  {
   "cell_type": "markdown",
   "metadata": {},
   "source": [
    "Nota: Recuerde que las letras mayúsculas importan, Nombre y nombre son variables diferentes."
   ]
  },
  {
   "cell_type": "code",
   "execution_count": null,
   "metadata": {},
   "outputs": [],
   "source": [
    "Nombre = \"Pedro\"\n",
    "nombre = \"pedro\"\n",
    "print"
   ]
  },
  {
   "cell_type": "markdown",
   "metadata": {},
   "source": [
    "El carácter subrayado (_) puede aparecer en un nombre. A menudo se usa en nombres con múltiples palabras, tales como **mi_nombre** ́ó **precio_de_la_porcelana_en_china.**\n",
    "\n",
    "**Hay algunas situaciones en las que los nombres que comienzan con un guión tienen un significado especial,** por lo que una regla segura para los principiantes es empezar todos los nombres con una letra que no sea un guión."
   ]
  },
  {
   "cell_type": "code",
   "execution_count": null,
   "metadata": {},
   "outputs": [],
   "source": [
    "#Si usted le da un nombre inválido a una variable obtendrá un error de sintaxis:\n",
    "76trombones = \"gran desfile\""
   ]
  },
  {
   "cell_type": "code",
   "execution_count": null,
   "metadata": {},
   "outputs": [],
   "source": []
  },
  {
   "attachments": {
    "image.png": {
     "image/png": "[encoded data removed]"
    }
   },
   "cell_type": "markdown",
   "metadata": {},
   "source": [
    "Python tiene treinta y tantas palabras clave ( y todas son mejoradas de vez en cuando para que Python introdusca o elimine una o dos):\n",
    "\n",
    "![image.png](attachment:image.png)"
   ]
  },
  {
   "cell_type": "markdown",
   "metadata": {},
   "source": [
    "Si el intéprete se queja por alguno de sus nombres de variables, y usted no sabe por qué, búsquelo en esta lista."
   ]
  },
  {
   "cell_type": "markdown",
   "metadata": {},
   "source": [
    "**Caution:**\n",
    "Los principiantes a veces se confunden “con sentido para los lectores humanos” con “significativo de la computadora”. Por lo que ellos erróneamente piensan que porque han llamado algunas variable promedio o pi, de alguna manera automágicamente calcula un promedio, o automágicamente asocia la variable pi con el valor de 3,14159. ¡No! La computadora no se fija el significado semántico de los nombres de las variables."
   ]
  },
  {
   "cell_type": "code",
   "execution_count": null,
   "metadata": {},
   "outputs": [],
   "source": []
  },
  {
   "cell_type": "markdown",
   "metadata": {},
   "source": [
    "## Evaluación de expresiones\n",
    "\n",
    "Una expresión es una combinación de valores, variables, operadores, y llamadas funciones. Si escribe una expresión en la línea de comandos de python, el intérprete la evalúa y despliega el resultado:"
   ]
  },
  {
   "cell_type": "code",
   "execution_count": null,
   "metadata": {},
   "outputs": [],
   "source": [
    "1+1"
   ]
  },
  {
   "cell_type": "code",
   "execution_count": null,
   "metadata": {},
   "outputs": [],
   "source": []
  },
  {
   "cell_type": "markdown",
   "metadata": {},
   "source": [
    "En este ejemplo len es una función integrada de Python que devuelve el número de caracteres de una cadena. Hemos visto anteriormente las funciones de print y el type, por lo que este es nuestro tercer ejemplo de una llamada a función!"
   ]
  },
  {
   "cell_type": "code",
   "execution_count": null,
   "metadata": {},
   "outputs": [],
   "source": [
    "17\n",
    "y=3.14\n",
    "x = len(\"hello\")\n",
    "print()\n",
    "print()"
   ]
  },
  {
   "cell_type": "markdown",
   "metadata": {},
   "source": [
    "# Operadores y operandos\n",
    "\n",
    "Los operadores son símbolos especiales que representan cómputos como la suma y la multiplicación. Los valores que el operador usa se denominan operandos.\n",
    "\n",
    "Los siguientes son expresiones válidas en Python cuyo significado es más o menos claro:"
   ]
  },
  {
   "cell_type": "code",
   "execution_count": null,
   "metadata": {},
   "outputs": [],
   "source": [
    "print(  )\n",
    "print( )\n",
    "print( )\n",
    "print(  )\n",
    "print(  )\n",
    "print( )"
   ]
  },
  {
   "cell_type": "markdown",
   "metadata": {},
   "source": [
    "Los símbolos +, - y *, y los paréntesis para agrupar, significan en Python lo mismo que en matemáticas. El asterisco (*) es el símbolo para la multiplicación, y ** es el símbolo para la potenciación."
   ]
  },
  {
   "cell_type": "code",
   "execution_count": null,
   "metadata": {},
   "outputs": [],
   "source": [
    "2 ** 3"
   ]
  },
  {
   "cell_type": "code",
   "execution_count": null,
   "metadata": {},
   "outputs": [],
   "source": [
    "3**2"
   ]
  },
  {
   "cell_type": "markdown",
   "metadata": {},
   "source": [
    "Cuando el nombre de una variable aparece en la posición de un operando, se reemplaza por su valor antes de realizar la operación.\n",
    "\n",
    "La suma, resta, multiplicación y potenciación realizan lo que usted esperaría.\n",
    "\n"
   ]
  },
  {
   "cell_type": "markdown",
   "metadata": {},
   "source": [
    " **Ejemplo: convertir 645 minutos en horas:**"
   ]
  },
  {
   "cell_type": "code",
   "execution_count": null,
   "metadata": {},
   "outputs": [],
   "source": []
  },
  {
   "cell_type": "code",
   "execution_count": null,
   "metadata": {},
   "outputs": [],
   "source": []
  },
  {
   "cell_type": "markdown",
   "metadata": {},
   "source": [
    "¡Uy! En Python 3, el operador de división / siempre da un resultado de punto flotante (float). Lo que hubiera querido saber cuantas horas enteras hay y cuantos minutos quedan. Python nos da dos versiones diferentes del operador de división. La segunda, es llamada división entera utilizando el símbolo //. Siempre se trunca su resultado hasta el número entero inmediatamente inferior (a la izquierda en la recta numérica).\n",
    "\n"
   ]
  },
  {
   "cell_type": "code",
   "execution_count": null,
   "metadata": {},
   "outputs": [],
   "source": [
    "7 / 4"
   ]
  },
  {
   "cell_type": "code",
   "execution_count": null,
   "metadata": {},
   "outputs": [],
   "source": [
    "7 // 4"
   ]
  },
  {
   "cell_type": "code",
   "execution_count": null,
   "metadata": {},
   "outputs": [],
   "source": []
  },
  {
   "cell_type": "code",
   "execution_count": null,
   "metadata": {},
   "outputs": [],
   "source": []
  },
  {
   "cell_type": "markdown",
   "metadata": {},
   "source": [
    "## Funciones de tipo convertidor\n",
    "\n",
    "Aquí vamos a ver otras tres funciones de Python como int, float, y str. que (intenta de) convertir sus argumentos en tipos int, float y str respectivamente. Nostros llamamos funciones de tipo convertidor.\n",
    "\n",
    "La función int puede tomar un número de punto flotante o una cadena, y convertirlo en un int. Para los números de punto flotante, descarta la parte decimal del número - un proceso que llamamos truncamiento a cero en la recta numérica. Vamos a ver esto en acción:"
   ]
  },
  {
   "cell_type": "code",
   "execution_count": null,
   "metadata": {},
   "outputs": [],
   "source": [
    "int(3.14)"
   ]
  },
  {
   "cell_type": "code",
   "execution_count": null,
   "metadata": {},
   "outputs": [],
   "source": [
    "int(3.9999) "
   ]
  },
  {
   "cell_type": "code",
   "execution_count": null,
   "metadata": {},
   "outputs": [],
   "source": [
    " int(3.0)"
   ]
  },
  {
   "cell_type": "code",
   "execution_count": null,
   "metadata": {},
   "outputs": [],
   "source": [
    "int(-3.999)"
   ]
  },
  {
   "cell_type": "code",
   "execution_count": null,
   "metadata": {},
   "outputs": [],
   "source": [
    "int(minutos/60) #la variable aun conserva el valor. minutos -> 645"
   ]
  },
  {
   "cell_type": "code",
   "execution_count": null,
   "metadata": {},
   "outputs": [],
   "source": [
    "int(\"2345\")"
   ]
  },
  {
   "cell_type": "code",
   "execution_count": null,
   "metadata": {},
   "outputs": [],
   "source": [
    "int(17)"
   ]
  },
  {
   "cell_type": "code",
   "execution_count": null,
   "metadata": {},
   "outputs": [],
   "source": [
    "int(\"23 bottles\")"
   ]
  },
  {
   "cell_type": "markdown",
   "metadata": {},
   "source": [
    "El ultimo caso muestra que una cadena tiene que ser un número sintácticamente legal, de lo contrario obtendrá uno de esos molestos errores de ejecución.\n",
    "\n",
    "El convertidor de tipo float puede convertir un número entero, en floar, o una cadena sintácticamente en un float."
   ]
  },
  {
   "cell_type": "code",
   "execution_count": null,
   "metadata": {},
   "outputs": [],
   "source": [
    "float(17)"
   ]
  },
  {
   "cell_type": "code",
   "execution_count": null,
   "metadata": {},
   "outputs": [],
   "source": [
    "float(\"123.45\")\n"
   ]
  },
  {
   "cell_type": "code",
   "execution_count": null,
   "metadata": {},
   "outputs": [],
   "source": [
    "str(17)"
   ]
  },
  {
   "cell_type": "code",
   "execution_count": null,
   "metadata": {},
   "outputs": [],
   "source": [
    "str(123.45)"
   ]
  },
  {
   "cell_type": "code",
   "execution_count": null,
   "metadata": {},
   "outputs": [],
   "source": []
  },
  {
   "cell_type": "markdown",
   "metadata": {},
   "source": [
    "## Orden de las operaciones\n",
    "\n",
    "Cuando hay más de un operador en una expresión, el orden de evaluación depende de las reglas de precedencia. Python sigue las mismas reglas de precedencia a las que estamos acostumbrados para sus operadores matemáticos. El acrónimo PPMDAS es útil para recordar el orden de las operaciones:\n",
    "\n",
    "- Los Paréntesis tienen la precedencia más alta y pueden usarse para forzar la evaluación de una expresión en el orden que usted desee. Ya que las expresiones en paréntesis se evalúan primero , 2 * (3-1) es 4, y (1+1)\\*\\*(5-2) es 8. También puede usar paréntesis para que una expresión quede más legible, como en (minute * 100) / 60, aunque esto no cambie el resultado.\n",
    "\n",
    "- La Exponenciación tiene la siguiente precedencia más alta, así que 2*\\*1+1 es 3 y no 4, y 3*1*\\*3 es 3 y no 27.\n",
    "\n",
    "- La Multiplicación y División tienen las misma precedencia, que es más alta que la de la Adición y la Subtracción, que también tienen la misma precedencia. Así que 2*3-1 da 5 en lugar de 4, y 5-2*2 es 1, no 6.\n",
    "\n",
    "- Los operadores con la misma precedencia se evalúan de izquierda a derecha. En álgebra nos dicen que están asociados por la izquierda. Así, que en la expresión 6-3+2, la resta se hace primero, produciendo 3. A continuacion, añadiremos 2 para obtener el número 5. Si las operaciones había sido evaluada de derecha a izquierda, el resultado habría sido 6-(3 + 2), que es 1. (La siglas PEDMAS podría inducir un error a pensar que la división tiene mayor precedencia que la multiplicación, y además se lleva a cabo antes de la sustracción - No se deje engañar suma y resta se encuentran en la misma precendencia, y se aplica la regla de izquierda a derecha.)"
   ]
  },
  {
   "cell_type": "code",
   "execution_count": null,
   "metadata": {},
   "outputs": [],
   "source": []
  },
  {
   "cell_type": "code",
   "execution_count": null,
   "metadata": {},
   "outputs": [],
   "source": []
  },
  {
   "cell_type": "code",
   "execution_count": null,
   "metadata": {},
   "outputs": [],
   "source": []
  },
  {
   "cell_type": "code",
   "execution_count": null,
   "metadata": {},
   "outputs": [],
   "source": []
  },
  {
   "cell_type": "code",
   "execution_count": null,
   "metadata": {},
   "outputs": [],
   "source": []
  },
  {
   "cell_type": "markdown",
   "metadata": {},
   "source": [
    "## Operaciones sobre cadenas\n",
    "\n",
    "En general, usted no puede realizar operaciones matemáticas sobre cadenas, incluso si las cadenas están compuestas por números. Las siguientes operaciones son **inválidas** (suponiendo que mensaje tiene el tipo cadena):"
   ]
  },
  {
   "cell_type": "code",
   "execution_count": null,
   "metadata": {},
   "outputs": [],
   "source": [
    "mensaje=\"hola\"\n",
    "mensaje-1"
   ]
  },
  {
   "cell_type": "code",
   "execution_count": null,
   "metadata": {},
   "outputs": [],
   "source": [
    "\"Hola\"/123"
   ]
  },
  {
   "cell_type": "code",
   "execution_count": null,
   "metadata": {},
   "outputs": [],
   "source": [
    "mensaje*\"Hola\""
   ]
  },
  {
   "cell_type": "code",
   "execution_count": null,
   "metadata": {},
   "outputs": [],
   "source": [
    "\"15\"+2"
   ]
  },
  {
   "cell_type": "markdown",
   "metadata": {},
   "source": [
    "Sin embargo, el operador + funciona con cadenas, aunque no calcula lo que usted esperaría. Para las cadenas el operador + representa la operación de concatenación, que significa unir los dos operandos enlazándolos en el orden en que aparecen. Por ejemplo:"
   ]
  },
  {
   "cell_type": "code",
   "execution_count": null,
   "metadata": {},
   "outputs": [],
   "source": [
    "bien_cocinado = \"pan de nuez y\"\n",
    "fruta = \"plátano\"\n",
    "print(bien_cocinado + fruta)"
   ]
  },
  {
   "cell_type": "markdown",
   "metadata": {},
   "source": [
    "El operador * también funciona con las cadenas; hace una operación de repetición. Por ejemplo, 'Ja'$*$ 3 resulta en 'JaJaJa'. Uno de los operandos tiene que ser una cadena, el otro tiene que ser un entero."
   ]
  },
  {
   "cell_type": "code",
   "execution_count": null,
   "metadata": {},
   "outputs": [],
   "source": []
  },
  {
   "cell_type": "code",
   "execution_count": null,
   "metadata": {},
   "outputs": [],
   "source": []
  },
  {
   "cell_type": "markdown",
   "metadata": {},
   "source": [
    "## Composición\n",
    "\n",
    "Hasta aquí hemos visto aisladamente los elementos de un programa — variables, expresiones, y sentencias — sin especificar cómo combinarlos.\n",
    "\n",
    "Una de las características más útiles de los lenguajes de programación es su capacidad de tomar pequeños bloques para componer con ellos.\n",
    "\n",
    "Por ejemplo, sabemos cómo hacer que el usuario introduzca alguna entrada (input), sabemos cómo convertir la cadena de entrada en un flotador (float), que sabemos cómo escribir una expresión compleja, y tambien sabemos cómo imprimir los valores. Vamos a poner las fotos en un pequeño programa de cuatro pasos que le pide al usuario que introduzca un valor para el radio de un círculo, y luego calcular el área del círculo de la fórmula\n",
    "\n",
    "\n",
    "$$Area = \\pi r^2 $$"
   ]
  },
  {
   "cell_type": "markdown",
   "metadata": {},
   "source": [
    "En primer lugar, vamos a hacer los cuatro pasos de uno en uno:"
   ]
  },
  {
   "cell_type": "code",
   "execution_count": null,
   "metadata": {},
   "outputs": [],
   "source": []
  },
  {
   "cell_type": "markdown",
   "metadata": {},
   "source": [
    "Ahora vamos a componer las primeras dos líneas en una sola línea de código, y componer las segundas dos líneas en otra línea de código."
   ]
  },
  {
   "cell_type": "code",
   "execution_count": null,
   "metadata": {},
   "outputs": [],
   "source": []
  },
  {
   "cell_type": "markdown",
   "metadata": {},
   "source": [
    "Si de verdad queremos que se ha complicado, se podría escribir todo en un solo comunicado:"
   ]
  },
  {
   "cell_type": "code",
   "execution_count": null,
   "metadata": {},
   "outputs": [],
   "source": []
  },
  {
   "cell_type": "markdown",
   "metadata": {},
   "source": [
    "Como el código campacto no podrá ser más comprensible para los seres humanos, pero sirve para ilustrar cómo se puede componer grandes pedazos de bloques de nuestro efificio.\n",
    "\n",
    "Si alguna vez le entra la duda sobre si se debe escribir código o fragmento en pasos más pequeños, trate de hacerlo lo más simple posible para el ser humano pueda seguirlo. Mi elección sería el primer caso, con cuatro pasos separados."
   ]
  },
  {
   "cell_type": "code",
   "execution_count": null,
   "metadata": {},
   "outputs": [],
   "source": []
  },
  {
   "cell_type": "code",
   "execution_count": null,
   "metadata": {},
   "outputs": [],
   "source": []
  },
  {
   "cell_type": "markdown",
   "metadata": {},
   "source": [
    "Ejercicios: \n",
    "\n",
    "\n",
    "- Tome la siguiente oración: *Sólo trabajo y nada de juegos hacen de Juan un niño aburrido.* Almacene cada palabra en variables separadas, después muestre la oración en una sola línea usando la sentencia print.\n",
    "\n",
    "- Incluya paréntesis a la expresión 6 * 1 - 2 para cambiar su resultado de 4 a -6.\n",
    "\n",
    "- Coloque un comentario antes de una línea de código donde había trabajado, y grabe lo que sucede cuando se vuelve a ejecutar el programa.\n",
    "\n",
    "- Inicie el intérprete de Python y escriba bruno + 4 en el indicador. Esto dará un error: Asigne un valor a bruno tal que bruno + 4 de 10.\n"
   ]
  },
  {
   "attachments": {
    "image.png": {
     "image/png": "[encoded data removed]"
    }
   },
   "cell_type": "markdown",
   "metadata": {},
   "source": [
    "- La fórmula para calcular el importe final si se está ganando el interés compuesto es:\n",
    "\n",
    "![image.png](attachment:image.png)\n",
    "\n",
    "Escriba un programa en Python que asigna la cantidad principal de $100 a la variable p, asigna a n el valor de 12, y asigna a r la tasa de interés del 8% (como un flotador). Luego que el programa pide al usuario el número de años, t, para lo cual se suma el dinero. Calcule e imprimala cantidad final después de t años."
   ]
  },
  {
   "cell_type": "code",
   "execution_count": null,
   "metadata": {},
   "outputs": [],
   "source": []
  },
  {
   "cell_type": "code",
   "execution_count": 1,
   "metadata": {},
   "outputs": [],
   "source": [
    "!open ."
   ]
  },
  {
   "cell_type": "code",
   "execution_count": null,
   "metadata": {},
   "outputs": [],
   "source": []
  },
  {
   "cell_type": "code",
   "execution_count": null,
   "metadata": {},
   "outputs": [],
   "source": []
  }
 ],
 "metadata": {
  "hide_input": false,
  "kernelspec": {
   "display_name": "Python 3",
   "language": "python",
   "name": "python3"
  },
  "language_info": {
   "codemirror_mode": {
    "name": "ipython",
    "version": 3
   },
   "file_extension": ".py",
   "mimetype": "text/x-python",
   "name": "python",
   "nbconvert_exporter": "python",
   "pygments_lexer": "ipython3",
   "version": "3.7.2"
  },
  "toc": {
   "base_numbering": 1,
   "nav_menu": {},
   "number_sections": true,
   "sideBar": true,
   "skip_h1_title": false,
   "title_cell": "Table of Contents",
   "title_sidebar": "Contents",
   "toc_cell": false,
   "toc_position": {},
   "toc_section_display": true,
   "toc_window_display": false
  },
  "varInspector": {
   "cols": {
    "lenName": 16,
    "lenType": 16,
    "lenVar": 40
   },
   "kernels_config": {
    "python": {
     "delete_cmd_postfix": "",
     "delete_cmd_prefix": "del ",
     "library": "var_list.py",
     "varRefreshCmd": "print(var_dic_list())"
    },
    "r": {
     "delete_cmd_postfix": ") ",
     "delete_cmd_prefix": "rm(",
     "library": "var_list.r",
     "varRefreshCmd": "cat(var_dic_list()) "
    }
   },
   "types_to_exclude": [
    "module",
    "function",
    "builtin_function_or_method",
    "instance",
    "_Feature"
   ],
   "window_display": false
  }
 },
 "nbformat": 4,
 "nbformat_minor": 2
}
