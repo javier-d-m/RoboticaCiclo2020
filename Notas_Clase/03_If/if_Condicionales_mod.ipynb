{
 "cells": [
  {
   "cell_type": "markdown",
   "metadata": {},
   "source": [
    "# Tipos de datos básicos\n",
    "\n",
    "## Enteros\n",
    "\n",
    "Como puede ver en Python, a diferencia de muchos otros lenguajes, no se declara el tipo de la variable al crearla. En Java, por ejemplo, escribiríamos:\n",
    "\n",
    "```\n",
    "String c = \"Hola Mundo\";\n",
    "int e = 23; \n",
    " ```"
   ]
  },
  {
   "cell_type": "code",
   "execution_count": null,
   "metadata": {},
   "outputs": [],
   "source": [
    "entero= \n",
    "var= \n",
    "e= "
   ]
  },
  {
   "cell_type": "code",
   "execution_count": null,
   "metadata": {},
   "outputs": [],
   "source": [
    "print (entero)"
   ]
  },
  {
   "cell_type": "code",
   "execution_count": null,
   "metadata": {},
   "outputs": [],
   "source": [
    "entero"
   ]
  },
  {
   "cell_type": "code",
   "execution_count": null,
   "metadata": {},
   "outputs": [],
   "source": [
    "type(entero)"
   ]
  },
  {
   "cell_type": "code",
   "execution_count": null,
   "metadata": {},
   "outputs": [],
   "source": [
    "var"
   ]
  },
  {
   "cell_type": "markdown",
   "metadata": {},
   "source": [
    "# Reales\n",
    "\n",
    "**Los números reales son los que tienen decimales.** En Python se expresan mediante el **tipo float**. En otros lenguajes de programación, como C, tenemos también el tipo double, similar a float pero de mayor precisión (double = doble precisión).  Python, sin embargo, implementa su tipo float a bajo nivel mediante una variable de tipo double de C, es decir, utilizando 64 bits"
   ]
  },
  {
   "cell_type": "code",
   "execution_count": null,
   "metadata": {},
   "outputs": [],
   "source": [
    "real = \n",
    "real2 = \n",
    "var = \n",
    "\n",
    "print (real)\n",
    "print (real2)\n",
    "print (var)\n",
    "\n",
    "type(real2)"
   ]
  },
  {
   "cell_type": "markdown",
   "metadata": {},
   "source": [
    "También se puede utilizar notación científica, y añadir una e (de exponente) para indicar un exponente en base 10.\n",
    "\n",
    "0.1e-3  Notación cientifica, equivalente a $0.1 * 10^{-3} = 0.1*0.001=0.0001 $"
   ]
  },
  {
   "cell_type": "code",
   "execution_count": null,
   "metadata": {},
   "outputs": [],
   "source": [
    "real2 = \n",
    "\n",
    "print (real2)"
   ]
  },
  {
   "cell_type": "code",
   "execution_count": null,
   "metadata": {},
   "outputs": [],
   "source": [
    "var"
   ]
  },
  {
   "cell_type": "markdown",
   "metadata": {},
   "source": [
    "# Complejos\n",
    "\n",
    "Los números complejos son aquellos que tienen parte imaginaria."
   ]
  },
  {
   "cell_type": "code",
   "execution_count": null,
   "metadata": {},
   "outputs": [],
   "source": [
    "complejo = \n",
    "complejo2 =  "
   ]
  },
  {
   "cell_type": "code",
   "execution_count": null,
   "metadata": {},
   "outputs": [],
   "source": [
    "type(complejo)"
   ]
  },
  {
   "cell_type": "code",
   "execution_count": null,
   "metadata": {},
   "outputs": [],
   "source": [
    "complejo"
   ]
  },
  {
   "cell_type": "code",
   "execution_count": null,
   "metadata": {},
   "outputs": [],
   "source": []
  },
  {
   "cell_type": "markdown",
   "metadata": {},
   "source": [
    "# Tipo Cadenas\n",
    "\n",
    "Las cadenas son texto encerrado entre comillas simples **'cadena'** o dobles **\"cadena\"**. Dentro de las comillas se pueden **añadir caracteres especiales escapándolos** con **\\ **, como **'\\n'**, **el carácter de nueva línea**, o **'\\t el de tabulación.**\n",
    "\n",
    "Una cadena puede estar precedida por el carácter **u** o el carácter **r**, los cuales indican, respectivamente, que **se trata de una cadena que utiliza codificación Unicode** y una **cadena raw (del inglés, cruda)**. Las cadenas raw se distinguen de las normales en que los caracteres escapados mediante la barra invertida **\\** no se sustituyen por sus contrapartidas. Esto es especialmente útil, por ejemplo, para las **expresiones regulares.**"
   ]
  },
  {
   "cell_type": "markdown",
   "metadata": {},
   "source": [
    "## Ejemplo de tipos de cadenas"
   ]
  },
  {
   "cell_type": "code",
   "execution_count": null,
   "metadata": {},
   "outputs": [],
   "source": [
    "# Comillas simples\n",
    "cadenaa = \n",
    "print (cadenaa)\n",
    "print (type(cadenaa))"
   ]
  },
  {
   "cell_type": "code",
   "execution_count": null,
   "metadata": {},
   "outputs": [],
   "source": [
    "# Comillas dobles\n",
    "cadenab = \n",
    "print (cadenab)\n",
    "print (type(cadenab))\n"
   ]
  },
  {
   "cell_type": "code",
   "execution_count": null,
   "metadata": {},
   "outputs": [],
   "source": [
    "# Cadena con codigo escapes\n",
    "cadenaesc = \n",
    "print (cadenaesc)\n",
    "print (type(cadenaesc))\n"
   ]
  },
  {
   "cell_type": "code",
   "execution_count": null,
   "metadata": {},
   "outputs": [],
   "source": [
    "# Cadena multilinea\n",
    "cadenac = \n",
    "print (cadenac)\n",
    "print (type (cadenac))"
   ]
  },
  {
   "cell_type": "markdown",
   "metadata": {},
   "source": [
    "# Tipos de booleanos\n",
    "\n",
    "El tipo booleano sólo puede tener dos valores: **True (cierto)** y **False (falso)**. \n",
    "\n",
    "Estos valores son especialmente importantes para las expresiones condicionales y los bucles, como veremos más adelante.\n",
    "\n"
   ]
  },
  {
   "cell_type": "code",
   "execution_count": null,
   "metadata": {},
   "outputs": [],
   "source": [
    "aT = \n",
    "print (\"El valor es Verdadero:\", aT, \", el cual es de tipo\", type(aT), \"\\n\")\n",
    "\n",
    "aF = \n",
    "print (\"El valor es Falso:\", aF, \", el cual es de tipo\", type(aF))\n"
   ]
  },
  {
   "cell_type": "markdown",
   "metadata": {},
   "source": [
    "# Operadores Matemáticos\n",
    "\n",
    "![](OpMatematicos.png)\n",
    "\n",
    "# Operadores Relacionales\n",
    "\n",
    "![](OpRelacionales.png)\n",
    "\n",
    "# Operadores Lógicos\n",
    "\n",
    "![](OpLogicos.png)"
   ]
  },
  {
   "cell_type": "code",
   "execution_count": null,
   "metadata": {},
   "outputs": [],
   "source": []
  },
  {
   "cell_type": "markdown",
   "metadata": {
    "collapsed": true
   },
   "source": [
    "# La estructura de control if ...\n",
    "\n",
    "**Permite que un programa ejecute una o varias instrucciones cuando se cumplan una condición.** En inglés \"if\" significa \"si\" (condición). La orden en Pyhton se escribe así:\n",
    "\n",
    "**if(** condición**):**\n",
    "\n",
    "    aquí van las órdenes que se ejecutan si la condición es cierta\n",
    "    y que pueden ocupar varias líneas"
   ]
  },
  {
   "cell_type": "code",
   "execution_count": null,
   "metadata": {},
   "outputs": [],
   "source": []
  },
  {
   "cell_type": "markdown",
   "metadata": {},
   "source": [
    "## Ejecución alternativa\n",
    "la sentencia if es la ejecución alternativa, en la que hay dos posibilidades, y la condición determina cuál de ellas se ejecuta. "
   ]
  },
  {
   "cell_type": "code",
   "execution_count": null,
   "metadata": {},
   "outputs": [],
   "source": []
  },
  {
   "cell_type": "markdown",
   "metadata": {},
   "source": [
    "## Condicionales encadenadas"
   ]
  },
  {
   "cell_type": "code",
   "execution_count": null,
   "metadata": {},
   "outputs": [],
   "source": []
  },
  {
   "cell_type": "markdown",
   "metadata": {},
   "source": [
    "elif es una abreviatura de “else if”. De nuevo, sólo se ejecutará una rama. No hay límite al número de sentencias elif, pero sólo se permite una sentencia else (que es opcional) y debe ser la última rama de la sentencia:"
   ]
  },
  {
   "cell_type": "markdown",
   "metadata": {},
   "source": [
    "# Condicionales anidadas\n",
    "\n",
    "Una condicional puede estar anidada dentro de otra. Podríamos haber escrito el ejemplo de tricotomía como sigue:\n"
   ]
  },
  {
   "cell_type": "code",
   "execution_count": null,
   "metadata": {},
   "outputs": [],
   "source": []
  },
  {
   "cell_type": "code",
   "execution_count": null,
   "metadata": {},
   "outputs": [],
   "source": []
  },
  {
   "cell_type": "code",
   "execution_count": null,
   "metadata": {},
   "outputs": [],
   "source": []
  },
  {
   "cell_type": "markdown",
   "metadata": {},
   "source": [
    "Los operadores lógicos proporcionan a menudo formas de simplificar las sentencias condicionales anidadas. Por ejemplo, podemos reescribir el siguiente código con un sólo condicional:"
   ]
  },
  {
   "cell_type": "code",
   "execution_count": null,
   "metadata": {},
   "outputs": [],
   "source": []
  },
  {
   "cell_type": "code",
   "execution_count": null,
   "metadata": {},
   "outputs": [],
   "source": [
    "if \n",
    "    if \n",
    "        print(\"x es un número positivo de un solo dígito.\")"
   ]
  },
  {
   "cell_type": "code",
   "execution_count": null,
   "metadata": {},
   "outputs": [],
   "source": [
    "if \n",
    "    print(\"x es un número positivo de un solo dígito.\")"
   ]
  },
  {
   "cell_type": "code",
   "execution_count": null,
   "metadata": {},
   "outputs": [],
   "source": [
    "if \n",
    "    print(\"x es un número positivo de un solo dígito.\")"
   ]
  },
  {
   "cell_type": "markdown",
   "metadata": {},
   "source": [
    "# Tarea: \n",
    "\n",
    "- Realice un conversor de divisas (Pesos a dólares) "
   ]
  },
  {
   "cell_type": "code",
   "execution_count": null,
   "metadata": {},
   "outputs": [],
   "source": []
  },
  {
   "cell_type": "markdown",
   "metadata": {},
   "source": [
    "- Pídele al usuario un números entero, y verifica si es par o impar. "
   ]
  },
  {
   "cell_type": "code",
   "execution_count": null,
   "metadata": {},
   "outputs": [],
   "source": []
  },
  {
   "cell_type": "markdown",
   "metadata": {},
   "source": [
    "Si el residuo de dividir x entre 2 es 0, entonces sabemos que x es par, y el programa muestra un mensaje anunciando esto. Si la condición es falsa, la segunda sentencia se ejecuta. Puesto que la condición debe ser verdadera o falsa, se ejecutará exactamente una de las alternativas. Estas alternativas se denominan ramas, porque son ramas en el flujo de ejecución."
   ]
  },
  {
   "cell_type": "code",
   "execution_count": null,
   "metadata": {},
   "outputs": [],
   "source": []
  },
  {
   "cell_type": "markdown",
   "metadata": {},
   "source": [
    "Pídele al usuario dos números, y compáralos entre si para saber los siguientes casos.\n",
    "\n",
    "-\t'Los números', a, 'y', b, 'son iguales'\n",
    "-\t'El número', a, 'es menor que', b\n",
    "-\t'El número', b, 'es menor que', a\n"
   ]
  },
  {
   "cell_type": "code",
   "execution_count": null,
   "metadata": {},
   "outputs": [],
   "source": []
  },
  {
   "cell_type": "markdown",
   "metadata": {},
   "source": [
    "- Escribe un programa que pida tres números y que escriba si son los tres iguales, si hay dos iguales o si son los tres distintos."
   ]
  },
  {
   "cell_type": "markdown",
   "metadata": {},
   "source": [
    "# Reto \n",
    "- Escribe un programa que pida una distancia en centímetros y que escriba esa distancia en kilómetros, metros y centímetros (escribiendo solamente las unidades necesarias)."
   ]
  },
  {
   "cell_type": "code",
   "execution_count": null,
   "metadata": {},
   "outputs": [],
   "source": []
  }
 ],
 "metadata": {
  "hide_input": false,
  "kernelspec": {
   "display_name": "Python 3",
   "language": "python",
   "name": "python3"
  },
  "language_info": {
   "codemirror_mode": {
    "name": "ipython",
    "version": 3
   },
   "file_extension": ".py",
   "mimetype": "text/x-python",
   "name": "python",
   "nbconvert_exporter": "python",
   "pygments_lexer": "ipython3",
   "version": "3.6.4"
  },
  "toc": {
   "base_numbering": 1,
   "nav_menu": {},
   "number_sections": true,
   "sideBar": true,
   "skip_h1_title": false,
   "title_cell": "Table of Contents",
   "title_sidebar": "Contents",
   "toc_cell": false,
   "toc_position": {},
   "toc_section_display": true,
   "toc_window_display": false
  },
  "varInspector": {
   "cols": {
    "lenName": 16,
    "lenType": 16,
    "lenVar": 40
   },
   "kernels_config": {
    "python": {
     "delete_cmd_postfix": "",
     "delete_cmd_prefix": "del ",
     "library": "var_list.py",
     "varRefreshCmd": "print(var_dic_list())"
    },
    "r": {
     "delete_cmd_postfix": ") ",
     "delete_cmd_prefix": "rm(",
     "library": "var_list.r",
     "varRefreshCmd": "cat(var_dic_list()) "
    }
   },
   "types_to_exclude": [
    "module",
    "function",
    "builtin_function_or_method",
    "instance",
    "_Feature"
   ],
   "window_display": false
  }
 },
 "nbformat": 4,
 "nbformat_minor": 1
}
