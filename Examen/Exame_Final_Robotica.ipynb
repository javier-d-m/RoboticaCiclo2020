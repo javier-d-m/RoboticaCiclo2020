{
 "cells": [
  {
   "cell_type": "markdown",
   "metadata": {
    "colab": {
     "base_uri": "https://localhost:8080/",
     "height": 35
    },
    "colab_type": "code",
    "id": "4IDadctXdOur",
    "outputId": "4f2d374a-1acd-454f-a457-1f948bb61008"
   },
   "source": [
    "!start ."
   ]
  },
  {
   "cell_type": "markdown",
   "metadata": {
    "colab_type": "text",
    "id": "3IS2-DnJdOu4"
   },
   "source": [
    "# <font color =blue> Examen   </font>\n",
    "\n",
    "Lea cuidadosamente las siguientes indicaciones antes de comenzar el examen:\n",
    "\n",
    "- Para resolver el examen edite este mismo archivo y renómbrelo de la siguiente manera: *Examen1_ApellidoNombre*, donde *ApellidoNombre* corresponde a su apellido paterno con la inicial en mayúscula, seguido de su primer nombre con la inicial en mayúscula **sin acentos**. Por ejemplo, en mi caso el nombre del archivo sería Examen1_LopezMichel.\n",
    "- Resuelva los puntos en el espacio provisto. Si requiere agregar más celdas para código o escritura, hágalo.\n",
    "- Recuerde que también se está evaluando su capacidad de interpretar los resultados. Escriba sus interpretaciones/conclusiones en celdas utilizando *Markdown*.\n",
    "- No se resuelven dudas de ningún tipo por los profesores de la asignatura. Por favor, absténgase de preguntar.\n",
    "\n",
    "<font color = blue> - El formato de presentación de todo el examen en general debe ser adecuado. Use tamaños de letra, colores, etiquetas, etcétera. <font>\n"
   ]
  },
  {
   "cell_type": "code",
   "execution_count": 5,
   "metadata": {
    "colab": {},
    "colab_type": "code",
    "id": "4GbHJQhkdOu6"
   },
   "outputs": [],
   "source": [
    "%matplotlib inline \n",
    "\n",
    "import sympy as sym\n",
    "import numpy as np\n",
    "import matplotlib.pylab as plt\n",
    "\n",
    "from sympy import init_printing; init_printing(use_latex='mathjax')\n",
    "from IPython.display import display\n",
    "from IPython.display import HTML\n",
    "from scipy.integrate import odeint\n",
    "\n",
    "from sympy import *\n",
    "from scipy.optimize import linprog\n",
    "\n",
    "import markdown\n",
    "\n",
    "\n",
    "from ipywidgets import *\n",
    "\n",
    "Ley_Newton_enfriamiento='<iframe src=https://es.wikipedia.org/wiki/Ley_del_enfriamiento_de_Newton?useformat=mobile width=700 height=350></iframe>'\n",
    "Torricelli='<iframe src=https://en.wikipedia.org/wiki/Torricelli%27s_law?useformat=mobile width=700 height=350></iframe>'\n",
    "Caidalibre ='<iframe src=https://es.wikipedia.org/wiki/Ca%C3%ADda_libre?useformat=mobile width=700 height=350></iframe>'\n",
    "\n",
    "sym.var('k t x')\n",
    "\n",
    "T = sym.Function('T')"
   ]
  },
  {
   "cell_type": "code",
   "execution_count": 6,
   "metadata": {
    "colab": {},
    "colab_type": "code",
    "id": "rdrL9F_moOMP"
   },
   "outputs": [],
   "source": [
    "%matplotlib inline\n",
    "\n",
    "import matplotlib.pyplot as plt\n",
    "import numpy as np\n",
    "import sympy \n",
    "from scipy import integrate\n",
    "from scipy.optimize import minimize"
   ]
  },
  {
   "cell_type": "markdown",
   "metadata": {
    "colab_type": "text",
    "id": "tKxnHEOkdOvH"
   },
   "source": [
    "# <font color =blue>Primer punto.</font>\n",
    "\n",
    "## Introducción al problema. \n",
    "\n",
    "### Ley de Newton del enfriamiento\n",
    "\n",
    "La ley empírica de Newton, relativa al enfriamiento de un objeto, se expresa con la ecuación diferencial lineal de primer orden\n",
    "\n",
    "$$\\frac{dT}{dt} = k(T - Tm) $$\n",
    "\n",
    "donde $k$ es una constante de proporcionalidad, $T(t)$ es la temperatura del objeto cuando $t > 0$\n",
    "y $T_m$ es la temperatura ambiente; o sea, la temperatura del medio que rodea al objeto. \n",
    "\n",
    "Supondremos que $T_m$ es constante."
   ]
  },
  {
   "cell_type": "markdown",
   "metadata": {
    "colab_type": "text",
    "id": "dLvy6qT1dOvJ"
   },
   "source": [
    "### Para más información revise la siguiente pagina. "
   ]
  },
  {
   "cell_type": "code",
   "execution_count": 3,
   "metadata": {
    "colab": {
     "referenced_widgets": [
      "c37c1ab6a1154e9894a1c72870890839"
     ]
    },
    "colab_type": "code",
    "id": "hxvthl1rdOvL",
    "outputId": "e2c476f4-ddec-438d-80a5-12f085f61dce"
   },
   "outputs": [
    {
     "data": {
      "application/vnd.jupyter.widget-view+json": {
       "model_id": "04a2dc47c8904dd39d93992a69eaed7b",
       "version_major": 2,
       "version_minor": 0
      },
      "text/plain": [
       "HTML(value='<iframe src=https://es.wikipedia.org/wiki/Ley_del_enfriamiento_de_Newton?useformat=mobile width=70…"
      ]
     },
     "metadata": {},
     "output_type": "display_data"
    }
   ],
   "source": [
    "HTML(Ley_Newton_enfriamiento)"
   ]
  },
  {
   "cell_type": "markdown",
   "metadata": {
    "colab_type": "text",
    "id": "X01z9HJ9dOvU"
   },
   "source": [
    "## <font color = red> Problema 1 <font>\n",
    "\n",
    "### ¿Cuánto esperar para tomar el café?\n",
    "\n",
    "Primero calentamos el agua a $80°C$. Posteriormente agregamos café al vaso con el agua caliente. Después realizamos la medición de la temperatura ambiente, la cual fue de $24°C$. Realiza las siguientes actividades:\n",
    "]\n",
    "1. (20 puntos) Simula el sistema en un tiempo de $0$ a $120$ unidades de tiempo  con una constante de proporcionalidad $k=-0.0565$,  \n",
    "2. (15 puntos) \n",
    "    - (10 puntos) Grafique la solución.\n",
    "    - (5 puntos) Supoga que cada unidad de tiempo corresponde a un minuto. ¿En que tiempo aproximadamente la temperatura es menor a $30°C$?\n",
    "3. (15 puntos)\n",
    "    - (10 puntos) ¿Qué interpretación puedes decir para valores de $k >0$?\n",
    "    - (5  puntos) Busca una constante de proporcionalidad $k$ en un rango ( de $-0.2$ a $0.2$ con incremento de 0.01), para la cual el cafe tiene una temperatura menor de $30°C$ en un tiempo a 20 minutos."
   ]
  },
  {
   "cell_type": "code",
   "execution_count": 7,
   "metadata": {
    "colab": {},
    "colab_type": "code",
    "id": "VqaziZKgdOvV"
   },
   "outputs": [],
   "source": [
    " k=-0.0565\n",
    "Tm=24\n",
    "\n",
    "# defino las incognitas\n",
    "t = sympy.Symbol('t')\n",
    "T = sympy.Function('T')\n",
    "# Condición inicial\n",
    "Ci = {T(0): 80}\n",
    "# expreso la ecuacion\n",
    "f = k*(T(t)-Tm)\n",
    "# Resolviendo ecuación diferencial\n",
    "sol  = sympy.dsolve(T(t).diff(t) - f,ics=Ci)"
   ]
  },
  {
   "cell_type": "code",
   "execution_count": 8,
   "metadata": {
    "colab": {
     "base_uri": "https://localhost:8080/",
     "height": 34
    },
    "colab_type": "code",
    "id": "_dLeO88ndOvb",
    "outputId": "6dcc3dea-ad02-45a6-d944-a4fcb5510ca3"
   },
   "outputs": [
    {
     "data": {
      "text/latex": [
       "$\\displaystyle T{\\left(t \\right)} = 24.0 + 56.0 e^{- 0.0565 t}$"
      ],
      "text/plain": [
       "                    -0.0565⋅t\n",
       "T(t) = 24.0 + 56.0⋅ℯ         "
      ]
     },
     "execution_count": 8,
     "metadata": {},
     "output_type": "execute_result"
    }
   ],
   "source": [
    "sol"
   ]
  },
  {
   "cell_type": "code",
   "execution_count": 9,
   "metadata": {
    "colab": {},
    "colab_type": "code",
    "id": "KFhYWR3fv_4K"
   },
   "outputs": [],
   "source": [
    "#convertimos la ecuacion en una funcion\n",
    "func = lambdify(t, sol.rhs,'numpy')\n",
    "tvals = np.arange(0,120,1)\n",
    "Tvals = func(tvals)"
   ]
  },
  {
   "cell_type": "code",
   "execution_count": 10,
   "metadata": {
    "colab": {
     "base_uri": "https://localhost:8080/",
     "height": 34
    },
    "colab_type": "code",
    "id": "GBQHtFAzwgAw",
    "outputId": "8828af9c-5ca4-4289-b271-c75291e65803"
   },
   "outputs": [
    {
     "data": {
      "text/plain": [
       "numpy.float64"
      ]
     },
     "execution_count": 10,
     "metadata": {},
     "output_type": "execute_result"
    }
   ],
   "source": [
    "type(Tvals[0])"
   ]
  },
  {
   "cell_type": "markdown",
   "metadata": {
    "colab_type": "text",
    "id": "DvS_61YFwEc8"
   },
   "source": [
    "RESPUESTA A INCISO 1 y 2"
   ]
  },
  {
   "cell_type": "code",
   "execution_count": 11,
   "metadata": {
    "colab": {
     "base_uri": "https://localhost:8080/",
     "height": 626
    },
    "colab_type": "code",
    "id": "fkiS19ANwCzD",
    "outputId": "3f8fb551-be8b-4b67-b1a4-f538447c0c04"
   },
   "outputs": [
    {
     "data": {
      "image/png": "[encoded data removed]",
      "text/plain": [
       "<Figure size 432x288 with 1 Axes>"
      ]
     },
     "metadata": {
      "needs_background": "light"
     },
     "output_type": "display_data"
    },
    {
     "name": "stdout",
     "output_type": "stream",
     "text": [
      "Apartir del minuto 40 la temperatura es menor a 30 °C\n"
     ]
    }
   ],
   "source": [
    "#graficamos la funcion\n",
    "plt.plot(tvals,Tvals)\n",
    "plt.show()\n",
    "for Tmp in Tvals:\n",
    "    if(Tmp<=30):\n",
    "        print(\"Apartir del minuto\", np.where(Tvals==Tmp)[0][0],\"la temperatura es menor a 30 °C\")\n",
    "        break"
   ]
  },
  {
   "cell_type": "markdown",
   "metadata": {
    "colab_type": "text",
    "id": "6VpigMYcyfJ2"
   },
   "source": [
    "RESPUESTA A INCISO 3 3.1 Si el valor de k es mayor a 0 entonces la tempertura incrementa con el tiempo ya que del signo de este parámetro depende el signo de la exponencial de la funcion de temperatura. Ademas cuando el valor de k determina la rapidez de enfriamiento. Si k tiene a -infinito, la temperatura llega a cero instantaneamente."
   ]
  },
  {
   "cell_type": "markdown",
   "metadata": {
    "colab_type": "text",
    "id": "fcGiPyX5ychA"
   },
   "source": []
  },
  {
   "cell_type": "code",
   "execution_count": 12,
   "metadata": {
    "colab": {
     "base_uri": "https://localhost:8080/",
     "height": 34
    },
    "colab_type": "code",
    "id": "6Uj2vEqVyJcp",
    "outputId": "589acd25-e137-4d31-c27c-a550c4a9b574"
   },
   "outputs": [
    {
     "name": "stdout",
     "output_type": "stream",
     "text": [
      "k= -0.11999999999999994\n"
     ]
    }
   ],
   "source": [
    "# respuesta inciso 3.2\n",
    "#T=30°c t=20min\n",
    "for k in list(np.arange(-0.2,0.2,0.01)):\n",
    "    f=24.0+(56.0*np.exp(k*20))\n",
    "    if(f>=30):\n",
    "        print(\"k=\",value)\n",
    "        break\n",
    "    value=k"
   ]
  },
  {
   "cell_type": "markdown",
   "metadata": {
    "colab_type": "text",
    "id": "qrG5H6L5dOvl"
   },
   "source": [
    "## <font color = red> Problema 2 <font>  \n",
    "\n",
    "### ¿Cuánto esperar para comenzar a comer pastel?\n",
    "\n",
    "Al sacar un pastel del horno, su temperatura es $280°C$. Después de $3$ minutos, $2OO°C$. ¿En cuanto tiempo se enfriará hasta la temperatura ambiente de $28°C$? Realiza las siguientes actividades:\n",
    "\n",
    "1. (20 puntos) Simula el sistema en un tiempo de $0$ a $60$ unidades de tiempo  con una constante de proporcionalidad $k=-0.14518$,  \n",
    "2. (15 puntos) \n",
    "    - (10 puntos) Grafique la solución.\n",
    "    - (5 puntos) Supoga que cada unidad de tiempo corresponde a un minuto. ¿En que tiempo aproximadamente la temperatura es menor a $150°C$?\n",
    "3. (15 puntos)\n",
    "    - (10 puntos) ¿Qué interpretación puedes decir para valores de $k >0$?\n",
    "    - (5  puntos) Busca una constante de proporcionalidad $k$ en un rango ( de $-0.2$ a $0.2$ con incremento de 0.01), para la cual el pastel se puede comer a una temperatura menor a $50°C$ en un tiempo a 10 minutos."
   ]
  },
  {
   "cell_type": "code",
   "execution_count": 13,
   "metadata": {
    "colab": {},
    "colab_type": "code",
    "id": "NLJfQo4HdOvm"
   },
   "outputs": [
    {
     "data": {
      "text/latex": [
       "$\\displaystyle T{\\left(t \\right)} = 28.0 + 265.877181059486 e^{- 0.14518 t}$"
      ],
      "text/plain": [
       "                                -0.14518⋅t\n",
       "T(t) = 28.0 + 265.877181059486⋅ℯ          "
      ]
     },
     "execution_count": 13,
     "metadata": {},
     "output_type": "execute_result"
    }
   ],
   "source": [
    "k2=-0.14518\n",
    "Tm2=28\n",
    "\n",
    "# defino las incognitas\n",
    "t2 = sympy.Symbol('t')\n",
    "T2 = sympy.Function('T')\n",
    "# Condición inicial\n",
    "Ci2 = {T2(3): 200}\n",
    "# expreso la ecuacion\n",
    "f2 = k2*(T2(t2)-Tm2)\n",
    "# Resolviendo ecuación diferencial\n",
    "sol2  = sympy.dsolve(T2(t2).diff(t2) - f2,ics=Ci2)\n",
    "sol2"
   ]
  },
  {
   "cell_type": "code",
   "execution_count": 14,
   "metadata": {
    "colab": {},
    "colab_type": "code",
    "id": "lPvp9-bidOvx"
   },
   "outputs": [],
   "source": [
    "#convertimos la ecuacion en una funcion\n",
    "func2 = lambdify(t2, sol2.rhs,'numpy')\n",
    "tvals2 = np.arange(0,60,1)\n",
    "Tvals2 = func(tvals2)"
   ]
  },
  {
   "cell_type": "markdown",
   "metadata": {
    "colab_type": "text",
    "id": "cwey0W7AyTvM"
   },
   "source": [
    "RESPUESTA A INCISO 1 y 2"
   ]
  },
  {
   "cell_type": "code",
   "execution_count": 15,
   "metadata": {
    "colab": {
     "base_uri": "https://localhost:8080/",
     "height": 626
    },
    "colab_type": "code",
    "id": "cfIOn9sPdOv4",
    "outputId": "5d1645f5-788a-45bb-a91b-f01cfe33b370"
   },
   "outputs": [
    {
     "data": {
      "image/png": "[encoded data removed]",
      "text/plain": [
       "<Figure size 432x288 with 1 Axes>"
      ]
     },
     "metadata": {
      "needs_background": "light"
     },
     "output_type": "display_data"
    },
    {
     "name": "stdout",
     "output_type": "stream",
     "text": [
      "Apartir del minuto 0 la temperatura es menor a 150 °C\n"
     ]
    }
   ],
   "source": [
    "#graficamos la funcion\n",
    "plt.plot(tvals2,Tvals2)\n",
    "plt.show()\n",
    "for Tmp in Tvals2:\n",
    "    if(Tmp<=150):\n",
    "        print(\"Apartir del minuto\", np.where(Tvals2==Tmp)[0][0],\"la temperatura es menor a 150 °C\")\n",
    "        break"
   ]
  },
  {
   "cell_type": "markdown",
   "metadata": {
    "colab_type": "text",
    "id": "b8uCLa2LyhnM"
   },
   "source": [
    "RESPUESTA A INCISO 3: 3.1 Si el valor de k es mayor a 0 entonces la tempertura incrementa con el tiempo ya que del signo de este parámetro depende el signo de la exponencial de la funcion de temperatura. Ademas cuando el valor de k determina la rapidez de enfriamiento. Si k tiene a -infinito, la temperatura llega a cero instantaneamente."
   ]
  },
  {
   "cell_type": "code",
   "execution_count": 16,
   "metadata": {
    "colab": {
     "base_uri": "https://localhost:8080/",
     "height": 34
    },
    "colab_type": "code",
    "id": "HnMEGokcynNp",
    "outputId": "bd5cbd4e-86c4-44d8-a750-48ed0d76fb69"
   },
   "outputs": [
    {
     "name": "stdout",
     "output_type": "stream",
     "text": [
      "k= None\n",
      "No existe un valor de k entre -0.2 y 0.2 que permita que la temperatura del pastel sea menor a 50 en 10 min\n"
     ]
    }
   ],
   "source": [
    "# respuesta inciso 3.2\n",
    "#T=50°c t=10min\n",
    "val=None\n",
    "for k2 in list(np.arange(-0.2,0.2,0.01)):\n",
    "    f2=28.0+(265.877181059486*np.exp(k2*10))\n",
    "    if(f2>50):\n",
    "        print(\"k=\",val)\n",
    "        break\n",
    "    val=k2\n",
    "if(val==None):\n",
    "    print(\"No existe un valor de k entre -0.2 y 0.2 que permita que la temperatura del pastel sea menor a 50 en 10 min\")"
   ]
  },
  {
   "cell_type": "markdown",
   "metadata": {
    "colab_type": "text",
    "id": "RTPnMI4UdOv9"
   },
   "source": [
    "# <font color =blue>Segundo punto.</font>\n",
    "\n",
    "## Introducción al problema. \n",
    "\n",
    "### Caída libre\n",
    "\n",
    "En la caída libre ideal, se desprecia la resistencia aerodinámica que presenta el aire al movimiento del cuerpo, analizando lo que pasaría en el vacío. En esas condiciones, la aceleración que adquiriría el cuerpo sería debida exclusivamente a la gravedad, siendo independiente de su masa.\n",
    "\n",
    "$$\n",
    "\\begin{eqnarray}\n",
    "\\frac{ds}{dt} &=& v \\\\\n",
    "\\frac{dv}{dt} &=& -g\n",
    "\\end{eqnarray}\n",
    "$$\n",
    "\n",
    "O visto el sistema en forma canónica\n",
    "\n",
    "$$\n",
    "\\begin{eqnarray}\n",
    "\\dot{x}_1 &=& x_2 \\\\\n",
    "\\dot{x}_2 &=& -g\n",
    "\\end{eqnarray}\n",
    "$$\n"
   ]
  },
  {
   "cell_type": "markdown",
   "metadata": {
    "colab_type": "text",
    "id": "nlP9M6podOv-"
   },
   "source": [
    "### Para más información revise la siguiente pagina. "
   ]
  },
  {
   "cell_type": "code",
   "execution_count": 15,
   "metadata": {
    "colab": {
     "referenced_widgets": [
      "7efbcb7ca1ff43b18713f76ef0b19242"
     ]
    },
    "colab_type": "code",
    "id": "nDG_ueV7dOwA",
    "outputId": "2153580d-cd14-45b5-8a65-d034c4065e50",
    "scrolled": true
   },
   "outputs": [
    {
     "data": {
      "application/vnd.jupyter.widget-view+json": {
       "model_id": "856f4d5d190945ee98cbed4533f75559",
       "version_major": 2,
       "version_minor": 0
      },
      "text/plain": [
       "HTML(value='<iframe src=https://es.wikipedia.org/wiki/Ca%C3%ADda_libre?useformat=mobile width=700 height=350><…"
      ]
     },
     "metadata": {},
     "output_type": "display_data"
    }
   ],
   "source": [
    "HTML(Caidalibre)"
   ]
  },
  {
   "cell_type": "markdown",
   "metadata": {
    "colab_type": "text",
    "id": "NwVnMX5XdOwH"
   },
   "source": [
    "## <font color = red> Problema 3 <font>\n",
    "\n",
    "### Deja caer una pelota\n",
    "\n",
    "Desde un edificio de altura de $314$ metros se deja caer una pelota, que tarda 8 segundos en llegar al piso. ¿con que velocidad impacta la pelota contra el piso?\n",
    "\n",
    "\n",
    "1. (20 puntos) Simula el sistema en un tiempo de $0$ a $8$ unidades de tiempo  con una constante de gravedad $g=-9.8$,  \n",
    "2. (15 puntos) \n",
    "    - (10 puntos) Grafique la solución.\n",
    "    - (5 puntos) Supoga que cada unidad de tiempo corresponde a un segundo. ¿En que tiempo aproximadamente la pelota esta a la mitad del edificio?\n",
    "3. (15 puntos)\n",
    "    - (10 puntos) ¿Qué interpretación puedes decir para una posicion inicial de $314 m$ y una velocidad de $30 m/s$ ?\n",
    "    - (5  puntos) ¿Que altura aproximadamente tendra en $10s$ para el incisio anterior?\n",
    "\n",
    "\n",
    "\n"
   ]
  },
  {
   "cell_type": "code",
   "execution_count": null,
   "metadata": {
    "colab": {},
    "colab_type": "code",
    "id": "hbwc8YWXdOwI",
    "outputId": "03ac695b-f958-402e-a0ef-2ecff71558cf"
   },
   "outputs": [],
   "source": []
  },
  {
   "cell_type": "code",
   "execution_count": 17,
   "metadata": {
    "colab": {
     "base_uri": "https://localhost:8080/",
     "height": 591
    },
    "colab_type": "code",
    "id": "YxHzF0cqdOwP",
    "outputId": "a23235c4-2e49-4a7b-e6c6-157b9882942a"
   },
   "outputs": [
    {
     "data": {
      "image/png": "[encoded data removed]",
      "text/plain": [
       "<Figure size 432x288 with 1 Axes>"
      ]
     },
     "metadata": {
      "needs_background": "light"
     },
     "output_type": "display_data"
    },
    {
     "name": "stdout",
     "output_type": "stream",
     "text": [
      "la pelota impacta contra el piso a una velocidad de:  -78.4 m/s\n"
     ]
    },
    {
     "data": {
      "image/png": "[encoded data removed]",
      "text/plain": [
       "<Figure size 432x288 with 1 Axes>"
      ]
     },
     "metadata": {
      "needs_background": "light"
     },
     "output_type": "display_data"
    },
    {
     "name": "stdout",
     "output_type": "stream",
     "text": [
      "La pelota está a la mitad del edificio en el tiempo:  5.660460787473985 segundos\n"
     ]
    }
   ],
   "source": [
    "import numpy as np\n",
    "from matplotlib import pyplot as plt \n",
    "g=-9.8\n",
    "d = np.arange(start=314, stop=-1, step=-1)\n",
    "t= np.arange(0,9)\n",
    "\n",
    "\n",
    "vf = g*t\n",
    "plt.title(\"Vi=0 m/s\") \n",
    "plt.xlabel(\"Tiempo\") \n",
    "plt.ylabel(\"Velocidad\") \n",
    "plt.plot(t,vf) \n",
    "plt.grid()\n",
    "plt.show()\n",
    "print(\"la pelota impacta contra el piso a una velocidad de: \",vf[8], \"m/s\")\n",
    "\n",
    "\n",
    "dd=(vf)*t/2\n",
    "plt.xlabel(\"Tiempo\") \n",
    "plt.ylabel(\"Posición\") \n",
    "plt.grid()\n",
    "dt=d[0]/2\n",
    "td=np.sqrt(2*(d[0]/2)/-g)\n",
    "plt.plot(td,-dt,\"bo\")\n",
    "plt.plot(t,dd)\n",
    "plt.show()\n",
    "\n",
    "print(\"La pelota está a la mitad del edificio en el tiempo: \", td , \"segundos\")\n",
    "\n"
   ]
  },
  {
   "cell_type": "code",
   "execution_count": 18,
   "metadata": {
    "colab": {
     "base_uri": "https://localhost:8080/",
     "height": 591
    },
    "colab_type": "code",
    "id": "2PHe8rzedOwZ",
    "outputId": "78ce35e7-e203-49e4-e6d1-7bdab4ca3c32"
   },
   "outputs": [
    {
     "data": {
      "image/png": "[encoded data removed]",
      "text/plain": [
       "<Figure size 432x288 with 1 Axes>"
      ]
     },
     "metadata": {
      "needs_background": "light"
     },
     "output_type": "display_data"
    },
    {
     "name": "stdout",
     "output_type": "stream",
     "text": [
      "INTERPRETACIÓN: La pelota tarda más tiempo en caer e impacta con una velocidad mayor\n"
     ]
    },
    {
     "data": {
      "image/png": "[encoded data removed]",
      "text/plain": [
       "<Figure size 432x288 with 1 Axes>"
      ]
     },
     "metadata": {
      "needs_background": "light"
     },
     "output_type": "display_data"
    },
    {
     "name": "stdout",
     "output_type": "stream",
     "text": [
      "La pelota ha recorrido 190.00000000000006 metros en  10 segundos\n"
     ]
    }
   ],
   "source": [
    "import numpy as np\n",
    "from matplotlib import pyplot as plt \n",
    "g=-9.8\n",
    "vi=30\n",
    "d = np.arange(start=314, stop=-1, step=-1)\n",
    "vf=-np.sqrt(abs(vi**2+2*-g*d[0]))\n",
    "tf=abs(2*d[0]/(vi+vf))\n",
    "t= np.arange(0,tf+1)\n",
    "\n",
    "vf=vi+g*t\n",
    "\n",
    "plt.title(\"Vi=30 m/s\") \n",
    "plt.xlabel(\"Tiempo\") \n",
    "plt.ylabel(\"Velocidad\") \n",
    "plt.plot(t,vf) \n",
    "plt.grid()\n",
    "plt.show()\n",
    "print(\"INTERPRETACIÓN: La pelota tarda más tiempo en caer e impacta con una velocidad mayor\")\n",
    "\n",
    "dd=vi*t+(g*t**2)/2\n",
    "plt.xlabel(\"Tiempo\") \n",
    "plt.ylabel(\"Posición\") \n",
    "plt.grid()\n",
    "plt.plot(t,dd)\n",
    "\n",
    "t2=10\n",
    "d2= vi*t2+(g*t2**2)/2\n",
    "plt.plot(t2,d2,\"bo\")\n",
    "plt.show()\n",
    "\n",
    "print(\"La pelota ha recorrido\", -d2 , \"metros en \", t2, \"segundos\")\n",
    "\n"
   ]
  },
  {
   "cell_type": "markdown",
   "metadata": {
    "colab_type": "text",
    "id": "DJ0Ba7dndOwe"
   },
   "source": [
    "# <font color =blue>Tercer punto.</font>\n",
    "\n",
    "## Introducción al problema. \n",
    "\n",
    "## Drenado de un tanque (Ley de Torricelli)\n",
    "\n",
    "En hidrodinámica, la ley de Torricelli establece que la velocidad\n",
    "$v$ de flujo de salida de agua a través de un orificio plano ubicado en la parte inferior\n",
    "de un tanque lleno hasta una altura $h$ será igual a la velocidad que un cuerpo (en este caso\n",
    "una gota de agua) adquiriría en caída libre desde una altura $h$; es decir, $v = \\sqrt{2gh}$, donde $g$ es la aceleración debida a la gravedad.\n",
    "\n",
    "\n",
    "Suponga que un tanque lleno de agua puede drenar mediante un orificio bajo la influencia de la gravedad. Deseamos encontrar la altura $h$ del agua restante en el tanque en el tiempo $t$.\n",
    "\n",
    "Si el área del orificio es $A_h$ (en $m^2$) y la velocidad del agua que sale del tanque es $v = \\sqrt{2gh}$ (en m/s), entonces el volumen del agua que abandona el tanque por segundo es $A_h \\sqrt{2gh}$ (en $m^3$/s). De este modo, si $V(t)$ indica el volumen del agua que hay en el tanque en el tiempo $t$, la ecuación diferencial deseada para la altura del agua en el tiempo t:\n",
    "\n",
    "$$\\frac{dh}{dt} = - \\frac{A_h}{A_w} \\sqrt{2gh} $$\n",
    "\n",
    "\n",
    "Donde $A_w$ (en $m^2$) representa el área constante de la superficie superior del agua.\n",
    "\n",
    "Observe que aquí ignoramos la posibilidad de fricción en el orificio, la cual puede ocasionar una reducción en la velocidad del flujo en\n",
    "dicho lugar\n",
    "\n"
   ]
  },
  {
   "cell_type": "markdown",
   "metadata": {
    "colab_type": "text",
    "id": "y0___Ot2dOwf"
   },
   "source": [
    "### Para más información revise la siguiente pagina. "
   ]
  },
  {
   "cell_type": "code",
   "execution_count": 18,
   "metadata": {
    "colab": {
     "referenced_widgets": [
      "df1deaca58234a72b973917739bdd71e"
     ]
    },
    "colab_type": "code",
    "id": "pwdwWMHedOwh",
    "outputId": "175ca277-5243-4948-feae-e6c9cf1ed20a"
   },
   "outputs": [
    {
     "data": {
      "application/vnd.jupyter.widget-view+json": {
       "model_id": "c5a7aee914c44c94be97732c695470e4",
       "version_major": 2,
       "version_minor": 0
      },
      "text/plain": [
       "HTML(value='<iframe src=https://en.wikipedia.org/wiki/Torricelli%27s_law?useformat=mobile width=700 height=350…"
      ]
     },
     "metadata": {},
     "output_type": "display_data"
    }
   ],
   "source": [
    "HTML(Torricelli)"
   ]
  },
  {
   "cell_type": "markdown",
   "metadata": {
    "colab_type": "text",
    "id": "zD9B10HKdOwn"
   },
   "source": [
    "## <font color = red> Problema 4 <font>\n",
    "\n",
    "### Drenado de un tanque \n",
    "\n",
    "Concidere un cilindro circular con un área constante de $A_w = 5 m^2$, en la parte inferior contiene un orificio de área $A_h = 1 m^2$ el cual podemos estar regulando la salida del liquido. En el interior del tanque se encuentra un liquido el cual tiene una altura inicial en el tiempo $0$ de $h(0)= 10 m$. Realiza las siguientes actividades:\n",
    "\n",
    "1. (20 puntos) Simula el sistema en un tiempo de $0$ a $6.5$ unidades de tiempo,  \n",
    "2. (15 puntos) \n",
    "    - (10 puntos) Grafique la solución.\n",
    "    - (5 puntos) Supoga que cada unidad de tiempo corresponde a un minuto. ¿En que tiempo aproximadamente la altura del liquido alcanza una altura de $h=2 m$?\n",
    "3. (15 puntos)\n",
    "    - (10 puntos) ¿Qué interpretación puedes decir si el signo de la ecuación fuera positivo?\n",
    "    - (5  puntos)  ¿Si el área del orificio $A_h$ es menor a $1 m^2$ que implicaria? Realiza una simulacion y grafica la solución para un orificio de $A_h = .5 m$ "
   ]
  },
  {
   "cell_type": "code",
   "execution_count": 19,
   "metadata": {
    "colab": {},
    "colab_type": "code",
    "id": "iwzllwejdOwo"
   },
   "outputs": [],
   "source": [
    "import numpy as np\n",
    "import matplotlib.pyplot as plt\n",
    "from scipy.integrate import odeint"
   ]
  },
  {
   "cell_type": "code",
   "execution_count": 20,
   "metadata": {
    "colab": {},
    "colab_type": "code",
    "id": "rPnZUdaYdOws"
   },
   "outputs": [],
   "source": [
    "#Unidades\n",
    "g=9.81#m/s^2\n",
    "Aw=5#m^2\n",
    "Ah=1#m^2\n",
    "h0=10#m"
   ]
  },
  {
   "cell_type": "code",
   "execution_count": 21,
   "metadata": {
    "colab": {},
    "colab_type": "code",
    "id": "jNxelFVDdOwx"
   },
   "outputs": [],
   "source": [
    "t = np.linspace(0,6.5)#valores a evaluar"
   ]
  },
  {
   "cell_type": "code",
   "execution_count": 22,
   "metadata": {
    "colab": {},
    "colab_type": "code",
    "id": "JNLnqxFgdOw2"
   },
   "outputs": [],
   "source": [
    "def tank(h,t):#Modelado del tanque\n",
    "    dhdt=(-(Ah/Aw)*np.sqrt(np.abs(2*g*h)))\n",
    "    return dhdt\n"
   ]
  },
  {
   "cell_type": "markdown",
   "metadata": {
    "colab_type": "text",
    "id": "RHEvNjyNdOw6"
   },
   "source": [
    "### Solución ejercicio 4.1"
   ]
  },
  {
   "cell_type": "code",
   "execution_count": 23,
   "metadata": {
    "colab": {},
    "colab_type": "code",
    "id": "P0_V5uF8dOw8"
   },
   "outputs": [],
   "source": [
    "h = odeint(tank,h0,t)"
   ]
  },
  {
   "cell_type": "markdown",
   "metadata": {
    "colab_type": "text",
    "id": "QWfE836XdOxA"
   },
   "source": [
    "### Solución ejercicio 4.2.a"
   ]
  },
  {
   "cell_type": "code",
   "execution_count": 24,
   "metadata": {
    "colab": {},
    "colab_type": "code",
    "id": "UymelIgkdOxB",
    "outputId": "f37f2214-db00-49fb-f664-f3f692c3d745"
   },
   "outputs": [
    {
     "data": {
      "image/png": "[encoded data removed]",
      "text/plain": [
       "<Figure size 432x288 with 1 Axes>"
      ]
     },
     "metadata": {
      "needs_background": "light"
     },
     "output_type": "display_data"
    }
   ],
   "source": [
    "plt.figure(1)\n",
    "plt.plot(t,h)\n",
    "plt.xlabel('Time (s)')\n",
    "plt.ylabel('Height (m)')\n",
    "plt.grid()\n",
    "plt.show()"
   ]
  },
  {
   "cell_type": "markdown",
   "metadata": {
    "colab_type": "text",
    "id": "auLbXApZdOxG",
    "scrolled": true
   },
   "source": [
    "### Solución ejercicio 4.2.b"
   ]
  },
  {
   "cell_type": "code",
   "execution_count": 25,
   "metadata": {
    "colab": {},
    "colab_type": "code",
    "id": "WGpshHTSdOxH"
   },
   "outputs": [],
   "source": [
    "def findh(n,h,t):\n",
    "    hmin=1\n",
    "    for ti,hi in zip(t,h):\n",
    "      if(hi!=np.nan):  \n",
    "        if(np.abs(hi-n)<hmin):\n",
    "            tmin=ti\n",
    "            hmin=hi-n\n",
    "    return tmin\n"
   ]
  },
  {
   "cell_type": "code",
   "execution_count": 26,
   "metadata": {
    "colab": {},
    "colab_type": "code",
    "id": "19snDYfidOxO",
    "outputId": "80fdca20-4bf6-4e62-9ca2-06229f784c4a"
   },
   "outputs": [
    {
     "name": "stdout",
     "output_type": "stream",
     "text": [
      "3.979591836734694\n"
     ]
    }
   ],
   "source": [
    "print(findh(2,h,t))"
   ]
  },
  {
   "cell_type": "markdown",
   "metadata": {
    "colab_type": "text",
    "id": "ZWu5E6npdOxS"
   },
   "source": [
    "### Solución ejercicio 4.3.a"
   ]
  },
  {
   "cell_type": "markdown",
   "metadata": {
    "colab_type": "text",
    "id": "3J0n0xyMdOxU"
   },
   "source": [
    "Que el tanque se está llenando pero cada vez lo hace más rápido"
   ]
  },
  {
   "cell_type": "markdown",
   "metadata": {
    "colab_type": "text",
    "id": "E4sumJYvdOxU"
   },
   "source": [
    "### Solución ejercicio 4.3.b"
   ]
  },
  {
   "cell_type": "markdown",
   "metadata": {
    "colab_type": "text",
    "id": "sT_QwIjbdOxU"
   },
   "source": [
    "Significa que se vaciará más rápido"
   ]
  },
  {
   "cell_type": "code",
   "execution_count": 27,
   "metadata": {
    "colab": {},
    "colab_type": "code",
    "id": "YtceCrdpdOxV",
    "outputId": "6b8d360f-72d1-4620-eaee-117d0935988e"
   },
   "outputs": [
    {
     "data": {
      "image/png": "[encoded data removed]",
      "text/plain": [
       "<Figure size 432x288 with 1 Axes>"
      ]
     },
     "metadata": {
      "needs_background": "light"
     },
     "output_type": "display_data"
    }
   ],
   "source": [
    "Ah=0.5#m^2\n",
    "h = odeint(tank,h0,t)\n",
    "plt.figure(1)\n",
    "plt.plot(t,h)\n",
    "plt.xlabel('Time (s)')\n",
    "plt.ylabel('Height (m)')\n",
    "plt.grid()\n",
    "plt.show()"
   ]
  },
  {
   "cell_type": "markdown",
   "metadata": {
    "colab_type": "text",
    "id": "zqbID-0tdOxc"
   },
   "source": [
    "## <font color = red> Problema 5 <font>\n",
    "\n",
    "### Modelo poblacional \n",
    "\n",
    "Simula la siguiente ecuación, y supoga que cada unidad de tiempo corresponde a un minuto.\n",
    "\n",
    "$$\\frac{ds}{dt} = 0.05s(\\frac{s}{20}-1)(1-\\frac{s}{100}) $$\n",
    "\n",
    "\n",
    "1. (20 puntos) Simula el sistema en un tiempo de $0$ a $200$ unidades de tiempo, con la condición inicial $s(0) = 21$  \n",
    "2. (15 puntos) \n",
    "    - (10 puntos) Grafique la solución.\n",
    "    - (5 puntos) ¿En que tiempo aproximadamente la poblacion alcanza su maxima capacidad?\n",
    "3. (15 puntos)\n",
    "    - (5 puntos) ¿Cual es la capacidad de soporte de este modelo poblacional?\n",
    "    - (10  puntos) ¿Que pasa con una condición inicial menor (s(0)=21) ? ¿Y con una condición mayor a la capacidad de soporte? "
   ]
  },
  {
   "cell_type": "code",
   "execution_count": 28,
   "metadata": {
    "colab": {},
    "colab_type": "code",
    "id": "_o2-YVlidOxc"
   },
   "outputs": [],
   "source": [
    "s0=21\n",
    "t = np.linspace(0,200)#valores a evaluar"
   ]
  },
  {
   "cell_type": "code",
   "execution_count": 29,
   "metadata": {
    "colab": {},
    "colab_type": "code",
    "id": "yZgqDduEdOxf"
   },
   "outputs": [],
   "source": [
    "def population(s,t):#Modelado\n",
    "    dsdt=(0.05*s*(s/20-1)*(1-s/100))\n",
    "    return dsdt"
   ]
  },
  {
   "cell_type": "markdown",
   "metadata": {
    "colab_type": "text",
    "id": "IR4APLTUdOxk"
   },
   "source": [
    "### Solución ejercicio 5.1"
   ]
  },
  {
   "cell_type": "code",
   "execution_count": 30,
   "metadata": {
    "colab": {},
    "colab_type": "code",
    "id": "Fzzt8su0dOxk"
   },
   "outputs": [],
   "source": [
    "s = odeint(population,s0,t)"
   ]
  },
  {
   "cell_type": "markdown",
   "metadata": {
    "colab_type": "text",
    "id": "EaFy2-OMdOxr"
   },
   "source": [
    "### Solución ejercicio 5.2.a"
   ]
  },
  {
   "cell_type": "code",
   "execution_count": 31,
   "metadata": {
    "colab": {},
    "colab_type": "code",
    "id": "Rt7eL8ihdOxv",
    "outputId": "a6847271-84b7-4e62-e8d7-80c4f3a3263a",
    "scrolled": true
   },
   "outputs": [
    {
     "data": {
      "image/png": "[encoded data removed]",
      "text/plain": [
       "<Figure size 432x288 with 1 Axes>"
      ]
     },
     "metadata": {
      "needs_background": "light"
     },
     "output_type": "display_data"
    }
   ],
   "source": [
    "plt.figure(1)\n",
    "plt.plot(t,s)\n",
    "plt.xlabel('Time (s)')\n",
    "plt.ylabel('population')\n",
    "plt.grid()\n",
    "plt.show()"
   ]
  },
  {
   "cell_type": "markdown",
   "metadata": {
    "colab_type": "text",
    "id": "o6xVVRfPdOx0"
   },
   "source": [
    "### Solución ejercicio 5.2.b"
   ]
  },
  {
   "cell_type": "code",
   "execution_count": 32,
   "metadata": {
    "colab": {},
    "colab_type": "code",
    "id": "r0iL-vttdOx0"
   },
   "outputs": [],
   "source": [
    "def finds(n,margin,s,t):\n",
    "    smin=100\n",
    "    tmin=0\n",
    "    for ti,si in zip(t,s):\n",
    "        if(np.abs(1-(np.abs(si/n)-margin))<smin):\n",
    "            tmin=ti\n",
    "            smin=np.abs(1-(np.abs(si/n)-margin))\n",
    "    return tmin"
   ]
  },
  {
   "cell_type": "code",
   "execution_count": 33,
   "metadata": {
    "colab": {},
    "colab_type": "code",
    "id": "o-CAuvtpdOx5",
    "outputId": "e328ec48-680e-4c6d-c4b8-b18c7c153819"
   },
   "outputs": [
    {
     "name": "stdout",
     "output_type": "stream",
     "text": [
      "102.04081632653062\n"
     ]
    }
   ],
   "source": [
    "print(finds(100,-0.01,s,t))#Llegando al 1%"
   ]
  },
  {
   "cell_type": "markdown",
   "metadata": {
    "colab_type": "text",
    "id": "vw5CqJC-dOx_"
   },
   "source": [
    "### Solución ejercicio 5.3.a"
   ]
  },
  {
   "cell_type": "markdown",
   "metadata": {
    "colab_type": "text",
    "id": "TWdF9YDLdOx_"
   },
   "source": [
    "el sistema al paso del tiempo se estabiliza al rededor de 100"
   ]
  },
  {
   "cell_type": "markdown",
   "metadata": {
    "colab_type": "text",
    "id": "WwEcmcwWdOyA"
   },
   "source": [
    "### Solución ejercicio 5.3.b"
   ]
  },
  {
   "cell_type": "code",
   "execution_count": 34,
   "metadata": {
    "colab": {},
    "colab_type": "code",
    "id": "3Y1AYgEMdOyB",
    "outputId": "dbaf3176-d32d-4f93-d19c-4d2243104abe"
   },
   "outputs": [
    {
     "data": {
      "image/png": "[encoded data removed]",
      "text/plain": [
       "<Figure size 432x288 with 1 Axes>"
      ]
     },
     "metadata": {
      "needs_background": "light"
     },
     "output_type": "display_data"
    }
   ],
   "source": [
    "s1 = odeint(population,20,t)\n",
    "s2 = odeint(population,19,t)\n",
    "s3 = odeint(population,110,t)\n",
    "plt.figure(1)\n",
    "plt.plot(t,s1,label='s=20')\n",
    "plt.plot(t,s2,label='s=19')\n",
    "plt.plot(t,s3,label='s=110')\n",
    "plt.legend(framealpha=1, frameon=True);\n",
    "plt.xlabel('Time (s)')\n",
    "plt.ylabel('population')\n",
    "plt.grid()\n",
    "plt.show()"
   ]
  },
  {
   "cell_type": "markdown",
   "metadata": {
    "colab_type": "text",
    "id": "oHszOdQ2dOyG"
   },
   "source": [
    "## <font color = red> Problema 6 (estabilizar el sistema)<font>\n",
    "\n",
    "Diseña una función $u$ diferente de 0, para que el siguiente sistema no crezca, y se aproxime a 0 cuando t -> $\\infty$.\n",
    "\n",
    "\n",
    "$$\\frac{ds}{dt} = 0.06u $$\n",
    "\n",
    "\n",
    "1. (20 puntos) Simula el sistema en un tiempo de $0$ a $800$ unidades de tiempo, con la condición inicial $s(0) = 10$  \n",
    "2. (15 puntos) \n",
    "    - (15 puntos) Grafique la solución.\n",
    "3. (15 puntos)\n",
    "    - (15 puntos) Escriba la ecuación de $u$ utilizada"
   ]
  },
  {
   "cell_type": "code",
   "execution_count": null,
   "metadata": {
    "colab": {},
    "colab_type": "code",
    "id": "KxsDkbRzdOyH",
    "outputId": "41f997ef-150f-4ad8-9897-db7eb08a9af7"
   },
   "outputs": [],
   "source": []
  },
  {
   "cell_type": "code",
   "execution_count": 35,
   "metadata": {
    "colab": {},
    "colab_type": "code",
    "id": "BwDII7g2dOyM"
   },
   "outputs": [],
   "source": [
    "import numpy as np\n",
    "from scipy.integrate import odeint\n",
    "import matplotlib.pyplot as plt\n",
    "\n",
    "def model(y,t):\n",
    "    k = 0.06\n",
    "    u = -0.2*y\n",
    "    dydt = k * u\n",
    "    return dydt\n",
    "\n",
    "s0 = 10\n",
    "\n",
    "t = np.linspace(0,800)\n",
    "\n",
    "s = odeint(model,s0,t)\n"
   ]
  },
  {
   "cell_type": "code",
   "execution_count": 36,
   "metadata": {
    "colab": {
     "base_uri": "https://localhost:8080/",
     "height": 279
    },
    "colab_type": "code",
    "id": "J6Yg3aYRuJ2f",
    "outputId": "68f0e84d-4f15-4b72-e257-9cae703a57de"
   },
   "outputs": [
    {
     "data": {
      "image/png": "[encoded data removed]",
      "text/plain": [
       "<Figure size 432x288 with 1 Axes>"
      ]
     },
     "metadata": {
      "needs_background": "light"
     },
     "output_type": "display_data"
    }
   ],
   "source": [
    "plt.plot(t,s)\n",
    "plt.xlabel('time')\n",
    "plt.ylabel('s(t)')\n",
    "plt.show()"
   ]
  },
  {
   "cell_type": "markdown",
   "metadata": {
    "colab_type": "text",
    "id": "-2T53KhXuUp5"
   },
   "source": [
    "### 3) SOLUCIÓN:\n",
    "\n",
    "$$u(t) = -0.4s(t) $$\n",
    "$$\\frac{ds}{dt} = 0.06(-0.4s(t)) $$"
   ]
  },
  {
   "cell_type": "markdown",
   "metadata": {
    "colab_type": "text",
    "id": "6wSQ9m-7dOyP"
   },
   "source": [
    "## <font color = red> Problema 7 <font>\n",
    "\n",
    "Diseña una función $u$ diferente de 0, para que el siguiente sistema no crezca, y se aproxime a 0 cuando t -> $\\infty$.\n",
    "\n",
    "\n",
    "$$\\frac{dx}{dt} = 2x^2 + 0.06u $$\n",
    "\n",
    "\n",
    "1. (20 puntos) Simula el sistema con la condición inicial $x(0) = 10$  \n",
    "2. (15 puntos) \n",
    "    - (15 puntos) Grafique la solución.\n",
    "3. (15 puntos)\n",
    "    - (15 puntos) Escriba la ecuación de $u$ utilizada"
   ]
  },
  {
   "cell_type": "code",
   "execution_count": null,
   "metadata": {
    "colab": {},
    "colab_type": "code",
    "id": "TYaB0u3FdOyQ",
    "outputId": "37c71a58-4c7c-43e1-b77c-14726540eab2"
   },
   "outputs": [],
   "source": []
  },
  {
   "cell_type": "code",
   "execution_count": 37,
   "metadata": {
    "colab": {},
    "colab_type": "code",
    "id": "ilP6knlddOyT"
   },
   "outputs": [],
   "source": [
    "import numpy as np\n",
    "from scipy.integrate import odeint\n",
    "import matplotlib.pyplot as plt\n",
    "\n",
    "def model(y,t):\n",
    "    k = 0.06\n",
    "    u = -2/0.06 * (y**2) + -0.4*y\n",
    "    dydt = 2*(y**2) + k*u\n",
    "    return dydt\n",
    "\n",
    "x0 = 10\n",
    "\n",
    "t = np.linspace(0,800)\n",
    "\n",
    "x = odeint(model,x0,t)"
   ]
  },
  {
   "cell_type": "code",
   "execution_count": 38,
   "metadata": {
    "colab": {
     "base_uri": "https://localhost:8080/",
     "height": 279
    },
    "colab_type": "code",
    "id": "ae16UP92urS8",
    "outputId": "f17fa2f6-53e1-44f3-bd9c-54a9a048e400"
   },
   "outputs": [
    {
     "data": {
      "image/png": "[encoded data removed]",
      "text/plain": [
       "<Figure size 432x288 with 1 Axes>"
      ]
     },
     "metadata": {
      "needs_background": "light"
     },
     "output_type": "display_data"
    }
   ],
   "source": [
    "plt.plot(t,x)\n",
    "plt.xlabel('time')\n",
    "plt.ylabel('x(t)')\n",
    "plt.show()"
   ]
  },
  {
   "cell_type": "markdown",
   "metadata": {
    "colab_type": "text",
    "id": "B7X2og-9ur_A"
   },
   "source": [
    "###3) SOLUCIÓN:\n",
    "\n",
    "$$u(t) = -( \\frac{2}{0.6}x^2 + x )$$\n",
    "$$\\frac{dx}{dt} = 2x^2 + 0.06u $$"
   ]
  },
  {
   "cell_type": "markdown",
   "metadata": {
    "colab_type": "text",
    "id": "JK1PTz5ZdOyW"
   },
   "source": [
    "## <font color = red> Problema 8 (seguimiento de trayectorias) <font>\n",
    "\n",
    "Diseña una función $u$ diferente de 0, para que el siguiente sistema siga una trayectoria. \n",
    "\n",
    "\n",
    "$$\\frac{dx}{dt} = 2x^2 + 0.06u $$\n",
    "\n",
    "\n",
    "1. (20 puntos) Simula el sistema con la condición inicial $x(0) = 10$  \n",
    "2. (15 puntos) \n",
    "    - (15 puntos) Grafique la solución siguiendo la funcion de referencia $ x_{ref} = sin(t) $\n",
    "3. (15 puntos)\n",
    "    - (15 puntos) Escriba la ecuación de $u$ utilizada"
   ]
  },
  {
   "cell_type": "code",
   "execution_count": null,
   "metadata": {
    "colab": {},
    "colab_type": "code",
    "id": "kjB8pGY1dOyX",
    "outputId": "a709308e-3baf-429e-d03e-8025df2c9013"
   },
   "outputs": [],
   "source": []
  },
  {
   "cell_type": "code",
   "execution_count": 39,
   "metadata": {
    "colab": {
     "base_uri": "https://localhost:8080/",
     "height": 279
    },
    "colab_type": "code",
    "id": "OKoqtNtmdOyZ",
    "outputId": "82bf612a-effa-4a32-ec72-e92d79292754"
   },
   "outputs": [
    {
     "data": {
      "image/png": "[encoded data removed]",
      "text/plain": [
       "<Figure size 432x288 with 1 Axes>"
      ]
     },
     "metadata": {
      "needs_background": "light"
     },
     "output_type": "display_data"
    }
   ],
   "source": [
    "import numpy as np\n",
    "from scipy.integrate import odeint\n",
    "import matplotlib.pyplot as plt\n",
    "t = np.linspace(0,800)\n",
    "# function that returns dy/dt\n",
    "def model(y,t):\n",
    "    dydt =  -y + 0.6*np.sin(t*np.pi/4)\n",
    "    return dydt\n",
    "\n",
    "# initial condition\n",
    "y0 = 10\n",
    "\n",
    "# time points\n",
    "\n",
    "x=0.6*np.sin(t*np.pi/4)\n",
    "# solve ODE\n",
    "y = odeint(model,y0,t)\n",
    "\n",
    "plt.plot(t,x)# plot results\n",
    "plt.plot(t,y)\n",
    "plt.xlabel('time')\n",
    "plt.ylabel('y(t)')\n",
    "plt.show()"
   ]
  },
  {
   "cell_type": "markdown",
   "metadata": {
    "colab_type": "text",
    "id": "ataLuxH3dOyc"
   },
   "source": [
    "## <font color = red> Problema 9  <font>\n",
    "\n",
    "\n",
    "Una empresa de transportes gestiona una flota de 60 carros de tres modelos diferentes. \n",
    "\n",
    "- Los tipo X generan una media diaria de $ \\$15,000$  pesos. y recorren diariamente una media de $400$ kilómetros. \n",
    "\n",
    "- Los tipo Black generan diariamente una media de $\\$10,000$ pesos y recorren $300$ kilómetros. \n",
    "\n",
    "- Los tipo SUV generan diariamente $\\$5,000$ pesos y recorren $100$ km. de media.\n",
    "\n",
    "Diariamente los carros de la empresa transportan un total de $ \\$475$ mil pesos y recorren $12500$ km. entre todos. \n",
    "\n",
    "¿Cuántos carros gestiona la empresa de cada modelo?"
   ]
  },
  {
   "cell_type": "code",
   "execution_count": null,
   "metadata": {
    "colab": {},
    "colab_type": "code",
    "id": "DkTUHoeedOyd",
    "outputId": "e0dcb825-5a38-4777-af4c-ea8c6a078dc5"
   },
   "outputs": [],
   "source": []
  },
  {
   "cell_type": "code",
   "execution_count": 40,
   "metadata": {
    "colab": {
     "base_uri": "https://localhost:8080/",
     "height": 36
    },
    "colab_type": "code",
    "id": "Kn9jAXf2dOyf",
    "outputId": "341160bc-8f57-4589-a4a6-1adfa358696a"
   },
   "outputs": [
    {
     "name": "stdout",
     "output_type": "stream",
     "text": [
      "La empresa gestiona: 5.0 vehículos del tipo X,  25.0 del tipo Black y  30.0 del tipo SUV\n"
     ]
    }
   ],
   "source": [
    "import numpy as np\n",
    "\n",
    "A=np.array([[15000,10000,5000],[400,300,100],[1,1,1]])\n",
    "b=np.array([475000,12500,60])\n",
    "\n",
    "z=np.linalg.solve(A,b)\n",
    "print(\"La empresa gestiona:\", np.round(z[0]), \"vehículos del tipo X, \" ,np.round(z[1]), \"del tipo Black y \",np.round(z[2]), \"del tipo SUV\")"
   ]
  },
  {
   "cell_type": "markdown",
   "metadata": {
    "colab_type": "text",
    "id": "mp5e_POQdOyo"
   },
   "source": [
    "## <font color = red> Problema 10  <font>\n",
    "\n",
    "Ace Novelty recibió un pedido del Magic World Amusement Park de **900 pandas gigantes, 1200 perros San Bernardo y 2000 pájaros grandes.** La dirección Ace decidió que **500 pandas, 800 perros y 1300 pájaros** pueden ser fabricados **en su planta de Los Ángeles**, y el **resto** del pedido podría realizarse **en la planta de Seattle.**\n",
    "\n",
    "Cada **panda** requiere **1.5** metros cuadradas de felpa, **30** metros cúbicos de relleno y **5** piezas de adorno; cada **perro** requiere **2** metros cuadradas de felpa, **35** metros cúbicos de relleno y **8** piezas de adorno, y cada **pájaro** requiere **2.5** metros cuadrados de felpa, **25** metros cúbicos de relleno y **15** piezas de adorno. La felpa cuesta **\\$4.50** por metro cuadrado, el relleno cuesta **\\$0.20** por metros cúbico y las piezas de adorno cuestan **\\$0.25** por unidad.\n",
    "\n",
    "a. Calcule la cantidad de cada tipo de material que se debe comprar para cada planta.\n",
    "\n",
    "b. ¿Cuál es el costo total de materiales empleados en cada planta y el costo total de los materiales usados por Ace Novelty para cubrir el pedido?"
   ]
  },
  {
   "cell_type": "markdown",
   "metadata": {
    "colab_type": "text",
    "id": "N6ds9phBdOyp"
   },
   "source": [
    "| |Felpa|Relleno|Adorno|\n",
    "|---|---|---|---|\n",
    "|Pandas|1.50|  30.00|  5.00|\n",
    "|Perros|2.00|  35.00|  8.00|\n",
    "|Pájaros|2.50|  25.00|  15.00|\n",
    "\n",
    "\n",
    "| |Pandas|Perros|Pájaros|\n",
    "|---|---|---|---|\n",
    "|L.A|500|800|1300|\n",
    "|Seattle|400|400|700|\n",
    "\n",
    "| | |\n",
    "|---|---|\n",
    "|Felpa|4.50|\n",
    "|Relleno|0.20|\n",
    "|Adorno|0.25|"
   ]
  },
  {
   "cell_type": "markdown",
   "metadata": {
    "colab_type": "text",
    "id": "B-Lj4pVKdOyq"
   },
   "source": [
    "A=$\\left[\n",
    " \\begin{array}{ccc}\n",
    " 1.50 & 30.00 & 5.00  \\\\\n",
    " 2.00 & 35.00 & 8.00  \\\\\n",
    " 2.50 & 25.00 & 15.00 \\\\\n",
    "\\end{array} \n",
    "\\right]$,\n",
    "P=\n",
    "$\\left[\n",
    " \\begin{array}{ccc}\n",
    " 500.00 & 800.00 & 1300.00 \\\\\n",
    " 400.00 & 400.00 & 700.00  \\\\\n",
    "\\end{array} \n",
    "\\right]$,\n",
    "C=\n",
    "$\\left[\n",
    " \\begin{array}{c}\n",
    " 4.5  \\\\\n",
    " 0.2  \\\\\n",
    " 0.25\n",
    "\\end{array} \n",
    "\\right]$"
   ]
  },
  {
   "cell_type": "code",
   "execution_count": 41,
   "metadata": {
    "colab": {},
    "colab_type": "code",
    "id": "AR3ydRaPdOyq"
   },
   "outputs": [],
   "source": [
    "import numpy as np\n",
    "\n",
    "A = np.array([[1.5, 30, 5],[2, 35, 8],[2.5, 25, 15]])\n",
    "P = np.array([[500, 800, 1300],[400,400,700]])\n",
    "C = np.array([[4.5],[0.2],[0.25]])"
   ]
  },
  {
   "cell_type": "code",
   "execution_count": 42,
   "metadata": {
    "colab": {},
    "colab_type": "code",
    "id": "6Z6EpF_TdOyt"
   },
   "outputs": [
    {
     "name": "stdout",
     "output_type": "stream",
     "text": [
      "Cantidad de cada tipo de material en Los Angeles:\n",
      "Felpa: 5600.0 m2\n",
      "Relleno: 75500.0 m3\n",
      "Adorno: 28400.0 pieza(s)\n",
      "\n",
      "Cantidad de cada tipo de material en Seattle:\n",
      "Felpa: 3150.0 m2\n",
      "Relleno: 43500.0 m3\n",
      "Adorno: 15700.0 pieza(s)\n",
      "\n"
     ]
    }
   ],
   "source": [
    "# a:La cantidad de cada tipo de material para cada planta,\n",
    "\n",
    "material_planta = np.dot(P,A)\n",
    "\n",
    "print(\"Cantidad de cada tipo de material en Los Angeles:\")\n",
    "print(\"Felpa:\",material_planta[0][0], \"m2\")\n",
    "print(\"Relleno:\",material_planta[0][1], \"m3\")\n",
    "print(\"Adorno:\",material_planta[0][2], \"pieza(s)\\n\")\n",
    "\n",
    "print(\"Cantidad de cada tipo de material en Seattle:\")\n",
    "print(\"Felpa:\",material_planta[1][0], \"m2\")\n",
    "print(\"Relleno:\",material_planta[1][1], \"m3\")\n",
    "print(\"Adorno:\",material_planta[1][2], \"pieza(s)\\n\")\n"
   ]
  },
  {
   "cell_type": "code",
   "execution_count": 43,
   "metadata": {
    "colab": {},
    "colab_type": "code",
    "id": "HtnUiWkUdOyw"
   },
   "outputs": [
    {
     "name": "stdout",
     "output_type": "stream",
     "text": [
      "Costo total de materiales en Los Angeles:\n",
      "$ 47400.0 \n",
      "\n",
      "Costo total de materiales en Seattle:\n",
      "$ 26800.0 \n",
      "\n"
     ]
    }
   ],
   "source": [
    "#b:El costo total de los materiales para cada planta está dada por\n",
    "\n",
    "costo_planta = np.dot(material_planta,C)\n",
    "\n",
    "print(\"Costo total de materiales en Los Angeles:\")\n",
    "print(\"$\", costo_planta[0][0],\"\\n\")\n",
    "print(\"Costo total de materiales en Seattle:\")\n",
    "print(\"$\", costo_planta[1][0],\"\\n\")"
   ]
  },
  {
   "cell_type": "code",
   "execution_count": 44,
   "metadata": {
    "colab": {},
    "colab_type": "code",
    "id": "crJdVjhJdOyz"
   },
   "outputs": [
    {
     "name": "stdout",
     "output_type": "stream",
     "text": [
      "Costo total para cubrir pedido:\n",
      "$ 74200\n"
     ]
    }
   ],
   "source": [
    "#Costo total\n",
    "\n",
    "costo_total = costo_planta[0]+costo_planta[1]\n",
    "\n",
    "print(\"Costo total para cubrir pedido:\")\n",
    "print(\"$\", int(costo_total))"
   ]
  },
  {
   "cell_type": "code",
   "execution_count": null,
   "metadata": {
    "colab": {},
    "colab_type": "code",
    "id": "s0vSMmVZdOy1"
   },
   "outputs": [],
   "source": []
  },
  {
   "cell_type": "markdown",
   "metadata": {
    "colab_type": "text",
    "id": "kVFRb1C0dOy6"
   },
   "source": [
    "## <font color = red> Problema 10  <font>\n",
    "\n",
    "Aproxima la función exponencial con n=20\n",
    "\n",
    "$$e^x =\\sum_{n=0}^{20} \\frac{x^n}{n!}$$"
   ]
  },
  {
   "cell_type": "code",
   "execution_count": 19,
   "metadata": {
    "colab": {},
    "colab_type": "code",
    "id": "7VVGrk_VdOy6"
   },
   "outputs": [],
   "source": [
    "def fact(a):    \n",
    "    if(a==0):\n",
    "        return 1\n",
    "    f=1\n",
    "    for i in range(1,a+1):\n",
    "        f *= i\n",
    "    return f   \n",
    "def exp(x,n=20):\n",
    "    sum=float()\n",
    "    for i in range(n):\n",
    "        sum += (x**i)/(fact(i))\n",
    "    return sum"
   ]
  },
  {
   "cell_type": "code",
   "execution_count": 20,
   "metadata": {
    "colab": {},
    "colab_type": "code",
    "id": "TJB0V4pPdOy8"
   },
   "outputs": [
    {
     "data": {
      "text/latex": [
       "$\\displaystyle 7.3890560989301735$"
      ],
      "text/plain": [
       "7.3890560989301735"
      ]
     },
     "execution_count": 20,
     "metadata": {},
     "output_type": "execute_result"
    }
   ],
   "source": [
    "exp(2)"
   ]
  },
  {
   "cell_type": "markdown",
   "metadata": {
    "colab_type": "text",
    "id": "rUfI9bt5dOzB"
   },
   "source": [
    "## <font color = red> Problema 11  <font>\n",
    "    \n",
    "### Construir una cisterna rectangular\n",
    "\n",
    "Se va a construir una cisterna rectangular con base y tapa cuadradas para almacenar **$12000pies^3$** de agua. Si el concreto para construir la base y los lados tiene un costo de **$100$ por $pie^2$** y el material para construir la **tapa** cuesta **$200$ por $pie^2$** \n",
    "\n",
    "¿cuáles son las dimensiones de la cisterna que minimizan el costo de su construcción?\n",
    "\n",
    "¿Qué se quiere en el problema?\n",
    "\n",
    "Determinar las dimensiones de la cisterna que minimizan el costo de su construcción.\n",
    "Suponiendo que las dimensiones de la cisterna son: \n",
    "$x$ pies el lado de la base cuadrada y $h$ pies su altura.\n",
    "\n",
    "¿Cuál es el costo de su construcción?\n",
    "\n",
    "![](cisterna.png)\n",
    "\n",
    "Para encontrar las dimensiones ($x$ & $h$) que minimizan el costo de su construcción se necesita la expresión del costo de la cisterna. Usamos la tabla siguiente:\n",
    "\n",
    "![](tablacisterna.png)\n",
    "\n",
    "El costo total de la contrucción de la cisterna es:\n",
    "\n",
    "$$ C = 300x^2 + 400xh \\text{   pesos}$$\n",
    "\n",
    "En el problema aparece la siguiente restricción: **el volumen de la cisterna debe ser igual a $12 000 pies^3$, es decir, que $x^2h = 12000$.**\n",
    "\n",
    "Tenemos pues:\n",
    "\n",
    "Una función $C = 300x^2 + 400xh$ y una ecuación $x^2h = 12 000$.\n",
    "De la ecuación despejamos una de las variables (la que más convenga) para sustituirla en la función. Conviene despejar $h$."
   ]
  },
  {
   "cell_type": "code",
   "execution_count": 45,
   "metadata": {
    "colab": {},
    "colab_type": "code",
    "id": "IGE9Qa-ddOzB"
   },
   "outputs": [],
   "source": [
    "import matplotlib.pyplot as plt\n",
    "import numpy as np\n",
    "from scipy.optimize import minimize"
   ]
  },
  {
   "cell_type": "code",
   "execution_count": 46,
   "metadata": {
    "colab": {
     "base_uri": "https://localhost:8080/",
     "height": 35
    },
    "colab_type": "code",
    "id": "eaNeljchdOzE",
    "outputId": "ef1a2704-b44e-4b88-84e3-43f9cf1293c4"
   },
   "outputs": [
    {
     "data": {
      "text/latex": [
       "$\\displaystyle 129600$"
      ],
      "text/plain": [
       "129600"
      ]
     },
     "execution_count": 46,
     "metadata": {},
     "output_type": "execute_result"
    }
   ],
   "source": [
    "#función objetivo\n",
    "def Total_Cost(Dimensions):\n",
    "    C = (300*Dimensions[0]**2)+(400*Dimensions[0]*Dimensions[1])\n",
    "    return C\n",
    "\n",
    "#restricción de volumen\n",
    "def Volume(Dimensions):\n",
    "    V = 12000\n",
    "    V = V - (Dimensions[0]**2 * Dimensions[1])\n",
    "    return V\n",
    "\n",
    "initial_guess = [12,18]\n",
    "Total_Cost(initial_guess)"
   ]
  },
  {
   "cell_type": "code",
   "execution_count": 47,
   "metadata": {
    "colab": {},
    "colab_type": "code",
    "id": "jz9-kIyMdOzH"
   },
   "outputs": [],
   "source": [
    "con_1 = {'type': 'ineq', 'fun':Total_Cost}\n",
    "con_2 = {'type': 'eq', 'fun':Volume}\n",
    "cons = [con_1,con_2]"
   ]
  },
  {
   "cell_type": "code",
   "execution_count": 48,
   "metadata": {
    "colab": {
     "base_uri": "https://localhost:8080/",
     "height": 181
    },
    "colab_type": "code",
    "id": "vA-cNDeQfXIo",
    "outputId": "cf1078e3-8ed9-4ad6-bd8f-8a4567839630"
   },
   "outputs": [
    {
     "data": {
      "text/plain": [
       "     fun: 359999.9999996771\n",
       "     jac: array([24000.        ,  8000.00390625])\n",
       " message: 'Optimization terminated successfully.'\n",
       "    nfev: 53\n",
       "     nit: 12\n",
       "    njev: 12\n",
       "  status: 0\n",
       " success: True\n",
       "       x: array([20.00000212, 29.99999365])"
      ]
     },
     "execution_count": 48,
     "metadata": {},
     "output_type": "execute_result"
    }
   ],
   "source": [
    "bounds = (1.0,500.0)\n",
    "bnds = [bounds,bounds]\n",
    "solution = minimize(Total_Cost,initial_guess,method='SLSQP',\\\n",
    "                   bounds=bnds,constraints=cons)\n",
    "solution"
   ]
  },
  {
   "cell_type": "code",
   "execution_count": 49,
   "metadata": {
    "colab": {
     "base_uri": "https://localhost:8080/",
     "height": 35
    },
    "colab_type": "code",
    "id": "j96oH9JSfXPc",
    "outputId": "2ddf113e-f262-4dbc-ca17-da45078b302a"
   },
   "outputs": [
    {
     "name": "stdout",
     "output_type": "stream",
     "text": [
      "Costo de construcción es: 359999.9999996771\n",
      "Con las siguientes dimensiones. X: 20.00000211514101 Y: 29.99999365453711\n"
     ]
    }
   ],
   "source": [
    "print(\"Costo de construcción es:\", solution.fun)\n",
    "print(\"Con las siguientes dimensiones. X:\",solution.x[0], \"Y:\", solution.x[1])"
   ]
  },
  {
   "cell_type": "code",
   "execution_count": 50,
   "metadata": {
    "colab": {
     "base_uri": "https://localhost:8080/",
     "height": 294
    },
    "colab_type": "code",
    "id": "jhkz5b_Kfaq6",
    "outputId": "d1f232ca-ec99-43e3-b1f3-d8d5c287275e"
   },
   "outputs": [
    {
     "data": {
      "image/png": "[encoded data removed]",
      "text/plain": [
       "<Figure size 432x288 with 1 Axes>"
      ]
     },
     "metadata": {
      "needs_background": "light"
     },
     "output_type": "display_data"
    },
    {
     "data": {
      "image/png": "[encoded data removed]",
      "text/plain": [
       "<Figure size 432x288 with 1 Axes>"
      ]
     },
     "metadata": {
      "needs_background": "light"
     },
     "output_type": "display_data"
    }
   ],
   "source": [
    "xdata = np.linspace(1,300,100)\n",
    "hdata = 12000/xdata**2\n",
    "Dimensions = [xdata,hdata]\n",
    "C = Total_Cost(Dimensions)\n",
    "Cost_Solution = Total_Cost(solution.x)\n",
    "C_solution=[Cost_Solution]*len(xdata)\n",
    "\n",
    "plt.figure()\n",
    "plt.plot(xdata,C,'k', xdata,C_solution,'r',solution.x[0],Cost_Solution,'bo')\n",
    "plt.axis([0, 60, 0, 1e6])\n",
    "\n",
    "plt.figure()\n",
    "plt.plot(hdata,C,'k', hdata,C_solution,'r',solution.x[1],Cost_Solution,'bo')\n",
    "plt.axis([0, 60, 0, 1e6])\n",
    "plt.show()"
   ]
  },
  {
   "cell_type": "markdown",
   "metadata": {
    "colab_type": "text",
    "id": "QboyEOYQdOzK"
   },
   "source": [
    "## <font color = red> Problema 12  <font>\n",
    "    \n",
    "\n",
    "Con el comienzo del curso se va a lanzar unas ofertas de material escolar. Unos almacenes quieren ofrecer 600 cuadernos, 500 carpetas y 400 bolígrafos para la oferta, empaquetándolo de dos formas distintas; en el primer bloque pondrá 2 cuadernos, 1 carpeta y 2 bolígrafos; en el segundo, pondrán 3 cuadernos, 1 carpeta y 1 bolígrafo. Los precios de cada paquete serán 6.5 y 7 €, respectivamente.\n",
    "\n",
    "¿Cuántos paquetes le conviene poner de cada tipo para obtener el máximo beneficio?\n"
   ]
  },
  {
   "cell_type": "markdown",
   "metadata": {
    "colab_type": "text",
    "id": "vrkWpXDqdOzK"
   },
   "source": [
    "![image.png](attachment:image.png)"
   ]
  },
  {
   "cell_type": "code",
   "execution_count": 51,
   "metadata": {
    "colab": {},
    "colab_type": "code",
    "id": "v0pr4ZVsdOzL"
   },
   "outputs": [],
   "source": [
    "import matplotlib.pyplot as plt\n",
    "import numpy as np\n",
    "from scipy.optimize import minimize"
   ]
  },
  {
   "cell_type": "code",
   "execution_count": 52,
   "metadata": {
    "colab": {
     "base_uri": "https://localhost:8080/",
     "height": 35
    },
    "colab_type": "code",
    "id": "MSMiFYISdOzP",
    "outputId": "79cff955-a12d-41b1-a824-7b4f8b64ca67"
   },
   "outputs": [
    {
     "data": {
      "text/latex": [
       "$\\displaystyle 3350.0$"
      ],
      "text/plain": [
       "3350.0"
      ]
     },
     "execution_count": 52,
     "metadata": {},
     "output_type": "execute_result"
    }
   ],
   "source": [
    "#función objetivo\n",
    "def obj_func(Package):\n",
    "    Val_Pack1 = 6.5\n",
    "    Val_Pack2 = 7\n",
    "    return Val_Pack1*Package[0] + Val_Pack2*Package[1]\n",
    "\n",
    "#constraint paquete 1\n",
    "def constraint_paq1(Package):\n",
    "    Cuadernos_Paq1=2\n",
    "    Cuadernos_Paq2=3\n",
    "    return 600 - (Cuadernos_Paq1*Package[0] + Cuadernos_Paq2*Package[1])\n",
    "\n",
    "#constraint paquete 2\n",
    "def constraint_paq2(Package):\n",
    "    Boli_Paq1=2\n",
    "    Boli_Paq2=1\n",
    "    return 400 - (Boli_Paq1*Package[0] + Boli_Paq2*Package[1])\n",
    "\n",
    "#constraint carpetas\n",
    "def constraint_folders(Package):\n",
    "    return 500 - (Package[0] + Package[1])\n",
    "\n",
    "#función a maximizar\n",
    "def objective(Package):\n",
    "    return -obj_func(Package)\n",
    "\n",
    "initial_guess = [300,200]\n",
    "obj_func(initial_guess)"
   ]
  },
  {
   "cell_type": "code",
   "execution_count": 53,
   "metadata": {
    "colab": {},
    "colab_type": "code",
    "id": "y0GipkfndOzS"
   },
   "outputs": [],
   "source": [
    "con_1 = {'type': 'ineq', 'fun':constraint_paq1}\n",
    "con_2 = {'type': 'ineq', 'fun':constraint_paq2}\n",
    "con_fol = {'type': 'ineq', 'fun':constraint_folders}\n",
    "cons = [con_1,con_2,con_fol]"
   ]
  },
  {
   "cell_type": "code",
   "execution_count": 54,
   "metadata": {
    "colab": {
     "base_uri": "https://localhost:8080/",
     "height": 181
    },
    "colab_type": "code",
    "id": "R8lgq3ajgvWQ",
    "outputId": "b59fe865-01fd-4b6a-96df-435ed728e302"
   },
   "outputs": [
    {
     "data": {
      "text/plain": [
       "     fun: -1675.0000000074115\n",
       "     jac: array([-6.5, -7. ])\n",
       " message: 'Optimization terminated successfully.'\n",
       "    nfev: 8\n",
       "     nit: 2\n",
       "    njev: 2\n",
       "  status: 0\n",
       " success: True\n",
       "       x: array([150., 100.])"
      ]
     },
     "execution_count": 54,
     "metadata": {},
     "output_type": "execute_result"
    }
   ],
   "source": [
    "solution = minimize(objective,initial_guess,method='SLSQP',\\\n",
    "                   constraints=cons)\n",
    "solution"
   ]
  },
  {
   "cell_type": "code",
   "execution_count": 55,
   "metadata": {
    "colab": {
     "base_uri": "https://localhost:8080/",
     "height": 35
    },
    "colab_type": "code",
    "id": "FjeEmvrNg2Z5",
    "outputId": "77972c15-6266-45a4-e10a-a1d1e89e9404"
   },
   "outputs": [
    {
     "name": "stdout",
     "output_type": "stream",
     "text": [
      "Máximo beneficio es de:  1675.0000000074115\n",
      "Paquetes 1:  150.00000000065677 Paquete 2:  100.00000000044892\n"
     ]
    }
   ],
   "source": [
    "print(\"Máximo beneficio es de: \",solution.fun*-1)\n",
    "print(\"Paquetes 1: \", solution.x[0], \"Paquete 2: \", solution.x[1])"
   ]
  },
  {
   "cell_type": "markdown",
   "metadata": {
    "colab_type": "text",
    "id": "911Baf_XdOzW"
   },
   "source": [
    "## <font color = red> Problema 13 <font>\n",
    "    \n",
    "Se dispone de 600 g de un determinado fármaco para elaborar pastillas grandes y pequeñas. Las grandes pesan 40 g y las pequeñas 30 g. Se necesitan al menos tres pastillas grandes, y al menos el doble de pequeñas que de las grandes. Cada pastilla grande proporciona un beneficio de 2 € y la pequeña de 1 €.\n",
    "\n",
    "¿Cuántas pastillas se han de elaborar de cada clase para que el beneficio sea máximo?"
   ]
  },
  {
   "cell_type": "markdown",
   "metadata": {
    "colab_type": "text",
    "id": "hFfmAlL7dOzW"
   },
   "source": [
    "![image.png](attachment:image.png)"
   ]
  },
  {
   "cell_type": "markdown",
   "metadata": {
    "colab_type": "text",
    "id": "0KQdta4WdOzW"
   },
   "source": [
    "![image.png](attachment:image.png)"
   ]
  },
  {
   "cell_type": "code",
   "execution_count": 56,
   "metadata": {
    "colab": {
     "base_uri": "https://localhost:8080/",
     "height": 35
    },
    "colab_type": "code",
    "id": "mwaoup_2dOzX",
    "outputId": "9b86db07-17da-4829-e4fe-f40e9fa519d4"
   },
   "outputs": [
    {
     "data": {
      "text/latex": [
       "$\\displaystyle 16$"
      ],
      "text/plain": [
       "16"
      ]
     },
     "execution_count": 56,
     "metadata": {},
     "output_type": "execute_result"
    }
   ],
   "source": [
    "import matplotlib.pyplot as plt\n",
    "import numpy as np\n",
    "from scipy.optimize import minimize\n",
    "\n",
    "np.random.seed()\n",
    "\n",
    "#función que representa el objetivo\n",
    "def obj_fnc(Type_Pill):\n",
    "    ben_x = 2 #beneficio de 2 euros\n",
    "    ben_y = 1 #beneficio de 1 euro\n",
    "    benefit = (ben_x*Type_Pill[0]) + (ben_y*Type_Pill[1]) \n",
    "    return benefit\n",
    "\n",
    "#Restricción sobre material\n",
    "def constraint_1(Weight_Pill):\n",
    "    Wx = 40 #40 gramos por pildora grande\n",
    "    Wy = 30 ##30 gramos por pildora grande\n",
    "    Total_Weight = (Wx*Weight_Pill[0]) + (Wy*Weight_Pill[1])\n",
    "    return 600 - Total_Weight\n",
    "\n",
    "#Restricción mínimo de pastillas grandes\n",
    "def constraint_x(Num_Pill):\n",
    "    return Num_Pill[0] - 3\n",
    "\n",
    "#restricción mínimo de pastillas pequeñas\n",
    "def constraint_y(Benefit_Amnt):\n",
    "    return Benefit_Amnt[1] - 2*Benefit_Amnt[0]\n",
    "\n",
    "#función a optimizar\n",
    "def objective(Type_Pill):\n",
    "    return -obj_fnc(Type_Pill)\n",
    "\n",
    "initial_guess = [4,8]\n",
    "obj_fnc(initial_guess)"
   ]
  },
  {
   "cell_type": "code",
   "execution_count": 57,
   "metadata": {
    "colab": {},
    "colab_type": "code",
    "id": "TMDtm82OdOzZ"
   },
   "outputs": [],
   "source": [
    "con_1 = {'type': 'ineq', 'fun':constraint_1}\n",
    "con_x = {'type': 'ineq', 'fun':constraint_x}\n",
    "con_y = {'type': 'ineq', 'fun':constraint_y}\n",
    "cons = [con_1,con_x,con_y]"
   ]
  },
  {
   "cell_type": "code",
   "execution_count": 58,
   "metadata": {
    "colab": {
     "base_uri": "https://localhost:8080/",
     "height": 181
    },
    "colab_type": "code",
    "id": "q04RemerdOzc",
    "outputId": "345184bf-5ac8-4f65-e13b-cfc65f40a9fa"
   },
   "outputs": [
    {
     "data": {
      "text/plain": [
       "     fun: -24.000000000000007\n",
       "     jac: array([-2., -1.])\n",
       " message: 'Optimization terminated successfully.'\n",
       "    nfev: 12\n",
       "     nit: 3\n",
       "    njev: 3\n",
       "  status: 0\n",
       " success: True\n",
       "       x: array([ 6., 12.])"
      ]
     },
     "execution_count": 58,
     "metadata": {},
     "output_type": "execute_result"
    }
   ],
   "source": [
    "solution = minimize(objective,initial_guess,method='SLSQP',\\\n",
    "                   constraints=cons)\n",
    "solution"
   ]
  },
  {
   "cell_type": "code",
   "execution_count": 59,
   "metadata": {
    "colab": {
     "base_uri": "https://localhost:8080/",
     "height": 35
    },
    "colab_type": "code",
    "id": "Pt4mtFcag-_-",
    "outputId": "469a1f1c-a2af-43f8-dfcd-bff81ff3de5c"
   },
   "outputs": [
    {
     "ename": "SyntaxError",
     "evalue": "invalid syntax (<ipython-input-59-61fd0a2ff51d>, line 1)",
     "output_type": "error",
     "traceback": [
      "\u001b[1;36m  File \u001b[1;32m\"<ipython-input-59-61fd0a2ff51d>\"\u001b[1;36m, line \u001b[1;32m1\u001b[0m\n\u001b[1;33m    print markdown.markdown('# Hola mundo')\u001b[0m\n\u001b[1;37m                 ^\u001b[0m\n\u001b[1;31mSyntaxError\u001b[0m\u001b[1;31m:\u001b[0m invalid syntax\n"
     ]
    }
   ],
   "source": [
    "print markdown.markdown('# Hola mundo')\n",
    "print(\"Máximo beneficio es de: \",solution.fun*-1)\n",
    "print(\"Pastillas grandes: \", solution.x[0], \"Pastillas pequeñas: \", solution.x[1])"
   ]
  },
  {
   "cell_type": "markdown",
   "metadata": {
    "colab_type": "text",
    "id": "2n00IeTxdOze"
   },
   "source": [
    "## <font color = red> Problema 14 <font>\n",
    "\n",
    "El conjunto de datos proviene del repositorio UCI Machine Learning y está relacionado con campañas de marketing directo (llamadas telefónicas) de una institución bancaria portuguesa.\n",
    "\n",
    "El objetivo de la clasificación es predecir si el cliente se suscribirá (1/0) a un depósito a plazo (variable y). El conjunto de datos se puede descargar desde aquí.\n",
    "\n",
    "https://raw.githubusercontent.com/madmashup/targeted-marketing-predictive-engine/master/banking.csv"
   ]
  },
  {
   "cell_type": "markdown",
   "metadata": {
    "colab_type": "text",
    "id": "COtcCtHHdOze"
   },
   "source": [
    "### Input variables\n",
    "\n",
    "- age (numeric)\n",
    "- job : type of job (categorical: “admin”, “blue-collar”, “entrepreneur”, “housemaid”, “management”, “retired”, “self-employed”, “services”, “student”, “technician”, “unemployed”, “unknown”)\n",
    "- marital : marital status (categorical: “divorced”, “married”, “single”, “unknown”)\n",
    "- education (categorical: “basic.4y”, “basic.6y”, “basic.9y”, “high.school”, “illiterate”, “professional.course”, “university.degree”, “unknown”)\n",
    "- default: has credit in default? (categorical: “no”, “yes”, “unknown”)\n",
    "- housing: has housing loan? (categorical: “no”, “yes”, “unknown”)\n",
    "- loan: has personal loan? (categorical: “no”, “yes”, “unknown”)\n",
    "- contact: contact communication type (categorical: “cellular”, “telephone”)\n",
    "- month: last contact month of year (categorical: “jan”, “feb”, “mar”, …, “nov”, “dec”)\n",
    "- day_of_week: last contact day of the week (categorical: “mon”, “tue”, “wed”, “thu”, “fri”)\n",
    "- duration: last contact duration, in seconds (numeric). Important note: this attribute highly affects the output target (e.g., if duration=0 then y=’no’). The duration is not known before a call is performed, also, after the end of the call, y is obviously known. Thus, this input should only be included for benchmark purposes and should be discarded if the intention is to have a realistic predictive model\n",
    "- campaign: number of contacts performed during this campaign and for this client (numeric, includes last contact)\n",
    "- pdays: number of days that passed by after the client was last contacted from a previous campaign (numeric; 999 means client was not previously contacted)\n",
    "- previous: number of contacts performed before this campaign and for this client (numeric)\n",
    "- poutcome: outcome of the previous marketing campaign (categorical: “failure”, “nonexistent”, “success”)\n",
    "- emp.var.rate: employment variation rate — (numeric)\n",
    "- cons.price.idx: consumer price index — (numeric)\n",
    "- cons.conf.idx: consumer confidence index — (numeric)\n",
    "- euribor3m: euribor 3 month rate — (numeric)\n",
    "- nr.employed: number of employees — (numeric)\n",
    "\n",
    "\n",
    "### Predict variable (desired target):\n",
    "\n",
    "y — has the client subscribed a term deposit? (binary: “1”, means “Yes”, “0” means “No”)"
   ]
  },
  {
   "cell_type": "code",
   "execution_count": null,
   "metadata": {
    "colab": {},
    "colab_type": "code",
    "id": "k2WNqgV1dOzf"
   },
   "outputs": [],
   "source": []
  },
  {
   "cell_type": "code",
   "execution_count": 62,
   "metadata": {
    "colab": {
     "base_uri": "https://localhost:8080/",
     "height": 451
    },
    "colab_type": "code",
    "id": "0GHkxEtYdOzh",
    "outputId": "9f421dc5-433a-48de-a396-7931875748c3"
   },
   "outputs": [
    {
     "name": "stdout",
     "output_type": "stream",
     "text": [
      "Index(['age', 'job', 'marital', 'education', 'default', 'housing', 'loan',\n",
      "       'contact', 'month', 'day_of_week', 'duration', 'campaign', 'pdays',\n",
      "       'previous', 'poutcome', 'emp_var_rate', 'cons_price_idx',\n",
      "       'cons_conf_idx', 'euribor3m', 'nr_employed', 'y'],\n",
      "      dtype='object')\n"
     ]
    }
   ],
   "source": [
    "import os\n",
    "import pandas as pd\n",
    "import numpy as np\n",
    "from sklearn.linear_model import LogisticRegression\n",
    "from sklearn.preprocessing import LabelEncoder\n",
    "from sklearn import preprocessing\n",
    "import matplotlib.pyplot as plt\n",
    "\n",
    "banking = pd.read_csv('banking.csv')\n",
    "print(banking.columns)"
   ]
  },
  {
   "cell_type": "code",
   "execution_count": 63,
   "metadata": {
    "colab": {},
    "colab_type": "code",
    "id": "FlY-UaysdOzj",
    "outputId": "06fa95a4-a6ef-4261-cb41-f534592759b0"
   },
   "outputs": [
    {
     "data": {
      "text/html": [
       "<div>\n",
       "<style scoped>\n",
       "    .dataframe tbody tr th:only-of-type {\n",
       "        vertical-align: middle;\n",
       "    }\n",
       "\n",
       "    .dataframe tbody tr th {\n",
       "        vertical-align: top;\n",
       "    }\n",
       "\n",
       "    .dataframe thead th {\n",
       "        text-align: right;\n",
       "    }\n",
       "</style>\n",
       "<table border=\"1\" class=\"dataframe\">\n",
       "  <thead>\n",
       "    <tr style=\"text-align: right;\">\n",
       "      <th></th>\n",
       "      <th>age</th>\n",
       "      <th>job</th>\n",
       "      <th>marital</th>\n",
       "      <th>education</th>\n",
       "      <th>default</th>\n",
       "      <th>housing</th>\n",
       "      <th>loan</th>\n",
       "      <th>contact</th>\n",
       "      <th>month</th>\n",
       "      <th>day_of_week</th>\n",
       "      <th>...</th>\n",
       "      <th>campaign</th>\n",
       "      <th>pdays</th>\n",
       "      <th>previous</th>\n",
       "      <th>poutcome</th>\n",
       "      <th>emp_var_rate</th>\n",
       "      <th>cons_price_idx</th>\n",
       "      <th>cons_conf_idx</th>\n",
       "      <th>euribor3m</th>\n",
       "      <th>nr_employed</th>\n",
       "      <th>y</th>\n",
       "    </tr>\n",
       "  </thead>\n",
       "  <tbody>\n",
       "    <tr>\n",
       "      <th>0</th>\n",
       "      <td>44</td>\n",
       "      <td>blue-collar</td>\n",
       "      <td>married</td>\n",
       "      <td>basic.4y</td>\n",
       "      <td>unknown</td>\n",
       "      <td>yes</td>\n",
       "      <td>no</td>\n",
       "      <td>cellular</td>\n",
       "      <td>aug</td>\n",
       "      <td>thu</td>\n",
       "      <td>...</td>\n",
       "      <td>1</td>\n",
       "      <td>999</td>\n",
       "      <td>0</td>\n",
       "      <td>nonexistent</td>\n",
       "      <td>1.4</td>\n",
       "      <td>93.444</td>\n",
       "      <td>-36.1</td>\n",
       "      <td>4.963</td>\n",
       "      <td>5228.1</td>\n",
       "      <td>0</td>\n",
       "    </tr>\n",
       "    <tr>\n",
       "      <th>1</th>\n",
       "      <td>53</td>\n",
       "      <td>technician</td>\n",
       "      <td>married</td>\n",
       "      <td>unknown</td>\n",
       "      <td>no</td>\n",
       "      <td>no</td>\n",
       "      <td>no</td>\n",
       "      <td>cellular</td>\n",
       "      <td>nov</td>\n",
       "      <td>fri</td>\n",
       "      <td>...</td>\n",
       "      <td>1</td>\n",
       "      <td>999</td>\n",
       "      <td>0</td>\n",
       "      <td>nonexistent</td>\n",
       "      <td>-0.1</td>\n",
       "      <td>93.200</td>\n",
       "      <td>-42.0</td>\n",
       "      <td>4.021</td>\n",
       "      <td>5195.8</td>\n",
       "      <td>0</td>\n",
       "    </tr>\n",
       "    <tr>\n",
       "      <th>2</th>\n",
       "      <td>28</td>\n",
       "      <td>management</td>\n",
       "      <td>single</td>\n",
       "      <td>university.degree</td>\n",
       "      <td>no</td>\n",
       "      <td>yes</td>\n",
       "      <td>no</td>\n",
       "      <td>cellular</td>\n",
       "      <td>jun</td>\n",
       "      <td>thu</td>\n",
       "      <td>...</td>\n",
       "      <td>3</td>\n",
       "      <td>6</td>\n",
       "      <td>2</td>\n",
       "      <td>success</td>\n",
       "      <td>-1.7</td>\n",
       "      <td>94.055</td>\n",
       "      <td>-39.8</td>\n",
       "      <td>0.729</td>\n",
       "      <td>4991.6</td>\n",
       "      <td>1</td>\n",
       "    </tr>\n",
       "    <tr>\n",
       "      <th>3</th>\n",
       "      <td>39</td>\n",
       "      <td>services</td>\n",
       "      <td>married</td>\n",
       "      <td>high.school</td>\n",
       "      <td>no</td>\n",
       "      <td>no</td>\n",
       "      <td>no</td>\n",
       "      <td>cellular</td>\n",
       "      <td>apr</td>\n",
       "      <td>fri</td>\n",
       "      <td>...</td>\n",
       "      <td>2</td>\n",
       "      <td>999</td>\n",
       "      <td>0</td>\n",
       "      <td>nonexistent</td>\n",
       "      <td>-1.8</td>\n",
       "      <td>93.075</td>\n",
       "      <td>-47.1</td>\n",
       "      <td>1.405</td>\n",
       "      <td>5099.1</td>\n",
       "      <td>0</td>\n",
       "    </tr>\n",
       "    <tr>\n",
       "      <th>4</th>\n",
       "      <td>55</td>\n",
       "      <td>retired</td>\n",
       "      <td>married</td>\n",
       "      <td>basic.4y</td>\n",
       "      <td>no</td>\n",
       "      <td>yes</td>\n",
       "      <td>no</td>\n",
       "      <td>cellular</td>\n",
       "      <td>aug</td>\n",
       "      <td>fri</td>\n",
       "      <td>...</td>\n",
       "      <td>1</td>\n",
       "      <td>3</td>\n",
       "      <td>1</td>\n",
       "      <td>success</td>\n",
       "      <td>-2.9</td>\n",
       "      <td>92.201</td>\n",
       "      <td>-31.4</td>\n",
       "      <td>0.869</td>\n",
       "      <td>5076.2</td>\n",
       "      <td>1</td>\n",
       "    </tr>\n",
       "  </tbody>\n",
       "</table>\n",
       "<p>5 rows × 21 columns</p>\n",
       "</div>"
      ],
      "text/plain": [
       "   age          job  marital          education  default housing loan  \\\n",
       "0   44  blue-collar  married           basic.4y  unknown     yes   no   \n",
       "1   53   technician  married            unknown       no      no   no   \n",
       "2   28   management   single  university.degree       no     yes   no   \n",
       "3   39     services  married        high.school       no      no   no   \n",
       "4   55      retired  married           basic.4y       no     yes   no   \n",
       "\n",
       "    contact month day_of_week  ...  campaign  pdays  previous     poutcome  \\\n",
       "0  cellular   aug         thu  ...         1    999         0  nonexistent   \n",
       "1  cellular   nov         fri  ...         1    999         0  nonexistent   \n",
       "2  cellular   jun         thu  ...         3      6         2      success   \n",
       "3  cellular   apr         fri  ...         2    999         0  nonexistent   \n",
       "4  cellular   aug         fri  ...         1      3         1      success   \n",
       "\n",
       "  emp_var_rate  cons_price_idx  cons_conf_idx  euribor3m  nr_employed  y  \n",
       "0          1.4          93.444          -36.1      4.963       5228.1  0  \n",
       "1         -0.1          93.200          -42.0      4.021       5195.8  0  \n",
       "2         -1.7          94.055          -39.8      0.729       4991.6  1  \n",
       "3         -1.8          93.075          -47.1      1.405       5099.1  0  \n",
       "4         -2.9          92.201          -31.4      0.869       5076.2  1  \n",
       "\n",
       "[5 rows x 21 columns]"
      ]
     },
     "execution_count": 63,
     "metadata": {},
     "output_type": "execute_result"
    }
   ],
   "source": [
    "banking.head()"
   ]
  },
  {
   "cell_type": "code",
   "execution_count": 64,
   "metadata": {
    "colab": {},
    "colab_type": "code",
    "id": "74Lj5_AodOzl"
   },
   "outputs": [
    {
     "data": {
      "text/plain": [
       "Index(['age', 'job', 'marital', 'education', 'default', 'housing', 'loan',\n",
       "       'contact', 'month', 'day_of_week', 'duration', 'campaign', 'pdays',\n",
       "       'previous', 'poutcome', 'emp_var_rate', 'cons_price_idx',\n",
       "       'cons_conf_idx', 'euribor3m', 'nr_employed', 'willRespond'],\n",
       "      dtype='object')"
      ]
     },
     "execution_count": 64,
     "metadata": {},
     "output_type": "execute_result"
    }
   ],
   "source": [
    "banking.rename(columns={'y':'willRespond'},inplace=True)\n",
    "banking.columns"
   ]
  },
  {
   "cell_type": "code",
   "execution_count": 65,
   "metadata": {
    "colab": {},
    "colab_type": "code",
    "id": "HQlECzlmdOzo"
   },
   "outputs": [
    {
     "data": {
      "text/html": [
       "<div>\n",
       "<style scoped>\n",
       "    .dataframe tbody tr th:only-of-type {\n",
       "        vertical-align: middle;\n",
       "    }\n",
       "\n",
       "    .dataframe tbody tr th {\n",
       "        vertical-align: top;\n",
       "    }\n",
       "\n",
       "    .dataframe thead th {\n",
       "        text-align: right;\n",
       "    }\n",
       "</style>\n",
       "<table border=\"1\" class=\"dataframe\">\n",
       "  <thead>\n",
       "    <tr style=\"text-align: right;\">\n",
       "      <th></th>\n",
       "      <th>age</th>\n",
       "      <th>job</th>\n",
       "      <th>marital</th>\n",
       "      <th>education</th>\n",
       "      <th>housing</th>\n",
       "      <th>loan</th>\n",
       "      <th>campaign</th>\n",
       "      <th>previous</th>\n",
       "      <th>poutcome</th>\n",
       "      <th>emp_var_rate</th>\n",
       "      <th>cons_price_idx</th>\n",
       "      <th>cons_conf_idx</th>\n",
       "      <th>euribor3m</th>\n",
       "      <th>nr_employed</th>\n",
       "      <th>willRespond</th>\n",
       "    </tr>\n",
       "  </thead>\n",
       "  <tbody>\n",
       "    <tr>\n",
       "      <th>0</th>\n",
       "      <td>44</td>\n",
       "      <td>blue-collar</td>\n",
       "      <td>married</td>\n",
       "      <td>basic.4y</td>\n",
       "      <td>yes</td>\n",
       "      <td>no</td>\n",
       "      <td>1</td>\n",
       "      <td>0</td>\n",
       "      <td>nonexistent</td>\n",
       "      <td>1.4</td>\n",
       "      <td>93.444</td>\n",
       "      <td>-36.1</td>\n",
       "      <td>4.963</td>\n",
       "      <td>5228.1</td>\n",
       "      <td>0</td>\n",
       "    </tr>\n",
       "    <tr>\n",
       "      <th>1</th>\n",
       "      <td>53</td>\n",
       "      <td>technician</td>\n",
       "      <td>married</td>\n",
       "      <td>unknown</td>\n",
       "      <td>no</td>\n",
       "      <td>no</td>\n",
       "      <td>1</td>\n",
       "      <td>0</td>\n",
       "      <td>nonexistent</td>\n",
       "      <td>-0.1</td>\n",
       "      <td>93.200</td>\n",
       "      <td>-42.0</td>\n",
       "      <td>4.021</td>\n",
       "      <td>5195.8</td>\n",
       "      <td>0</td>\n",
       "    </tr>\n",
       "    <tr>\n",
       "      <th>2</th>\n",
       "      <td>28</td>\n",
       "      <td>management</td>\n",
       "      <td>single</td>\n",
       "      <td>university.degree</td>\n",
       "      <td>yes</td>\n",
       "      <td>no</td>\n",
       "      <td>3</td>\n",
       "      <td>2</td>\n",
       "      <td>success</td>\n",
       "      <td>-1.7</td>\n",
       "      <td>94.055</td>\n",
       "      <td>-39.8</td>\n",
       "      <td>0.729</td>\n",
       "      <td>4991.6</td>\n",
       "      <td>1</td>\n",
       "    </tr>\n",
       "    <tr>\n",
       "      <th>3</th>\n",
       "      <td>39</td>\n",
       "      <td>services</td>\n",
       "      <td>married</td>\n",
       "      <td>high.school</td>\n",
       "      <td>no</td>\n",
       "      <td>no</td>\n",
       "      <td>2</td>\n",
       "      <td>0</td>\n",
       "      <td>nonexistent</td>\n",
       "      <td>-1.8</td>\n",
       "      <td>93.075</td>\n",
       "      <td>-47.1</td>\n",
       "      <td>1.405</td>\n",
       "      <td>5099.1</td>\n",
       "      <td>0</td>\n",
       "    </tr>\n",
       "    <tr>\n",
       "      <th>4</th>\n",
       "      <td>55</td>\n",
       "      <td>retired</td>\n",
       "      <td>married</td>\n",
       "      <td>basic.4y</td>\n",
       "      <td>yes</td>\n",
       "      <td>no</td>\n",
       "      <td>1</td>\n",
       "      <td>1</td>\n",
       "      <td>success</td>\n",
       "      <td>-2.9</td>\n",
       "      <td>92.201</td>\n",
       "      <td>-31.4</td>\n",
       "      <td>0.869</td>\n",
       "      <td>5076.2</td>\n",
       "      <td>1</td>\n",
       "    </tr>\n",
       "  </tbody>\n",
       "</table>\n",
       "</div>"
      ],
      "text/plain": [
       "   age          job  marital          education housing loan  campaign  \\\n",
       "0   44  blue-collar  married           basic.4y     yes   no         1   \n",
       "1   53   technician  married            unknown      no   no         1   \n",
       "2   28   management   single  university.degree     yes   no         3   \n",
       "3   39     services  married        high.school      no   no         2   \n",
       "4   55      retired  married           basic.4y     yes   no         1   \n",
       "\n",
       "   previous     poutcome  emp_var_rate  cons_price_idx  cons_conf_idx  \\\n",
       "0         0  nonexistent           1.4          93.444          -36.1   \n",
       "1         0  nonexistent          -0.1          93.200          -42.0   \n",
       "2         2      success          -1.7          94.055          -39.8   \n",
       "3         0  nonexistent          -1.8          93.075          -47.1   \n",
       "4         1      success          -2.9          92.201          -31.4   \n",
       "\n",
       "   euribor3m  nr_employed  willRespond  \n",
       "0      4.963       5228.1            0  \n",
       "1      4.021       5195.8            0  \n",
       "2      0.729       4991.6            1  \n",
       "3      1.405       5099.1            0  \n",
       "4      0.869       5076.2            1  "
      ]
     },
     "execution_count": 65,
     "metadata": {},
     "output_type": "execute_result"
    }
   ],
   "source": [
    "banking.drop(['duration','contact','month','day_of_week','default','pdays',],axis=1,inplace=True) #Removing unnecessary columns\n",
    "banking.head()"
   ]
  },
  {
   "cell_type": "code",
   "execution_count": 66,
   "metadata": {
    "colab": {},
    "colab_type": "code",
    "id": "plKXS1s6dOzq"
   },
   "outputs": [
    {
     "data": {
      "text/plain": [
       "array([0, 0, 1, ..., 0, 0, 0], dtype=int64)"
      ]
     },
     "execution_count": 66,
     "metadata": {},
     "output_type": "execute_result"
    }
   ],
   "source": [
    "labels=banking.willRespond.values\n",
    "labels"
   ]
  },
  {
   "cell_type": "code",
   "execution_count": 67,
   "metadata": {
    "colab": {},
    "colab_type": "code",
    "id": "8WwmL5widOzt"
   },
   "outputs": [
    {
     "data": {
      "text/plain": [
       "['failure', 'nonexistent', 'success']"
      ]
     },
     "execution_count": 67,
     "metadata": {},
     "output_type": "execute_result"
    }
   ],
   "source": [
    "le=preprocessing.LabelEncoder()\n",
    "le.fit(banking.poutcome)\n",
    "list(le.classes_)"
   ]
  },
  {
   "cell_type": "code",
   "execution_count": 68,
   "metadata": {
    "colab": {},
    "colab_type": "code",
    "id": "TfGcStMer0C5"
   },
   "outputs": [
    {
     "data": {
      "text/html": [
       "<div>\n",
       "<style scoped>\n",
       "    .dataframe tbody tr th:only-of-type {\n",
       "        vertical-align: middle;\n",
       "    }\n",
       "\n",
       "    .dataframe tbody tr th {\n",
       "        vertical-align: top;\n",
       "    }\n",
       "\n",
       "    .dataframe thead th {\n",
       "        text-align: right;\n",
       "    }\n",
       "</style>\n",
       "<table border=\"1\" class=\"dataframe\">\n",
       "  <thead>\n",
       "    <tr style=\"text-align: right;\">\n",
       "      <th></th>\n",
       "      <th>age</th>\n",
       "      <th>job</th>\n",
       "      <th>marital</th>\n",
       "      <th>education</th>\n",
       "      <th>housing</th>\n",
       "      <th>loan</th>\n",
       "      <th>campaign</th>\n",
       "      <th>previous</th>\n",
       "      <th>poutcome</th>\n",
       "      <th>emp_var_rate</th>\n",
       "      <th>cons_price_idx</th>\n",
       "      <th>cons_conf_idx</th>\n",
       "      <th>euribor3m</th>\n",
       "      <th>nr_employed</th>\n",
       "      <th>willRespond</th>\n",
       "    </tr>\n",
       "  </thead>\n",
       "  <tbody>\n",
       "    <tr>\n",
       "      <th>0</th>\n",
       "      <td>44</td>\n",
       "      <td>blue-collar</td>\n",
       "      <td>married</td>\n",
       "      <td>basic.4y</td>\n",
       "      <td>yes</td>\n",
       "      <td>no</td>\n",
       "      <td>1</td>\n",
       "      <td>0</td>\n",
       "      <td>1</td>\n",
       "      <td>1.4</td>\n",
       "      <td>93.444</td>\n",
       "      <td>-36.1</td>\n",
       "      <td>4.963</td>\n",
       "      <td>5228.1</td>\n",
       "      <td>0</td>\n",
       "    </tr>\n",
       "    <tr>\n",
       "      <th>1</th>\n",
       "      <td>53</td>\n",
       "      <td>technician</td>\n",
       "      <td>married</td>\n",
       "      <td>unknown</td>\n",
       "      <td>no</td>\n",
       "      <td>no</td>\n",
       "      <td>1</td>\n",
       "      <td>0</td>\n",
       "      <td>1</td>\n",
       "      <td>-0.1</td>\n",
       "      <td>93.200</td>\n",
       "      <td>-42.0</td>\n",
       "      <td>4.021</td>\n",
       "      <td>5195.8</td>\n",
       "      <td>0</td>\n",
       "    </tr>\n",
       "    <tr>\n",
       "      <th>2</th>\n",
       "      <td>28</td>\n",
       "      <td>management</td>\n",
       "      <td>single</td>\n",
       "      <td>university.degree</td>\n",
       "      <td>yes</td>\n",
       "      <td>no</td>\n",
       "      <td>3</td>\n",
       "      <td>2</td>\n",
       "      <td>2</td>\n",
       "      <td>-1.7</td>\n",
       "      <td>94.055</td>\n",
       "      <td>-39.8</td>\n",
       "      <td>0.729</td>\n",
       "      <td>4991.6</td>\n",
       "      <td>1</td>\n",
       "    </tr>\n",
       "    <tr>\n",
       "      <th>3</th>\n",
       "      <td>39</td>\n",
       "      <td>services</td>\n",
       "      <td>married</td>\n",
       "      <td>high.school</td>\n",
       "      <td>no</td>\n",
       "      <td>no</td>\n",
       "      <td>2</td>\n",
       "      <td>0</td>\n",
       "      <td>1</td>\n",
       "      <td>-1.8</td>\n",
       "      <td>93.075</td>\n",
       "      <td>-47.1</td>\n",
       "      <td>1.405</td>\n",
       "      <td>5099.1</td>\n",
       "      <td>0</td>\n",
       "    </tr>\n",
       "    <tr>\n",
       "      <th>4</th>\n",
       "      <td>55</td>\n",
       "      <td>retired</td>\n",
       "      <td>married</td>\n",
       "      <td>basic.4y</td>\n",
       "      <td>yes</td>\n",
       "      <td>no</td>\n",
       "      <td>1</td>\n",
       "      <td>1</td>\n",
       "      <td>2</td>\n",
       "      <td>-2.9</td>\n",
       "      <td>92.201</td>\n",
       "      <td>-31.4</td>\n",
       "      <td>0.869</td>\n",
       "      <td>5076.2</td>\n",
       "      <td>1</td>\n",
       "    </tr>\n",
       "  </tbody>\n",
       "</table>\n",
       "</div>"
      ],
      "text/plain": [
       "   age          job  marital          education housing loan  campaign  \\\n",
       "0   44  blue-collar  married           basic.4y     yes   no         1   \n",
       "1   53   technician  married            unknown      no   no         1   \n",
       "2   28   management   single  university.degree     yes   no         3   \n",
       "3   39     services  married        high.school      no   no         2   \n",
       "4   55      retired  married           basic.4y     yes   no         1   \n",
       "\n",
       "   previous  poutcome  emp_var_rate  cons_price_idx  cons_conf_idx  euribor3m  \\\n",
       "0         0         1           1.4          93.444          -36.1      4.963   \n",
       "1         0         1          -0.1          93.200          -42.0      4.021   \n",
       "2         2         2          -1.7          94.055          -39.8      0.729   \n",
       "3         0         1          -1.8          93.075          -47.1      1.405   \n",
       "4         1         2          -2.9          92.201          -31.4      0.869   \n",
       "\n",
       "   nr_employed  willRespond  \n",
       "0       5228.1            0  \n",
       "1       5195.8            0  \n",
       "2       4991.6            1  \n",
       "3       5099.1            0  \n",
       "4       5076.2            1  "
      ]
     },
     "execution_count": 68,
     "metadata": {},
     "output_type": "execute_result"
    }
   ],
   "source": [
    "#se les asigna u valor numérico a cada uno de los posibles estados para cada columna\n",
    "banking.poutcome=le.transform(banking.poutcome)\n",
    "banking.head()"
   ]
  },
  {
   "cell_type": "code",
   "execution_count": 69,
   "metadata": {
    "colab": {},
    "colab_type": "code",
    "id": "LOUHm35bsB3x"
   },
   "outputs": [
    {
     "data": {
      "text/html": [
       "<div>\n",
       "<style scoped>\n",
       "    .dataframe tbody tr th:only-of-type {\n",
       "        vertical-align: middle;\n",
       "    }\n",
       "\n",
       "    .dataframe tbody tr th {\n",
       "        vertical-align: top;\n",
       "    }\n",
       "\n",
       "    .dataframe thead th {\n",
       "        text-align: right;\n",
       "    }\n",
       "</style>\n",
       "<table border=\"1\" class=\"dataframe\">\n",
       "  <thead>\n",
       "    <tr style=\"text-align: right;\">\n",
       "      <th></th>\n",
       "      <th>age</th>\n",
       "      <th>job</th>\n",
       "      <th>marital</th>\n",
       "      <th>education</th>\n",
       "      <th>housing</th>\n",
       "      <th>loan</th>\n",
       "      <th>campaign</th>\n",
       "      <th>previous</th>\n",
       "      <th>poutcome</th>\n",
       "      <th>emp_var_rate</th>\n",
       "      <th>cons_price_idx</th>\n",
       "      <th>cons_conf_idx</th>\n",
       "      <th>euribor3m</th>\n",
       "      <th>nr_employed</th>\n",
       "      <th>willRespond</th>\n",
       "    </tr>\n",
       "  </thead>\n",
       "  <tbody>\n",
       "    <tr>\n",
       "      <th>0</th>\n",
       "      <td>44</td>\n",
       "      <td>1</td>\n",
       "      <td>1</td>\n",
       "      <td>0</td>\n",
       "      <td>2</td>\n",
       "      <td>0</td>\n",
       "      <td>1</td>\n",
       "      <td>0</td>\n",
       "      <td>1</td>\n",
       "      <td>1.4</td>\n",
       "      <td>93.444</td>\n",
       "      <td>-36.1</td>\n",
       "      <td>4.963</td>\n",
       "      <td>5228.1</td>\n",
       "      <td>0</td>\n",
       "    </tr>\n",
       "    <tr>\n",
       "      <th>1</th>\n",
       "      <td>53</td>\n",
       "      <td>9</td>\n",
       "      <td>1</td>\n",
       "      <td>7</td>\n",
       "      <td>0</td>\n",
       "      <td>0</td>\n",
       "      <td>1</td>\n",
       "      <td>0</td>\n",
       "      <td>1</td>\n",
       "      <td>-0.1</td>\n",
       "      <td>93.200</td>\n",
       "      <td>-42.0</td>\n",
       "      <td>4.021</td>\n",
       "      <td>5195.8</td>\n",
       "      <td>0</td>\n",
       "    </tr>\n",
       "    <tr>\n",
       "      <th>2</th>\n",
       "      <td>28</td>\n",
       "      <td>4</td>\n",
       "      <td>2</td>\n",
       "      <td>6</td>\n",
       "      <td>2</td>\n",
       "      <td>0</td>\n",
       "      <td>3</td>\n",
       "      <td>2</td>\n",
       "      <td>2</td>\n",
       "      <td>-1.7</td>\n",
       "      <td>94.055</td>\n",
       "      <td>-39.8</td>\n",
       "      <td>0.729</td>\n",
       "      <td>4991.6</td>\n",
       "      <td>1</td>\n",
       "    </tr>\n",
       "    <tr>\n",
       "      <th>3</th>\n",
       "      <td>39</td>\n",
       "      <td>7</td>\n",
       "      <td>1</td>\n",
       "      <td>3</td>\n",
       "      <td>0</td>\n",
       "      <td>0</td>\n",
       "      <td>2</td>\n",
       "      <td>0</td>\n",
       "      <td>1</td>\n",
       "      <td>-1.8</td>\n",
       "      <td>93.075</td>\n",
       "      <td>-47.1</td>\n",
       "      <td>1.405</td>\n",
       "      <td>5099.1</td>\n",
       "      <td>0</td>\n",
       "    </tr>\n",
       "    <tr>\n",
       "      <th>4</th>\n",
       "      <td>55</td>\n",
       "      <td>5</td>\n",
       "      <td>1</td>\n",
       "      <td>0</td>\n",
       "      <td>2</td>\n",
       "      <td>0</td>\n",
       "      <td>1</td>\n",
       "      <td>1</td>\n",
       "      <td>2</td>\n",
       "      <td>-2.9</td>\n",
       "      <td>92.201</td>\n",
       "      <td>-31.4</td>\n",
       "      <td>0.869</td>\n",
       "      <td>5076.2</td>\n",
       "      <td>1</td>\n",
       "    </tr>\n",
       "  </tbody>\n",
       "</table>\n",
       "</div>"
      ],
      "text/plain": [
       "   age  job  marital  education  housing  loan  campaign  previous  poutcome  \\\n",
       "0   44    1        1          0        2     0         1         0         1   \n",
       "1   53    9        1          7        0     0         1         0         1   \n",
       "2   28    4        2          6        2     0         3         2         2   \n",
       "3   39    7        1          3        0     0         2         0         1   \n",
       "4   55    5        1          0        2     0         1         1         2   \n",
       "\n",
       "   emp_var_rate  cons_price_idx  cons_conf_idx  euribor3m  nr_employed  \\\n",
       "0           1.4          93.444          -36.1      4.963       5228.1   \n",
       "1          -0.1          93.200          -42.0      4.021       5195.8   \n",
       "2          -1.7          94.055          -39.8      0.729       4991.6   \n",
       "3          -1.8          93.075          -47.1      1.405       5099.1   \n",
       "4          -2.9          92.201          -31.4      0.869       5076.2   \n",
       "\n",
       "   willRespond  \n",
       "0            0  \n",
       "1            0  \n",
       "2            1  \n",
       "3            0  \n",
       "4            1  "
      ]
     },
     "execution_count": 69,
     "metadata": {},
     "output_type": "execute_result"
    }
   ],
   "source": [
    "banking.housing = le.fit_transform(banking.housing)\n",
    "banking.loan=le.fit_transform(banking.loan)\n",
    "banking.job=le.fit_transform(banking.job)\n",
    "banking.marital=le.fit_transform(banking.marital)\n",
    "banking.education=le.fit_transform(banking.education)\n",
    "banking.head()"
   ]
  },
  {
   "cell_type": "code",
   "execution_count": 70,
   "metadata": {
    "colab": {},
    "colab_type": "code",
    "id": "J9r15DL1sDbH"
   },
   "outputs": [
    {
     "data": {
      "text/plain": [
       "(array([1.6660e+03, 1.1343e+04, 1.2037e+04, 8.0870e+03, 5.8230e+03,\n",
       "        1.6130e+03, 3.1800e+02, 2.0200e+02, 8.9000e+01, 1.0000e+01]),\n",
       " array([17. , 25.1, 33.2, 41.3, 49.4, 57.5, 65.6, 73.7, 81.8, 89.9, 98. ]),\n",
       " <a list of 10 Patch objects>)"
      ]
     },
     "execution_count": 70,
     "metadata": {},
     "output_type": "execute_result"
    },
    {
     "data": {
      "image/png": "[encoded data removed]",
      "text/plain": [
       "<Figure size 432x288 with 1 Axes>"
      ]
     },
     "metadata": {
      "needs_background": "light"
     },
     "output_type": "display_data"
    }
   ],
   "source": [
    "plt.hist(banking.age)"
   ]
  },
  {
   "cell_type": "code",
   "execution_count": 71,
   "metadata": {
    "colab": {},
    "colab_type": "code",
    "id": "AhHWUdNrsDeT"
   },
   "outputs": [
    {
     "data": {
      "text/plain": [
       "count    41188.00000\n",
       "mean        40.02406\n",
       "std         10.42125\n",
       "min         17.00000\n",
       "25%         32.00000\n",
       "50%         38.00000\n",
       "75%         47.00000\n",
       "max         98.00000\n",
       "Name: age, dtype: float64"
      ]
     },
     "execution_count": 71,
     "metadata": {},
     "output_type": "execute_result"
    }
   ],
   "source": [
    "banking['age'].describe()"
   ]
  },
  {
   "cell_type": "code",
   "execution_count": 72,
   "metadata": {
    "colab": {},
    "colab_type": "code",
    "id": "oceaLeHwsDhk"
   },
   "outputs": [
    {
     "data": {
      "text/plain": [
       "age                78\n",
       "job                12\n",
       "marital             4\n",
       "education           8\n",
       "housing             3\n",
       "loan                3\n",
       "campaign           42\n",
       "previous            8\n",
       "poutcome            3\n",
       "emp_var_rate       10\n",
       "cons_price_idx     26\n",
       "cons_conf_idx      26\n",
       "euribor3m         316\n",
       "nr_employed        11\n",
       "willRespond         2\n",
       "dtype: int64"
      ]
     },
     "execution_count": 72,
     "metadata": {},
     "output_type": "execute_result"
    }
   ],
   "source": [
    "banking.apply(lambda x: len(x.unique()))"
   ]
  },
  {
   "cell_type": "code",
   "execution_count": 73,
   "metadata": {
    "colab": {},
    "colab_type": "code",
    "id": "4SyxqotWsDka"
   },
   "outputs": [
    {
     "data": {
      "text/html": [
       "<div>\n",
       "<style scoped>\n",
       "    .dataframe tbody tr th:only-of-type {\n",
       "        vertical-align: middle;\n",
       "    }\n",
       "\n",
       "    .dataframe tbody tr th {\n",
       "        vertical-align: top;\n",
       "    }\n",
       "\n",
       "    .dataframe thead th {\n",
       "        text-align: right;\n",
       "    }\n",
       "</style>\n",
       "<table border=\"1\" class=\"dataframe\">\n",
       "  <thead>\n",
       "    <tr style=\"text-align: right;\">\n",
       "      <th></th>\n",
       "      <th>age</th>\n",
       "      <th>job</th>\n",
       "      <th>marital</th>\n",
       "      <th>education</th>\n",
       "      <th>housing</th>\n",
       "      <th>loan</th>\n",
       "      <th>poutcome</th>\n",
       "      <th>emp_var_rate</th>\n",
       "      <th>cons_price_idx</th>\n",
       "      <th>cons_conf_idx</th>\n",
       "      <th>euribor3m</th>\n",
       "      <th>nr_employed</th>\n",
       "    </tr>\n",
       "  </thead>\n",
       "  <tbody>\n",
       "    <tr>\n",
       "      <th>0</th>\n",
       "      <td>44</td>\n",
       "      <td>1</td>\n",
       "      <td>1</td>\n",
       "      <td>0</td>\n",
       "      <td>2</td>\n",
       "      <td>0</td>\n",
       "      <td>1</td>\n",
       "      <td>1.4</td>\n",
       "      <td>93.444</td>\n",
       "      <td>-36.1</td>\n",
       "      <td>4.963</td>\n",
       "      <td>5228.1</td>\n",
       "    </tr>\n",
       "    <tr>\n",
       "      <th>1</th>\n",
       "      <td>53</td>\n",
       "      <td>9</td>\n",
       "      <td>1</td>\n",
       "      <td>7</td>\n",
       "      <td>0</td>\n",
       "      <td>0</td>\n",
       "      <td>1</td>\n",
       "      <td>-0.1</td>\n",
       "      <td>93.200</td>\n",
       "      <td>-42.0</td>\n",
       "      <td>4.021</td>\n",
       "      <td>5195.8</td>\n",
       "    </tr>\n",
       "    <tr>\n",
       "      <th>2</th>\n",
       "      <td>28</td>\n",
       "      <td>4</td>\n",
       "      <td>2</td>\n",
       "      <td>6</td>\n",
       "      <td>2</td>\n",
       "      <td>0</td>\n",
       "      <td>2</td>\n",
       "      <td>-1.7</td>\n",
       "      <td>94.055</td>\n",
       "      <td>-39.8</td>\n",
       "      <td>0.729</td>\n",
       "      <td>4991.6</td>\n",
       "    </tr>\n",
       "    <tr>\n",
       "      <th>3</th>\n",
       "      <td>39</td>\n",
       "      <td>7</td>\n",
       "      <td>1</td>\n",
       "      <td>3</td>\n",
       "      <td>0</td>\n",
       "      <td>0</td>\n",
       "      <td>1</td>\n",
       "      <td>-1.8</td>\n",
       "      <td>93.075</td>\n",
       "      <td>-47.1</td>\n",
       "      <td>1.405</td>\n",
       "      <td>5099.1</td>\n",
       "    </tr>\n",
       "    <tr>\n",
       "      <th>4</th>\n",
       "      <td>55</td>\n",
       "      <td>5</td>\n",
       "      <td>1</td>\n",
       "      <td>0</td>\n",
       "      <td>2</td>\n",
       "      <td>0</td>\n",
       "      <td>2</td>\n",
       "      <td>-2.9</td>\n",
       "      <td>92.201</td>\n",
       "      <td>-31.4</td>\n",
       "      <td>0.869</td>\n",
       "      <td>5076.2</td>\n",
       "    </tr>\n",
       "  </tbody>\n",
       "</table>\n",
       "</div>"
      ],
      "text/plain": [
       "   age  job  marital  education  housing  loan  poutcome  emp_var_rate  \\\n",
       "0   44    1        1          0        2     0         1           1.4   \n",
       "1   53    9        1          7        0     0         1          -0.1   \n",
       "2   28    4        2          6        2     0         2          -1.7   \n",
       "3   39    7        1          3        0     0         1          -1.8   \n",
       "4   55    5        1          0        2     0         2          -2.9   \n",
       "\n",
       "   cons_price_idx  cons_conf_idx  euribor3m  nr_employed  \n",
       "0          93.444          -36.1      4.963       5228.1  \n",
       "1          93.200          -42.0      4.021       5195.8  \n",
       "2          94.055          -39.8      0.729       4991.6  \n",
       "3          93.075          -47.1      1.405       5099.1  \n",
       "4          92.201          -31.4      0.869       5076.2  "
      ]
     },
     "execution_count": 73,
     "metadata": {},
     "output_type": "execute_result"
    }
   ],
   "source": [
    "features = banking[['age','job','marital','education','housing','loan','poutcome','emp_var_rate','cons_price_idx','cons_conf_idx','euribor3m','nr_employed' ]]\n",
    "features.head()"
   ]
  },
  {
   "cell_type": "code",
   "execution_count": 74,
   "metadata": {
    "colab": {},
    "colab_type": "code",
    "id": "czhXANVVsDnP"
   },
   "outputs": [
    {
     "data": {
      "text/html": [
       "<div>\n",
       "<style scoped>\n",
       "    .dataframe tbody tr th:only-of-type {\n",
       "        vertical-align: middle;\n",
       "    }\n",
       "\n",
       "    .dataframe tbody tr th {\n",
       "        vertical-align: top;\n",
       "    }\n",
       "\n",
       "    .dataframe thead th {\n",
       "        text-align: right;\n",
       "    }\n",
       "</style>\n",
       "<table border=\"1\" class=\"dataframe\">\n",
       "  <thead>\n",
       "    <tr style=\"text-align: right;\">\n",
       "      <th></th>\n",
       "      <th>age</th>\n",
       "      <th>job</th>\n",
       "      <th>marital</th>\n",
       "      <th>education</th>\n",
       "      <th>housing</th>\n",
       "      <th>loan</th>\n",
       "      <th>poutcome</th>\n",
       "      <th>emp_var_rate</th>\n",
       "      <th>cons_price_idx</th>\n",
       "      <th>cons_conf_idx</th>\n",
       "      <th>euribor3m</th>\n",
       "      <th>nr_employed</th>\n",
       "    </tr>\n",
       "  </thead>\n",
       "  <tbody>\n",
       "    <tr>\n",
       "      <th>0</th>\n",
       "      <td>44</td>\n",
       "      <td>1</td>\n",
       "      <td>1</td>\n",
       "      <td>0</td>\n",
       "      <td>2</td>\n",
       "      <td>0</td>\n",
       "      <td>1</td>\n",
       "      <td>1.4</td>\n",
       "      <td>93.444</td>\n",
       "      <td>-36.1</td>\n",
       "      <td>4.963</td>\n",
       "      <td>5228.1</td>\n",
       "    </tr>\n",
       "    <tr>\n",
       "      <th>1</th>\n",
       "      <td>53</td>\n",
       "      <td>9</td>\n",
       "      <td>1</td>\n",
       "      <td>7</td>\n",
       "      <td>0</td>\n",
       "      <td>0</td>\n",
       "      <td>1</td>\n",
       "      <td>-0.1</td>\n",
       "      <td>93.200</td>\n",
       "      <td>-42.0</td>\n",
       "      <td>4.021</td>\n",
       "      <td>5195.8</td>\n",
       "    </tr>\n",
       "    <tr>\n",
       "      <th>2</th>\n",
       "      <td>28</td>\n",
       "      <td>4</td>\n",
       "      <td>2</td>\n",
       "      <td>6</td>\n",
       "      <td>2</td>\n",
       "      <td>0</td>\n",
       "      <td>2</td>\n",
       "      <td>-1.7</td>\n",
       "      <td>94.055</td>\n",
       "      <td>-39.8</td>\n",
       "      <td>0.729</td>\n",
       "      <td>4991.6</td>\n",
       "    </tr>\n",
       "    <tr>\n",
       "      <th>3</th>\n",
       "      <td>39</td>\n",
       "      <td>7</td>\n",
       "      <td>1</td>\n",
       "      <td>3</td>\n",
       "      <td>0</td>\n",
       "      <td>0</td>\n",
       "      <td>1</td>\n",
       "      <td>-1.8</td>\n",
       "      <td>93.075</td>\n",
       "      <td>-47.1</td>\n",
       "      <td>1.405</td>\n",
       "      <td>5099.1</td>\n",
       "    </tr>\n",
       "    <tr>\n",
       "      <th>4</th>\n",
       "      <td>55</td>\n",
       "      <td>5</td>\n",
       "      <td>1</td>\n",
       "      <td>0</td>\n",
       "      <td>2</td>\n",
       "      <td>0</td>\n",
       "      <td>2</td>\n",
       "      <td>-2.9</td>\n",
       "      <td>92.201</td>\n",
       "      <td>-31.4</td>\n",
       "      <td>0.869</td>\n",
       "      <td>5076.2</td>\n",
       "    </tr>\n",
       "  </tbody>\n",
       "</table>\n",
       "</div>"
      ],
      "text/plain": [
       "   age  job  marital  education  housing  loan  poutcome  emp_var_rate  \\\n",
       "0   44    1        1          0        2     0         1           1.4   \n",
       "1   53    9        1          7        0     0         1          -0.1   \n",
       "2   28    4        2          6        2     0         2          -1.7   \n",
       "3   39    7        1          3        0     0         1          -1.8   \n",
       "4   55    5        1          0        2     0         2          -2.9   \n",
       "\n",
       "   cons_price_idx  cons_conf_idx  euribor3m  nr_employed  \n",
       "0          93.444          -36.1      4.963       5228.1  \n",
       "1          93.200          -42.0      4.021       5195.8  \n",
       "2          94.055          -39.8      0.729       4991.6  \n",
       "3          93.075          -47.1      1.405       5099.1  \n",
       "4          92.201          -31.4      0.869       5076.2  "
      ]
     },
     "execution_count": 74,
     "metadata": {},
     "output_type": "execute_result"
    }
   ],
   "source": [
    "banking_dummies = pd.get_dummies(features)\n",
    "banking_dummies.head()"
   ]
  },
  {
   "cell_type": "code",
   "execution_count": 75,
   "metadata": {
    "colab": {},
    "colab_type": "code",
    "id": "C_LzVzI6sDqm"
   },
   "outputs": [
    {
     "data": {
      "text/plain": [
       "age               False\n",
       "job               False\n",
       "marital           False\n",
       "education         False\n",
       "housing           False\n",
       "loan              False\n",
       "poutcome          False\n",
       "emp_var_rate      False\n",
       "cons_price_idx    False\n",
       "cons_conf_idx     False\n",
       "euribor3m         False\n",
       "nr_employed       False\n",
       "dtype: bool"
      ]
     },
     "execution_count": 75,
     "metadata": {},
     "output_type": "execute_result"
    }
   ],
   "source": [
    "banking_dummies.isna().any()"
   ]
  },
  {
   "cell_type": "code",
   "execution_count": 76,
   "metadata": {
    "colab": {},
    "colab_type": "code",
    "id": "By0GWiXbsUBA"
   },
   "outputs": [
    {
     "data": {
      "text/plain": [
       "age               False\n",
       "job               False\n",
       "marital           False\n",
       "education         False\n",
       "housing           False\n",
       "loan              False\n",
       "poutcome          False\n",
       "emp_var_rate      False\n",
       "cons_price_idx    False\n",
       "cons_conf_idx     False\n",
       "euribor3m         False\n",
       "nr_employed       False\n",
       "dtype: bool"
      ]
     },
     "execution_count": 76,
     "metadata": {},
     "output_type": "execute_result"
    }
   ],
   "source": [
    "banking_dummies_train = banking_dummies.dropna()\n",
    "banking_dummies_train.isna().any()"
   ]
  },
  {
   "cell_type": "code",
   "execution_count": 77,
   "metadata": {
    "colab": {},
    "colab_type": "code",
    "id": "ioZv51mSsdQa"
   },
   "outputs": [
    {
     "data": {
      "text/html": [
       "<div>\n",
       "<style scoped>\n",
       "    .dataframe tbody tr th:only-of-type {\n",
       "        vertical-align: middle;\n",
       "    }\n",
       "\n",
       "    .dataframe tbody tr th {\n",
       "        vertical-align: top;\n",
       "    }\n",
       "\n",
       "    .dataframe thead th {\n",
       "        text-align: right;\n",
       "    }\n",
       "</style>\n",
       "<table border=\"1\" class=\"dataframe\">\n",
       "  <thead>\n",
       "    <tr style=\"text-align: right;\">\n",
       "      <th></th>\n",
       "      <th>age</th>\n",
       "      <th>job</th>\n",
       "      <th>marital</th>\n",
       "      <th>education</th>\n",
       "      <th>housing</th>\n",
       "      <th>loan</th>\n",
       "      <th>poutcome</th>\n",
       "      <th>emp_var_rate</th>\n",
       "      <th>cons_price_idx</th>\n",
       "      <th>cons_conf_idx</th>\n",
       "      <th>euribor3m</th>\n",
       "      <th>nr_employed</th>\n",
       "    </tr>\n",
       "  </thead>\n",
       "  <tbody>\n",
       "    <tr>\n",
       "      <th>0</th>\n",
       "      <td>44</td>\n",
       "      <td>1</td>\n",
       "      <td>1</td>\n",
       "      <td>0</td>\n",
       "      <td>2</td>\n",
       "      <td>0</td>\n",
       "      <td>1</td>\n",
       "      <td>1.4</td>\n",
       "      <td>93.444</td>\n",
       "      <td>-36.1</td>\n",
       "      <td>4.963</td>\n",
       "      <td>5228.1</td>\n",
       "    </tr>\n",
       "    <tr>\n",
       "      <th>1</th>\n",
       "      <td>53</td>\n",
       "      <td>9</td>\n",
       "      <td>1</td>\n",
       "      <td>7</td>\n",
       "      <td>0</td>\n",
       "      <td>0</td>\n",
       "      <td>1</td>\n",
       "      <td>-0.1</td>\n",
       "      <td>93.200</td>\n",
       "      <td>-42.0</td>\n",
       "      <td>4.021</td>\n",
       "      <td>5195.8</td>\n",
       "    </tr>\n",
       "    <tr>\n",
       "      <th>2</th>\n",
       "      <td>28</td>\n",
       "      <td>4</td>\n",
       "      <td>2</td>\n",
       "      <td>6</td>\n",
       "      <td>2</td>\n",
       "      <td>0</td>\n",
       "      <td>2</td>\n",
       "      <td>-1.7</td>\n",
       "      <td>94.055</td>\n",
       "      <td>-39.8</td>\n",
       "      <td>0.729</td>\n",
       "      <td>4991.6</td>\n",
       "    </tr>\n",
       "    <tr>\n",
       "      <th>3</th>\n",
       "      <td>39</td>\n",
       "      <td>7</td>\n",
       "      <td>1</td>\n",
       "      <td>3</td>\n",
       "      <td>0</td>\n",
       "      <td>0</td>\n",
       "      <td>1</td>\n",
       "      <td>-1.8</td>\n",
       "      <td>93.075</td>\n",
       "      <td>-47.1</td>\n",
       "      <td>1.405</td>\n",
       "      <td>5099.1</td>\n",
       "    </tr>\n",
       "    <tr>\n",
       "      <th>4</th>\n",
       "      <td>55</td>\n",
       "      <td>5</td>\n",
       "      <td>1</td>\n",
       "      <td>0</td>\n",
       "      <td>2</td>\n",
       "      <td>0</td>\n",
       "      <td>2</td>\n",
       "      <td>-2.9</td>\n",
       "      <td>92.201</td>\n",
       "      <td>-31.4</td>\n",
       "      <td>0.869</td>\n",
       "      <td>5076.2</td>\n",
       "    </tr>\n",
       "  </tbody>\n",
       "</table>\n",
       "</div>"
      ],
      "text/plain": [
       "   age  job  marital  education  housing  loan  poutcome  emp_var_rate  \\\n",
       "0   44    1        1          0        2     0         1           1.4   \n",
       "1   53    9        1          7        0     0         1          -0.1   \n",
       "2   28    4        2          6        2     0         2          -1.7   \n",
       "3   39    7        1          3        0     0         1          -1.8   \n",
       "4   55    5        1          0        2     0         2          -2.9   \n",
       "\n",
       "   cons_price_idx  cons_conf_idx  euribor3m  nr_employed  \n",
       "0          93.444          -36.1      4.963       5228.1  \n",
       "1          93.200          -42.0      4.021       5195.8  \n",
       "2          94.055          -39.8      0.729       4991.6  \n",
       "3          93.075          -47.1      1.405       5099.1  \n",
       "4          92.201          -31.4      0.869       5076.2  "
      ]
     },
     "execution_count": 77,
     "metadata": {},
     "output_type": "execute_result"
    }
   ],
   "source": [
    "labels_train = labels[banking_dummies_train.index]\n",
    "banking_dummies_train.head()"
   ]
  },
  {
   "cell_type": "code",
   "execution_count": 78,
   "metadata": {
    "colab": {},
    "colab_type": "code",
    "id": "cqwKUT9zsfdt"
   },
   "outputs": [],
   "source": [
    "# LogisticRegression"
   ]
  },
  {
   "cell_type": "code",
   "execution_count": 81,
   "metadata": {
    "colab": {},
    "colab_type": "code",
    "id": "Y4N_9Vt2sfgy"
   },
   "outputs": [
    {
     "data": {
      "text/plain": [
       "LogisticRegression(C=1.0, class_weight=None, dual=False, fit_intercept=True,\n",
       "                   intercept_scaling=1, l1_ratio=None, max_iter=2000,\n",
       "                   multi_class='auto', n_jobs=None, penalty='l2',\n",
       "                   random_state=None, solver='lbfgs', tol=0.0001, verbose=0,\n",
       "                   warm_start=False)"
      ]
     },
     "execution_count": 81,
     "metadata": {},
     "output_type": "execute_result"
    }
   ],
   "source": [
    "model = LogisticRegression(solver='lbfgs',max_iter=2000)\n",
    "model.fit(banking_dummies_train,labels_train)"
   ]
  },
  {
   "cell_type": "code",
   "execution_count": 82,
   "metadata": {
    "colab": {},
    "colab_type": "code",
    "id": "hL1xsTL5sflU"
   },
   "outputs": [
    {
     "data": {
      "text/plain": [
       "(array([0, 0, 1, ..., 0, 0, 0], dtype=int64),\n",
       " array([0, 0, 1, ..., 0, 0, 0], dtype=int64))"
      ]
     },
     "execution_count": 82,
     "metadata": {},
     "output_type": "execute_result"
    }
   ],
   "source": [
    "#real, # Predict\n",
    "labels_train ,model.predict(banking_dummies_train) "
   ]
  },
  {
   "cell_type": "code",
   "execution_count": 83,
   "metadata": {
    "colab": {},
    "colab_type": "code",
    "id": "Kdt9ddW0spvv"
   },
   "outputs": [
    {
     "data": {
      "text/plain": [
       "36953"
      ]
     },
     "execution_count": 83,
     "metadata": {},
     "output_type": "execute_result"
    }
   ],
   "source": [
    "true_predict = sum(model.predict(banking_dummies_train) ==  labels_train)\n",
    "true_predict"
   ]
  },
  {
   "cell_type": "code",
   "execution_count": 84,
   "metadata": {
    "colab": {},
    "colab_type": "code",
    "id": "Vuc-R-HCsrQZ"
   },
   "outputs": [
    {
     "data": {
      "text/latex": [
       "$\\displaystyle 0.8971787899388172$"
      ],
      "text/plain": [
       "0.8971787899388172"
      ]
     },
     "execution_count": 84,
     "metadata": {},
     "output_type": "execute_result"
    }
   ],
   "source": [
    "true_ratio = sum(model.predict(banking_dummies_train) ==  labels_train) / (len(labels_train))\n",
    "true_ratio"
   ]
  },
  {
   "cell_type": "code",
   "execution_count": 85,
   "metadata": {
    "colab": {},
    "colab_type": "code",
    "id": "5sU_BDz5ssrI"
   },
   "outputs": [
    {
     "name": "stdout",
     "output_type": "stream",
     "text": [
      "logistic regression score: 0.897179\n"
     ]
    }
   ],
   "source": [
    "print(\"logistic regression score: %f\" % model.score(banking_dummies_train, labels_train))"
   ]
  },
  {
   "cell_type": "code",
   "execution_count": 86,
   "metadata": {
    "colab": {},
    "colab_type": "code",
    "id": "a-LurirRsu4j"
   },
   "outputs": [],
   "source": [
    "from sklearn.model_selection import train_test_split"
   ]
  },
  {
   "cell_type": "code",
   "execution_count": 87,
   "metadata": {
    "colab": {},
    "colab_type": "code",
    "id": "I7Qfu3Qfsu7b"
   },
   "outputs": [],
   "source": [
    "train_data, test_data, train_labels, test_labels = train_test_split(banking_dummies_train, labels_train,\n",
    "                                                                    random_state=0,test_size=0.33)"
   ]
  },
  {
   "cell_type": "code",
   "execution_count": 88,
   "metadata": {
    "colab": {},
    "colab_type": "code",
    "id": "A2GIGK_-su-5"
   },
   "outputs": [
    {
     "data": {
      "text/latex": [
       "$\\displaystyle \\left( \\left( 27595, \\  12\\right), \\  \\left( 13593, \\  12\\right)\\right)$"
      ],
      "text/plain": [
       "((27595, 12), (13593, 12))"
      ]
     },
     "execution_count": 88,
     "metadata": {},
     "output_type": "execute_result"
    }
   ],
   "source": [
    "train_data.shape,test_data.shape"
   ]
  },
  {
   "cell_type": "code",
   "execution_count": 89,
   "metadata": {
    "colab": {},
    "colab_type": "code",
    "id": "r4ECllGIsvCq"
   },
   "outputs": [
    {
     "name": "stdout",
     "output_type": "stream",
     "text": [
      "Logistic regression score: 0.897815\n"
     ]
    }
   ],
   "source": [
    "model = LogisticRegression(solver='lbfgs',max_iter=2000).fit(train_data,train_labels)\n",
    "print(\"Logistic regression score: %f\" % model.score(test_data,test_labels))"
   ]
  },
  {
   "cell_type": "code",
   "execution_count": 90,
   "metadata": {
    "colab": {},
    "colab_type": "code",
    "id": "psTNbAC1svGE"
   },
   "outputs": [
    {
     "name": "stdout",
     "output_type": "stream",
     "text": [
      "logistic regression score: 0.899654\n"
     ]
    }
   ],
   "source": [
    "features = banking[['age','job','marital','education',\n",
    "                    'housing','loan','poutcome','emp_var_rate',\n",
    "                    'cons_price_idx','cons_conf_idx','euribor3m','nr_employed' ]]\n",
    "\n",
    "features = pd.get_dummies(features, columns=['age', 'job', 'education', 'loan', 'poutcome'])\n",
    "labels = labels[features.index]\n",
    "\n",
    "train_data, test_data, train_labels, test_labels = train_test_split(features, labels_train,\n",
    "                                                                    random_state=0,test_size=0.33)\n",
    "\n",
    "model = LogisticRegression(solver=\"lbfgs\",max_iter=1000).fit(train_data, train_labels)\n",
    "print(\"logistic regression score: %f\" % model.score(test_data, test_labels))"
   ]
  },
  {
   "cell_type": "code",
   "execution_count": 91,
   "metadata": {
    "colab": {},
    "colab_type": "code",
    "id": "WHb0N2MqsvLU"
   },
   "outputs": [
    {
     "data": {
      "text/plain": [
       "array([ True,  True,  True, ...,  True,  True,  True])"
      ]
     },
     "execution_count": 91,
     "metadata": {},
     "output_type": "execute_result"
    }
   ],
   "source": [
    "guess = model.predict(test_data) == test_labels\n",
    "guess"
   ]
  },
  {
   "cell_type": "code",
   "execution_count": 92,
   "metadata": {
    "colab": {},
    "colab_type": "code",
    "id": "4sDMG3pWsvOk"
   },
   "outputs": [
    {
     "data": {
      "text/plain": [
       "(array([13172.,     0.,     0.,     0.,     0.,     0.,     0.,     0.,\n",
       "            0.,   421.]),\n",
       " array([0. , 0.1, 0.2, 0.3, 0.4, 0.5, 0.6, 0.7, 0.8, 0.9, 1. ]),\n",
       " <a list of 10 Patch objects>)"
      ]
     },
     "execution_count": 92,
     "metadata": {},
     "output_type": "execute_result"
    },
    {
     "data": {
      "image/png": "[encoded data removed]",
      "text/plain": [
       "<Figure size 432x288 with 1 Axes>"
      ]
     },
     "metadata": {
      "needs_background": "light"
     },
     "output_type": "display_data"
    }
   ],
   "source": [
    "plt.hist(model.predict(test_data))"
   ]
  },
  {
   "cell_type": "code",
   "execution_count": null,
   "metadata": {
    "colab": {},
    "colab_type": "code",
    "id": "j1VUGFv2svKR"
   },
   "outputs": [],
   "source": []
  },
  {
   "cell_type": "code",
   "execution_count": null,
   "metadata": {
    "colab": {},
    "colab_type": "code",
    "id": "CHlGHAiTsvJO"
   },
   "outputs": [],
   "source": []
  }
 ],
 "metadata": {
  "colab": {
   "collapsed_sections": [
    "nlP9M6podOv-",
    "y0___Ot2dOwf",
    "zD9B10HKdOwn",
    "RHEvNjyNdOw6",
    "QWfE836XdOxA",
    "auLbXApZdOxG",
    "ZWu5E6npdOxS",
    "E4sumJYvdOxU",
    "zqbID-0tdOxc",
    "IR4APLTUdOxk",
    "EaFy2-OMdOxr",
    "o6xVVRfPdOx0",
    "vw5CqJC-dOx_",
    "WwEcmcwWdOyA",
    "JK1PTz5ZdOyW",
    "ataLuxH3dOyc",
    "mp5e_POQdOyo",
    "kVFRb1C0dOy6",
    "rUfI9bt5dOzB",
    "QboyEOYQdOzK",
    "911Baf_XdOzW",
    "2n00IeTxdOze",
    "COtcCtHHdOze"
   ],
   "name": "examencini.ipynb",
   "provenance": []
  },
  "kernelspec": {
   "display_name": "Python 3",
   "language": "python",
   "name": "python3"
  },
  "language_info": {
   "codemirror_mode": {
    "name": "ipython",
    "version": 3
   },
   "file_extension": ".py",
   "mimetype": "text/x-python",
   "name": "python",
   "nbconvert_exporter": "python",
   "pygments_lexer": "ipython3",
   "version": "3.7.4"
  }
 },
 "nbformat": 4,
 "nbformat_minor": 1
}
