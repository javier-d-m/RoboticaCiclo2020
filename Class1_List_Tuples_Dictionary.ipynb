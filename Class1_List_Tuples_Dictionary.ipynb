{
 "cells": [
  {
   "cell_type": "code",
   "execution_count": 2,
   "metadata": {},
   "outputs": [
    {
     "name": "stdout",
     "output_type": "stream",
     "text": [
      "[1, 2, 1, 'hlasd', 'lajsdf', 23.22]\n",
      "(1, 2, 1, 'hlasd', 'lajsdf', 23.22)\n",
      "{1, 2, 'lajsdf', 'hlasd', 23.22}\n",
      "{'a': 1, 'b': 2}\n"
     ]
    }
   ],
   "source": [
    "a = [1,2,1,\"hlasd\",\"lajsdf\",23.22]\n",
    "b = (1,2,1,\"hlasd\",\"lajsdf\",23.22)\n",
    "c = {1,2,1,\"hlasd\",\"lajsdf\",23.22}\n",
    "d = {\"a\":1,\"b\":2}\n",
    "print(a)\n",
    "print(b)\n",
    "print(c)\n",
    "print(d)"
   ]
  },
  {
   "cell_type": "code",
   "execution_count": 7,
   "metadata": {},
   "outputs": [
    {
     "name": "stdout",
     "output_type": "stream",
     "text": [
      "['pan', 'leche', 100, 1234, True, 234.3, ('pan', 'leche', 100, 1234, True, 234.3)]\n"
     ]
    }
   ],
   "source": [
    "leche = \"leche\"\n",
    "tupla_a = ('pan', leche, 100, 1234, True, 234.3)\n",
    "lista_a = ['pan', leche, 100, 1234, True, 234.3, tupla_a]\n",
    "print(lista_a)"
   ]
  },
  {
   "cell_type": "code",
   "execution_count": 12,
   "metadata": {},
   "outputs": [
    {
     "name": "stdout",
     "output_type": "stream",
     "text": [
      "['pan', 'leche', True, 234.3, ('pan', 'leche', 100, 1234, True, 234.3), 'holi']\n",
      "['pan', 'leche', True, 234.3, ('pan', 'leche', 100, 1234, True, 234.3)]\n",
      "[('pan', 'leche', 100, 1234, True, 234.3)]\n"
     ]
    }
   ],
   "source": [
    "lista_a.append(\"holi\")\n",
    "print(lista_a)\n",
    "lista_a.remove('holi')\n",
    "print(lista_a)\n",
    "del lista_a[0:4]\n",
    "print(lista_a)\n",
    "lista_b = []"
   ]
  },
  {
   "cell_type": "code",
   "execution_count": 16,
   "metadata": {},
   "outputs": [
    {
     "name": "stdout",
     "output_type": "stream",
     "text": [
      "(1, 2, 3, 4)\n",
      "4\n",
      "(1, 2, 3, 4)\n",
      "(1, 2, 3, 4)\n"
     ]
    }
   ],
   "source": [
    "tupla = (1,2,3,4)\n",
    "print(tupla)\n",
    "print(len(tupla))\n",
    "list(tupla)\n",
    "print(tupla)\n",
    "tuple(tupla)\n",
    "print(tupla)"
   ]
  },
  {
   "cell_type": "code",
   "execution_count": 17,
   "metadata": {},
   "outputs": [
    {
     "name": "stdout",
     "output_type": "stream",
     "text": [
      "[11, 9, 10] [11, 9, 10]\n"
     ]
    }
   ],
   "source": [
    "x = [8,9,10]\n",
    "y=x #.copy()\n",
    "y[0] = 11\n",
    "print(x,y)"
   ]
  },
  {
   "cell_type": "code",
   "execution_count": 19,
   "metadata": {},
   "outputs": [
    {
     "name": "stdout",
     "output_type": "stream",
     "text": [
      "{'one': 1, 'two': 2, 'three': 3}\n"
     ]
    }
   ],
   "source": [
    "a = dict(one=1, two=2, three=3)\n",
    "b = {'one':1,'two':2,'three':3}\n",
    "c = dict(zip(['one','two','three'],[1,2,3]))\n",
    "print(c)"
   ]
  },
  {
   "cell_type": "code",
   "execution_count": 21,
   "metadata": {},
   "outputs": [
    {
     "name": "stdout",
     "output_type": "stream",
     "text": [
      "(0, 'leche')\n",
      "(1, 'pera')\n",
      "(2, 'manzana')\n",
      "(3, 'naranja')\n",
      "0 leche\n",
      "1 pera\n",
      "2 manzana\n",
      "3 naranja\n"
     ]
    }
   ],
   "source": [
    "for i in enumerate (['leche', 'pera', 'manzana', 'naranja']):\n",
    "    print(i)\n",
    "for i,v in enumerate (['leche', 'pera', 'manzana', 'naranja']):\n",
    "    print(i,v)"
   ]
  }
 ],
 "metadata": {
  "kernelspec": {
   "display_name": "Python 3",
   "language": "python",
   "name": "python3"
  },
  "language_info": {
   "codemirror_mode": {
    "name": "ipython",
    "version": 3
   },
   "file_extension": ".py",
   "mimetype": "text/x-python",
   "name": "python",
   "nbconvert_exporter": "python",
   "pygments_lexer": "ipython3",
   "version": "3.7.4"
  }
 },
 "nbformat": 4,
 "nbformat_minor": 2
}
