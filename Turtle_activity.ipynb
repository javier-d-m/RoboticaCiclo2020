{
 "cells": [
  {
   "cell_type": "code",
   "execution_count": 2,
   "metadata": {},
   "outputs": [
    {
     "name": "stdout",
     "output_type": "stream",
     "text": [
      "Collecting mobilechelonian\n",
      "  Downloading https://files.pythonhosted.org/packages/2c/89/d79cde973e8b0ab504bbea6d494b7fd7d6e2b4d6a8931b0b19a21368ab9b/mobilechelonian-0.5-py2.py3-none-any.whl (94kB)\n",
      "Requirement already satisfied: ipywidgets>=7.0.0 in c:\\users\\javier diaz\\anaconda3\\lib\\site-packages (from mobilechelonian) (7.5.1)\n",
      "Requirement already satisfied: IPython in c:\\users\\javier diaz\\anaconda3\\lib\\site-packages (from mobilechelonian) (7.8.0)\n",
      "Requirement already satisfied: ipykernel>=4.5.1 in c:\\users\\javier diaz\\anaconda3\\lib\\site-packages (from ipywidgets>=7.0.0->mobilechelonian) (5.1.2)\n",
      "Requirement already satisfied: traitlets>=4.3.1 in c:\\users\\javier diaz\\anaconda3\\lib\\site-packages (from ipywidgets>=7.0.0->mobilechelonian) (4.3.3)\n",
      "Requirement already satisfied: nbformat>=4.2.0 in c:\\users\\javier diaz\\anaconda3\\lib\\site-packages (from ipywidgets>=7.0.0->mobilechelonian) (4.4.0)\n",
      "Requirement already satisfied: widgetsnbextension~=3.5.0 in c:\\users\\javier diaz\\anaconda3\\lib\\site-packages (from ipywidgets>=7.0.0->mobilechelonian) (3.5.1)\n",
      "Requirement already satisfied: pygments in c:\\users\\javier diaz\\anaconda3\\lib\\site-packages (from IPython->mobilechelonian) (2.4.2)\n",
      "Requirement already satisfied: backcall in c:\\users\\javier diaz\\anaconda3\\lib\\site-packages (from IPython->mobilechelonian) (0.1.0)\n",
      "Requirement already satisfied: setuptools>=18.5 in c:\\users\\javier diaz\\anaconda3\\lib\\site-packages (from IPython->mobilechelonian) (41.4.0)\n",
      "Requirement already satisfied: jedi>=0.10 in c:\\users\\javier diaz\\anaconda3\\lib\\site-packages (from IPython->mobilechelonian) (0.15.1)\n",
      "Requirement already satisfied: prompt-toolkit<2.1.0,>=2.0.0 in c:\\users\\javier diaz\\anaconda3\\lib\\site-packages (from IPython->mobilechelonian) (2.0.10)\n",
      "Requirement already satisfied: colorama; sys_platform == \"win32\" in c:\\users\\javier diaz\\anaconda3\\lib\\site-packages (from IPython->mobilechelonian) (0.4.1)\n",
      "Requirement already satisfied: decorator in c:\\users\\javier diaz\\anaconda3\\lib\\site-packages (from IPython->mobilechelonian) (4.4.0)\n",
      "Requirement already satisfied: pickleshare in c:\\users\\javier diaz\\anaconda3\\lib\\site-packages (from IPython->mobilechelonian) (0.7.5)\n",
      "Requirement already satisfied: tornado>=4.2 in c:\\users\\javier diaz\\anaconda3\\lib\\site-packages (from ipykernel>=4.5.1->ipywidgets>=7.0.0->mobilechelonian) (6.0.3)\n",
      "Requirement already satisfied: jupyter-client in c:\\users\\javier diaz\\anaconda3\\lib\\site-packages (from ipykernel>=4.5.1->ipywidgets>=7.0.0->mobilechelonian) (5.3.3)\n",
      "Requirement already satisfied: ipython-genutils in c:\\users\\javier diaz\\anaconda3\\lib\\site-packages (from traitlets>=4.3.1->ipywidgets>=7.0.0->mobilechelonian) (0.2.0)\n",
      "Requirement already satisfied: six in c:\\users\\javier diaz\\anaconda3\\lib\\site-packages (from traitlets>=4.3.1->ipywidgets>=7.0.0->mobilechelonian) (1.12.0)\n",
      "Requirement already satisfied: jsonschema!=2.5.0,>=2.4 in c:\\users\\javier diaz\\anaconda3\\lib\\site-packages (from nbformat>=4.2.0->ipywidgets>=7.0.0->mobilechelonian) (3.0.2)\n",
      "Requirement already satisfied: jupyter-core in c:\\users\\javier diaz\\anaconda3\\lib\\site-packages (from nbformat>=4.2.0->ipywidgets>=7.0.0->mobilechelonian) (4.5.0)\n",
      "Requirement already satisfied: notebook>=4.4.1 in c:\\users\\javier diaz\\anaconda3\\lib\\site-packages (from widgetsnbextension~=3.5.0->ipywidgets>=7.0.0->mobilechelonian) (6.0.1)\n",
      "Requirement already satisfied: parso>=0.5.0 in c:\\users\\javier diaz\\anaconda3\\lib\\site-packages (from jedi>=0.10->IPython->mobilechelonian) (0.5.1)\n",
      "Requirement already satisfied: wcwidth in c:\\users\\javier diaz\\anaconda3\\lib\\site-packages (from prompt-toolkit<2.1.0,>=2.0.0->IPython->mobilechelonian) (0.1.7)\n",
      "Requirement already satisfied: pywin32>=1.0; sys_platform == \"win32\" in c:\\users\\javier diaz\\anaconda3\\lib\\site-packages (from jupyter-client->ipykernel>=4.5.1->ipywidgets>=7.0.0->mobilechelonian) (223)\n",
      "Requirement already satisfied: python-dateutil>=2.1 in c:\\users\\javier diaz\\anaconda3\\lib\\site-packages (from jupyter-client->ipykernel>=4.5.1->ipywidgets>=7.0.0->mobilechelonian) (2.8.0)\n",
      "Requirement already satisfied: pyzmq>=13 in c:\\users\\javier diaz\\anaconda3\\lib\\site-packages (from jupyter-client->ipykernel>=4.5.1->ipywidgets>=7.0.0->mobilechelonian) (18.1.0)\n",
      "Requirement already satisfied: pyrsistent>=0.14.0 in c:\\users\\javier diaz\\anaconda3\\lib\\site-packages (from jsonschema!=2.5.0,>=2.4->nbformat>=4.2.0->ipywidgets>=7.0.0->mobilechelonian) (0.15.4)\n",
      "Requirement already satisfied: attrs>=17.4.0 in c:\\users\\javier diaz\\anaconda3\\lib\\site-packages (from jsonschema!=2.5.0,>=2.4->nbformat>=4.2.0->ipywidgets>=7.0.0->mobilechelonian) (19.2.0)\n",
      "Requirement already satisfied: jinja2 in c:\\users\\javier diaz\\anaconda3\\lib\\site-packages (from notebook>=4.4.1->widgetsnbextension~=3.5.0->ipywidgets>=7.0.0->mobilechelonian) (2.10.3)\n",
      "Requirement already satisfied: nbconvert in c:\\users\\javier diaz\\anaconda3\\lib\\site-packages (from notebook>=4.4.1->widgetsnbextension~=3.5.0->ipywidgets>=7.0.0->mobilechelonian) (5.6.0)\n",
      "Requirement already satisfied: terminado>=0.8.1 in c:\\users\\javier diaz\\anaconda3\\lib\\site-packages (from notebook>=4.4.1->widgetsnbextension~=3.5.0->ipywidgets>=7.0.0->mobilechelonian) (0.8.2)\n",
      "Requirement already satisfied: prometheus-client in c:\\users\\javier diaz\\anaconda3\\lib\\site-packages (from notebook>=4.4.1->widgetsnbextension~=3.5.0->ipywidgets>=7.0.0->mobilechelonian) (0.7.1)\n",
      "Requirement already satisfied: Send2Trash in c:\\users\\javier diaz\\anaconda3\\lib\\site-packages (from notebook>=4.4.1->widgetsnbextension~=3.5.0->ipywidgets>=7.0.0->mobilechelonian) (1.5.0)\n",
      "Requirement already satisfied: MarkupSafe>=0.23 in c:\\users\\javier diaz\\anaconda3\\lib\\site-packages (from jinja2->notebook>=4.4.1->widgetsnbextension~=3.5.0->ipywidgets>=7.0.0->mobilechelonian) (1.1.1)\n",
      "Requirement already satisfied: bleach in c:\\users\\javier diaz\\anaconda3\\lib\\site-packages (from nbconvert->notebook>=4.4.1->widgetsnbextension~=3.5.0->ipywidgets>=7.0.0->mobilechelonian) (3.1.0)\n",
      "Requirement already satisfied: pandocfilters>=1.4.1 in c:\\users\\javier diaz\\anaconda3\\lib\\site-packages (from nbconvert->notebook>=4.4.1->widgetsnbextension~=3.5.0->ipywidgets>=7.0.0->mobilechelonian) (1.4.2)\n",
      "Requirement already satisfied: entrypoints>=0.2.2 in c:\\users\\javier diaz\\anaconda3\\lib\\site-packages (from nbconvert->notebook>=4.4.1->widgetsnbextension~=3.5.0->ipywidgets>=7.0.0->mobilechelonian) (0.3)\n",
      "Requirement already satisfied: defusedxml in c:\\users\\javier diaz\\anaconda3\\lib\\site-packages (from nbconvert->notebook>=4.4.1->widgetsnbextension~=3.5.0->ipywidgets>=7.0.0->mobilechelonian) (0.6.0)\n",
      "Requirement already satisfied: testpath in c:\\users\\javier diaz\\anaconda3\\lib\\site-packages (from nbconvert->notebook>=4.4.1->widgetsnbextension~=3.5.0->ipywidgets>=7.0.0->mobilechelonian) (0.4.2)\n",
      "Requirement already satisfied: mistune<2,>=0.8.1 in c:\\users\\javier diaz\\anaconda3\\lib\\site-packages (from nbconvert->notebook>=4.4.1->widgetsnbextension~=3.5.0->ipywidgets>=7.0.0->mobilechelonian) (0.8.4)\n",
      "Requirement already satisfied: webencodings in c:\\users\\javier diaz\\anaconda3\\lib\\site-packages (from bleach->nbconvert->notebook>=4.4.1->widgetsnbextension~=3.5.0->ipywidgets>=7.0.0->mobilechelonian) (0.5.1)\n",
      "Installing collected packages: mobilechelonian\n",
      "Successfully installed mobilechelonian-0.5\n"
     ]
    }
   ],
   "source": [
    "!pip install mobilechelonian"
   ]
  },
  {
   "cell_type": "code",
   "execution_count": 4,
   "metadata": {},
   "outputs": [],
   "source": [
    "from mobilechelonian import Turtle"
   ]
  },
  {
   "cell_type": "code",
   "execution_count": 44,
   "metadata": {},
   "outputs": [
    {
     "data": {
      "application/vnd.jupyter.widget-view+json": {
       "model_id": "033ef7f1a702404ca79bb0a45c8b2038",
       "version_major": 2,
       "version_minor": 0
      },
      "text/plain": [
       "Turtle()"
      ]
     },
     "metadata": {},
     "output_type": "display_data"
    }
   ],
   "source": [
    "t = Turtle()\n",
    "t.speed(5)\n",
    "colours=[\"red\",\"blue\",\"yellow\",\"brown\",\"black\",\"purple\",\"green\"]\n",
    "\n",
    "t.penup(); t.left(90); t.forward(200);t.right(90);t.pendown()\n",
    "\n",
    "for i in range (0, 5):\n",
    "    t.right(0)\n",
    "    t.forward(10)\n",
    "t.forward(-25)\n",
    "t.right(90)\n",
    "t.forward(100)\n",
    "for i in range (0,10):\n",
    "    t.pencolor(colours[i%6])\n",
    "    t.right(20)\n",
    "    t.forward(10)\n",
    "    \n",
    "#t.right(180)\n",
    "t.penup();\n",
    "t.right(70)\n",
    "t.forward(250)\n",
    "t.right(270)\n",
    "t.forward(250)"
   ]
  }
 ],
 "metadata": {
  "kernelspec": {
   "display_name": "Python 3",
   "language": "python",
   "name": "python3"
  },
  "language_info": {
   "codemirror_mode": {
    "name": "ipython",
    "version": 3
   },
   "file_extension": ".py",
   "mimetype": "text/x-python",
   "name": "python",
   "nbconvert_exporter": "python",
   "pygments_lexer": "ipython3",
   "version": "3.7.4"
  }
 },
 "nbformat": 4,
 "nbformat_minor": 2
}
