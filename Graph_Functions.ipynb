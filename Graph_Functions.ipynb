{
 "cells": [
  {
   "cell_type": "code",
   "execution_count": 13,
   "metadata": {},
   "outputs": [
    {
     "name": "stdout",
     "output_type": "stream",
     "text": [
      "13.367585630743527\n",
      "8.963752202528886\n",
      "6.055346575994995\n",
      "4.159425651566667\n",
      "2.963510383758094\n",
      "2.2723698221608224\n",
      "1.9588122128487626\n",
      "1.8836822659206125\n",
      "1.879398880158599\n",
      "1.879385241709877\n",
      "1.8793852415718166\n",
      "f( 1.8793852415718166 ) =  -8.881784197001252e-16\n"
     ]
    }
   ],
   "source": [
    "#newton-Raphson activity Berna way\n",
    "def funct(x):\n",
    "    return (x**3 -3*x -1)\n",
    "def functderiv(x):\n",
    "    return(3*x**2 - 3)\n",
    "x = 10.0\n",
    "x2 = 20.0\n",
    "while abs(x-x2)>0.00001:\n",
    "    x = x2\n",
    "    x2 = x - (funct(x)/functderiv(x))\n",
    "    print(x2)\n",
    "x = x2\n",
    "print(\"f(\",x,') = ',funct(x))\n"
   ]
  },
  {
   "cell_type": "code",
   "execution_count": 16,
   "metadata": {},
   "outputs": [
    {
     "data": {
      "text/plain": [
       "[-3,\n",
       " -2.2083333333333335,\n",
       " -1.7659974125491367,\n",
       " -1.5756794669595084,\n",
       " -1.5340894720545464,\n",
       " -1.5320934208514045,\n",
       " -1.5320888862613389,\n",
       " -1.532088886237956,\n",
       " -1.532088886237956,\n",
       " -1.532088886237956,\n",
       " -1.532088886237956]"
      ]
     },
     "execution_count": 16,
     "metadata": {},
     "output_type": "execute_result"
    }
   ],
   "source": [
    "#Teacher way\n",
    "f=lambda x: x**3 -3*x -1 #genera una pequeña funcion\n",
    "df=lambda x: 3*x**2 -3\n",
    "\n",
    "x = []\n",
    "x.append(-3)\n",
    "for i in range(10):\n",
    "    xn = x[i]\n",
    "    x.append(xn-f(xn)/df(xn))\n",
    "x"
   ]
  },
  {
   "cell_type": "code",
   "execution_count": 25,
   "metadata": {},
   "outputs": [
    {
     "data": {
      "text/plain": [
       "[<matplotlib.lines.Line2D at 0x1ba68e00308>]"
      ]
     },
     "execution_count": 25,
     "metadata": {},
     "output_type": "execute_result"
    },
    {
     "data": {
      "image/png": "[encoded data removed]",
      "text/plain": [
       "<Figure size 432x288 with 1 Axes>"
      ]
     },
     "metadata": {
      "needs_background": "light"
     },
     "output_type": "display_data"
    }
   ],
   "source": [
    "import numpy as np\n",
    "import matplotlib.pylab as plt\n",
    "\n",
    "xmin = -3\n",
    "xmax = 3\n",
    "x = np.arange(xmin,xmax,0.1)\n",
    "y = f(x)\n",
    "plt.hlines(0,xmin,xmax)\n",
    "plt.plot(x,y)"
   ]
  },
  {
   "cell_type": "code",
   "execution_count": 22,
   "metadata": {},
   "outputs": [
    {
     "data": {
      "text/plain": [
       "[-3,\n",
       " -2.0384615384615383,\n",
       " -1.3902821472167362,\n",
       " -0.911611897717927,\n",
       " -0.34502849674816916,\n",
       " -1.4277507040272703,\n",
       " -0.9424179125094829,\n",
       " -0.40494935719937963,\n",
       " -1.7069046451828516,\n",
       " -1.1557563610748134,\n",
       " -0.6941918133295469]"
      ]
     },
     "execution_count": 22,
     "metadata": {},
     "output_type": "execute_result"
    }
   ],
   "source": [
    "#another activity \n",
    "f=lambda x: x**3 -x -1 #genera una pequeña funcion\n",
    "df=lambda x: 3*x**2 -1\n",
    "\n",
    "x = []\n",
    "x.append(-3)\n",
    "for i in range(10):\n",
    "    xn = x[i]\n",
    "    x.append(xn-f(xn)/df(xn))\n",
    "x"
   ]
  },
  {
   "cell_type": "code",
   "execution_count": 24,
   "metadata": {},
   "outputs": [
    {
     "data": {
      "text/plain": [
       "array([-1.87938524,  1.53208889,  0.34729636])"
      ]
     },
     "execution_count": 24,
     "metadata": {},
     "output_type": "execute_result"
    }
   ],
   "source": [
    "np.roots([1,0,-3,1])"
   ]
  },
  {
   "cell_type": "code",
   "execution_count": 26,
   "metadata": {},
   "outputs": [],
   "source": [
    "from sympy import *\n",
    "init_printing() #inicializamos nuevo entorno"
   ]
  },
  {
   "cell_type": "code",
   "execution_count": 28,
   "metadata": {},
   "outputs": [
    {
     "data": {
      "image/png": "[encoded data removed]",
      "text/latex": [
       "$\\displaystyle \\left( x, \\  y\\right)$"
      ],
      "text/plain": [
       "(x, y)"
      ]
     },
     "execution_count": 28,
     "metadata": {},
     "output_type": "execute_result"
    }
   ],
   "source": [
    "x,y = var(\"x y\")\n",
    "x,y"
   ]
  },
  {
   "cell_type": "code",
   "execution_count": 30,
   "metadata": {},
   "outputs": [
    {
     "data": {
      "image/png": "[encoded data removed]",
      "text/plain": [
       "<Figure size 432x288 with 1 Axes>"
      ]
     },
     "metadata": {
      "needs_background": "light"
     },
     "output_type": "display_data"
    },
    {
     "data": {
      "text/plain": [
       "<sympy.plotting.plot.Plot at 0x1ba68e5d208>"
      ]
     },
     "execution_count": 30,
     "metadata": {},
     "output_type": "execute_result"
    }
   ],
   "source": [
    "f = x**3 - 3*x**2 -24*x +32\n",
    "plot(f)"
   ]
  },
  {
   "cell_type": "code",
   "execution_count": 32,
   "metadata": {},
   "outputs": [
    {
     "data": {
      "image/png": "[encoded data removed]",
      "text/latex": [
       "$\\displaystyle x^{3} - 3 x^{2} - 24 x + 32$"
      ],
      "text/plain": [
       " 3      2            \n",
       "x  - 3⋅x  - 24⋅x + 32"
      ]
     },
     "execution_count": 32,
     "metadata": {},
     "output_type": "execute_result"
    }
   ],
   "source": [
    "f"
   ]
  },
  {
   "cell_type": "code",
   "execution_count": 33,
   "metadata": {},
   "outputs": [
    {
     "data": {
      "image/png": "[encoded data removed]",
      "text/latex": [
       "$\\displaystyle 3 x^{2} - 6 x - 24$"
      ],
      "text/plain": [
       "   2           \n",
       "3⋅x  - 6⋅x - 24"
      ]
     },
     "execution_count": 33,
     "metadata": {},
     "output_type": "execute_result"
    }
   ],
   "source": [
    "df = f.diff()\n",
    "df"
   ]
  },
  {
   "cell_type": "code",
   "execution_count": 34,
   "metadata": {},
   "outputs": [
    {
     "data": {
      "image/png": "[encoded data removed]",
      "text/latex": [
       "$\\displaystyle 6 x - 6$"
      ],
      "text/plain": [
       "6⋅x - 6"
      ]
     },
     "execution_count": 34,
     "metadata": {},
     "output_type": "execute_result"
    }
   ],
   "source": [
    "df.diff()"
   ]
  },
  {
   "cell_type": "code",
   "execution_count": 39,
   "metadata": {},
   "outputs": [
    {
     "data": {
      "image/png": "[encoded data removed]",
      "text/latex": [
       "$\\displaystyle 6 \\left(x - 1\\right)$"
      ],
      "text/plain": [
       "6⋅(x - 1)"
      ]
     },
     "execution_count": 39,
     "metadata": {},
     "output_type": "execute_result"
    }
   ],
   "source": [
    "f.diff(x,2)"
   ]
  },
  {
   "cell_type": "code",
   "execution_count": 40,
   "metadata": {},
   "outputs": [
    {
     "data": {
      "image/png": "[encoded data removed]",
      "text/latex": [
       "$\\displaystyle \\frac{x^{3}}{3}$"
      ],
      "text/plain": [
       " 3\n",
       "x \n",
       "──\n",
       "3 "
      ]
     },
     "execution_count": 40,
     "metadata": {},
     "output_type": "execute_result"
    }
   ],
   "source": [
    "(x**2).integrate()"
   ]
  },
  {
   "cell_type": "code",
   "execution_count": 43,
   "metadata": {},
   "outputs": [
    {
     "data": {
      "image/png": "[encoded data removed]",
      "text/latex": [
       "$\\displaystyle \\left( 3 x^{2} - 6 x - 24, \\  6 x - 6\\right)$"
      ],
      "text/plain": [
       "⎛   2                    ⎞\n",
       "⎝3⋅x  - 6⋅x - 24, 6⋅x - 6⎠"
      ]
     },
     "execution_count": 43,
     "metadata": {},
     "output_type": "execute_result"
    }
   ],
   "source": [
    "f = x**3 - 3*x**2 -24*x +32\n",
    "df = f.diff()\n",
    "ddf = df.diff()\n",
    "df,ddf"
   ]
  },
  {
   "cell_type": "code",
   "execution_count": 45,
   "metadata": {},
   "outputs": [
    {
     "data": {
      "image/png": "[encoded data removed]",
      "text/latex": [
       "$\\displaystyle \\left[ -2, \\  4\\right]$"
      ],
      "text/plain": [
       "[-2, 4]"
      ]
     },
     "execution_count": 45,
     "metadata": {},
     "output_type": "execute_result"
    }
   ],
   "source": [
    "pc = solve(df)\n",
    "pc"
   ]
  },
  {
   "cell_type": "code",
   "execution_count": 46,
   "metadata": {},
   "outputs": [
    {
     "data": {
      "image/png": "[encoded data removed]",
      "text/latex": [
       "$\\displaystyle \\left( -18, \\  18\\right)$"
      ],
      "text/plain": [
       "(-18, 18)"
      ]
     },
     "execution_count": 46,
     "metadata": {},
     "output_type": "execute_result"
    }
   ],
   "source": [
    "ddf.subs(x,pc[0]),ddf.subs(x,pc[1])"
   ]
  },
  {
   "cell_type": "code",
   "execution_count": 47,
   "metadata": {},
   "outputs": [
    {
     "data": {
      "image/png": "[encoded data removed]",
      "text/latex": [
       "$\\displaystyle \\left( x y, \\  2 x + y = 2400\\right)$"
      ],
      "text/plain": [
       "(x⋅y, 2⋅x + y = 2400)"
      ]
     },
     "execution_count": 47,
     "metadata": {},
     "output_type": "execute_result"
    }
   ],
   "source": [
    "#solucion a problema de granjero y terrenos de malla\n",
    "A = x*y\n",
    "eq1 = Eq(2*x+y,2400)\n",
    "A,eq1"
   ]
  },
  {
   "cell_type": "code",
   "execution_count": 48,
   "metadata": {},
   "outputs": [
    {
     "data": {
      "image/png": "[encoded data removed]",
      "text/latex": [
       "$\\displaystyle \\left[ 2400 - 2 x\\right]$"
      ],
      "text/plain": [
       "[2400 - 2⋅x]"
      ]
     },
     "execution_count": 48,
     "metadata": {},
     "output_type": "execute_result"
    }
   ],
   "source": [
    "y_ = solve(eq1,y)\n",
    "y_"
   ]
  },
  {
   "cell_type": "code",
   "execution_count": 50,
   "metadata": {},
   "outputs": [
    {
     "data": {
      "image/png": "[encoded data removed]",
      "text/latex": [
       "$\\displaystyle x \\left(2400 - 2 x\\right)$"
      ],
      "text/plain": [
       "x⋅(2400 - 2⋅x)"
      ]
     },
     "execution_count": 50,
     "metadata": {},
     "output_type": "execute_result"
    }
   ],
   "source": [
    "f = A.subs(y,y_[0])\n",
    "f"
   ]
  },
  {
   "cell_type": "code",
   "execution_count": 52,
   "metadata": {},
   "outputs": [
    {
     "data": {
      "image/png": "[encoded data removed]",
      "text/latex": [
       "$\\displaystyle y + 1200 = 2400$"
      ],
      "text/plain": [
       "y + 1200 = 2400"
      ]
     },
     "execution_count": 52,
     "metadata": {},
     "output_type": "execute_result"
    }
   ],
   "source": [
    "eq1.subs(x,600)"
   ]
  },
  {
   "cell_type": "code",
   "execution_count": 51,
   "metadata": {},
   "outputs": [
    {
     "data": {
      "image/png": "[encoded data removed]",
      "text/latex": [
       "$\\displaystyle \\left[ 1200\\right]$"
      ],
      "text/plain": [
       "[1200]"
      ]
     },
     "execution_count": 51,
     "metadata": {},
     "output_type": "execute_result"
    }
   ],
   "source": [
    "solve(eq1.subs(x,600),y)"
   ]
  },
  {
   "cell_type": "code",
   "execution_count": 53,
   "metadata": {},
   "outputs": [
    {
     "data": {
      "image/png": "[encoded data removed]",
      "text/latex": [
       "$\\displaystyle \\left( 2 \\pi h r + 2 \\pi r^{2}, \\  \\pi h r^{2} = 1000\\right)$"
      ],
      "text/plain": [
       "⎛               2       2       ⎞\n",
       "⎝2⋅π⋅h⋅r + 2⋅π⋅r , π⋅h⋅r  = 1000⎠"
      ]
     },
     "execution_count": 53,
     "metadata": {},
     "output_type": "execute_result"
    }
   ],
   "source": [
    "#actividad de una lata \n",
    "r,h = symbols(\"r,h\",real=True)\n",
    "A = 2*pi*r**2+2*pi*r*h\n",
    "eq1=Eq(pi*r**2*h,1000)\n",
    "A,eq1\n"
   ]
  },
  {
   "cell_type": "code",
   "execution_count": 54,
   "metadata": {},
   "outputs": [
    {
     "data": {
      "image/png": "[encoded data removed]",
      "text/latex": [
       "$\\displaystyle \\left[ \\frac{1000}{\\pi r^{2}}\\right]$"
      ],
      "text/plain": [
       "⎡1000⎤\n",
       "⎢────⎥\n",
       "⎢   2⎥\n",
       "⎣π⋅r ⎦"
      ]
     },
     "execution_count": 54,
     "metadata": {},
     "output_type": "execute_result"
    }
   ],
   "source": [
    "y_ = solve(eq1,h)\n",
    "y_"
   ]
  },
  {
   "cell_type": "code",
   "execution_count": 55,
   "metadata": {},
   "outputs": [
    {
     "data": {
      "image/png": "[encoded data removed]",
      "text/latex": [
       "$\\displaystyle 2 \\pi r^{2} + \\frac{2000}{r}$"
      ],
      "text/plain": [
       "     2   2000\n",
       "2⋅π⋅r  + ────\n",
       "          r  "
      ]
     },
     "execution_count": 55,
     "metadata": {},
     "output_type": "execute_result"
    }
   ],
   "source": [
    "f = A.subs(h,y_[0])\n",
    "f"
   ]
  },
  {
   "cell_type": "code",
   "execution_count": 59,
   "metadata": {},
   "outputs": [
    {
     "data": {
      "image/png": "[encoded data removed]",
      "text/latex": [
       "$\\displaystyle \\left( 4 \\pi r - \\frac{2000}{r^{2}}, \\  4 \\pi + \\frac{4000}{r^{3}}\\right)$"
      ],
      "text/plain": [
       "⎛        2000        4000⎞\n",
       "⎜4⋅π⋅r - ────, 4⋅π + ────⎟\n",
       "⎜          2           3 ⎟\n",
       "⎝         r           r  ⎠"
      ]
     },
     "execution_count": 59,
     "metadata": {},
     "output_type": "execute_result"
    }
   ],
   "source": [
    "df = f.diff()\n",
    "ddf = df.diff()\n",
    "\n",
    "df,ddf"
   ]
  },
  {
   "cell_type": "code",
   "execution_count": 57,
   "metadata": {},
   "outputs": [
    {
     "data": {
      "image/png": "[encoded data removed]",
      "text/latex": [
       "$\\displaystyle \\left[ \\frac{5 \\cdot 2^{\\frac{2}{3}}}{\\sqrt[3]{\\pi}}\\right]$"
      ],
      "text/plain": [
       "⎡   2/3⎤\n",
       "⎢5⋅2   ⎥\n",
       "⎢──────⎥\n",
       "⎢3 ___ ⎥\n",
       "⎣╲╱ π  ⎦"
      ]
     },
     "execution_count": 57,
     "metadata": {},
     "output_type": "execute_result"
    }
   ],
   "source": [
    "pc = solve(df) #me regresa puntos criticos\n",
    "pc"
   ]
  },
  {
   "cell_type": "code",
   "execution_count": 60,
   "metadata": {},
   "outputs": [
    {
     "data": {
      "image/png": "[encoded data removed]",
      "text/latex": [
       "$\\displaystyle 5.41926070139289$"
      ],
      "text/plain": [
       "5.41926070139289"
      ]
     },
     "execution_count": 60,
     "metadata": {},
     "output_type": "execute_result"
    }
   ],
   "source": [
    "N(pc[0]) #de los puntos criticos solo elijo el primero"
   ]
  },
  {
   "cell_type": "code",
   "execution_count": 62,
   "metadata": {},
   "outputs": [
    {
     "data": {
      "image/png": "[encoded data removed]",
      "text/latex": [
       "$\\displaystyle 12 \\pi$"
      ],
      "text/plain": [
       "12⋅π"
      ]
     },
     "execution_count": 62,
     "metadata": {},
     "output_type": "execute_result"
    }
   ],
   "source": [
    "ddf.subs(r,pc[0])"
   ]
  },
  {
   "cell_type": "code",
   "execution_count": 63,
   "metadata": {},
   "outputs": [
    {
     "data": {
      "image/png": "[encoded data removed]",
      "text/latex": [
       "$\\displaystyle \\frac{10 \\cdot 2^{\\frac{2}{3}}}{\\sqrt[3]{\\pi}}$"
      ],
      "text/plain": [
       "    2/3\n",
       "10⋅2   \n",
       "───────\n",
       " 3 ___ \n",
       " ╲╱ π  "
      ]
     },
     "execution_count": 63,
     "metadata": {},
     "output_type": "execute_result"
    }
   ],
   "source": [
    "solve(eq1.subs(r,pc[0]),h)[0]"
   ]
  },
  {
   "cell_type": "code",
   "execution_count": 72,
   "metadata": {},
   "outputs": [
    {
     "data": {
      "image/png": "[encoded data removed]",
      "text/latex": [
       "$\\displaystyle 10.8385214027858$"
      ],
      "text/plain": [
       "10.8385214027858"
      ]
     },
     "execution_count": 72,
     "metadata": {},
     "output_type": "execute_result"
    }
   ],
   "source": [
    "N (solve(eq1.subs(r,pc[0]),h)[0])"
   ]
  },
  {
   "cell_type": "code",
   "execution_count": 73,
   "metadata": {},
   "outputs": [
    {
     "data": {
      "image/png": "[encoded data removed]",
      "text/latex": [
       "$\\displaystyle \\left( 2 x, \\  2 y, \\  \\left\\{ x : 0, \\  y : 0\\right\\}\\right)$"
      ],
      "text/plain": [
       "(2⋅x, 2⋅y, {x: 0, y: 0})"
      ]
     },
     "execution_count": 73,
     "metadata": {},
     "output_type": "execute_result"
    }
   ],
   "source": [
    "#maximos y minimos de funciones de dos variables\n",
    "f = x**2 + y**2\n",
    "dfx = f.diff(x)\n",
    "dfy = f.diff(y)\n",
    "\n",
    "pc=solve([dfx,dfy],[x,y])\n",
    "dfx,dfy,pc"
   ]
  },
  {
   "cell_type": "code",
   "execution_count": 74,
   "metadata": {},
   "outputs": [
    {
     "data": {
      "image/png": "[encoded data removed]",
      "text/latex": [
       "$\\displaystyle \\left( 4, \\  2\\right)$"
      ],
      "text/plain": [
       "(4, 2)"
      ]
     },
     "execution_count": 74,
     "metadata": {},
     "output_type": "execute_result"
    }
   ],
   "source": [
    "dfxx = dfx.diff(x)\n",
    "dfxy = dfx.diff(y)\n",
    "dfyy = dfy.diff(y)\n",
    "dfyx = dfy.diff(x)\n",
    "D = dfxx*dfyy - dfxy\n",
    "D.subs(pc),dfxx.subs(pc)"
   ]
  },
  {
   "cell_type": "code",
   "execution_count": null,
   "metadata": {},
   "outputs": [],
   "source": []
  }
 ],
 "metadata": {
  "kernelspec": {
   "display_name": "Python 3",
   "language": "python",
   "name": "python3"
  },
  "language_info": {
   "codemirror_mode": {
    "name": "ipython",
    "version": 3
   },
   "file_extension": ".py",
   "mimetype": "text/x-python",
   "name": "python",
   "nbconvert_exporter": "python",
   "pygments_lexer": "ipython3",
   "version": "3.7.4"
  }
 },
 "nbformat": 4,
 "nbformat_minor": 2
}
